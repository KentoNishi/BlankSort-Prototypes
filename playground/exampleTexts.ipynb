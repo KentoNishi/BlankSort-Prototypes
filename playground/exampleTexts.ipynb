{
 "nbformat": 4,
 "nbformat_minor": 2,
 "metadata": {
  "language_info": {
   "name": "python",
   "codemirror_mode": {
    "name": "ipython",
    "version": 3
   },
   "version": "3.7.4-final"
  },
  "orig_nbformat": 2,
  "file_extension": ".py",
  "mimetype": "text/x-python",
  "name": "python",
  "npconvert_exporter": "python",
  "pygments_lexer": "ipython3",
  "version": 3,
  "kernelspec": {
   "name": "python37464bit543297ca316a4fc9adf3109fd6b8c1a3",
   "display_name": "Python 3.7.4 64-bit"
  }
 },
 "cells": [
  {
   "cell_type": "code",
   "execution_count": 1,
   "metadata": {},
   "outputs": [],
   "source": [
    "%run \"C:\\\\Users\\\\kento\\\\Documents\\\\GitHub\\\\BlankSort-Prototypes\\\\blanksort\\\\BlankSort.py\""
   ]
  },
  {
   "cell_type": "code",
   "execution_count": null,
   "metadata": {},
   "outputs": [],
   "source": [
    "blanksort=BlankSort(\"C:\\\\Users\\\\kento\\\\Documents\\\\GitHub\\\\BlankSort-Prototypes\\\\binaries\\\\data\")"
   ]
  },
  {
   "cell_type": "code",
   "execution_count": 5,
   "metadata": {},
   "outputs": [
    {
     "data": {
      "text/plain": "['friend', 'dad', 'cancer', 'kidney', 'surgery']"
     },
     "execution_count": 5,
     "metadata": {},
     "output_type": "execute_result"
    }
   ],
   "source": [
    "blanksort.rank(\"My friend's dad had a surgery last year to remove his kidney cancer.\")"
   ]
  },
  {
   "cell_type": "code",
   "execution_count": null,
   "metadata": {},
   "outputs": [],
   "source": [
    "blanksort.rank(\"\"\"\n",
    "The number of new coronavirus cases nearly tripled in South Korea on Saturday, the fourth consecutive day that tally has seen a major spike. Korea Centers for Disease Control and Prevention reported that the total number of confirmed cases in the country rose to 433 — less than 24 hours after the sum stood at 156.\n",
    "\n",
    "As of Tuesday, the number of confirmed cases was just 31.\n",
    "\n",
    "Many of the new patients Saturday were located in or near Daegu, South Korea's fourth-largest city, where dozens of people linked with a Christian sect known as the Shincheonji Church of Jesus have shown symptoms of respiratory illness. The church, which has about 150,000 adherents, says it has shared with authorities the names of members who may have been exposed to the virus, and it is encouraging them to enter quarantine.\n",
    "\n",
    "Meanwhile, in the nearby city of Gumi, Samsung said it is shutting down a mobile device factory after confirming a case of the coronavirus at the facility. The Korean electronics giant said it is shuttering the factory at least through the weekend.\n",
    "\n",
    "\"The company has placed colleagues who came in contact with the infected employee in self-quarantine and taken steps to have them tested for possible infection,\" the company said in a statement released Saturday.\n",
    "\n",
    "Two patients in South Korea have died from the disease now known as COVID-19, while at least 18 have recovered and been released from care. Thousands more are still undergoing testing for the respiratory disease.\n",
    "\n",
    "All told, there have been more than 77,000 confirmed cases of the coronavirus worldwide, more than 2,300 of which have ended in a patient's death. The vast majority of those cases so far have been reported in mainland China, where the outbreak has its roots in the city of Wuhan — though the number of new confirmed cases there reportedly has been declining recently.\n",
    "\n",
    "But the virus has not stopped at the Chinese border, Japan has seen recent leaps in cases of its own. And health officials are anxiously watching the numbers swell in countries even farther afield.\n",
    "\n",
    "\"The increasing signs of transmission outside China show that the window of opportunity we have for containing this virus is narrowing,\" Tedros Adhanom Ghebreyesus, the director-general of the World Health Organization, told a news conference Saturday.\n",
    "\n",
    "Of particular concern, he said, are \"the number of cases with no clear epidemiological link, such as travel history to China or contact with a confirmed case.\" He described as especially worrisome the disease's spread in Iran, where health officials have confirmed at least 28 cases, 10 of which were reported in the past day.\n",
    "\n",
    "He said the WHO has sent testing kits to Iran. And though just one confirmed case has been reported in Africa — in Egypt, specifically — Tedros warned that because of the robust trading relationship between China and some countries on the continent, health officials should be preparing for its arrival before long.\n",
    "\n",
    "\"Our biggest concern continues to be the potential for COVID-19 to spread in countries with weak health systems,\" he said.\n",
    "\n",
    "\"We know a little bit more about this virus and the disease it causes. We know that more than 80% of patients have mild disease and will recover, but the other 20% of patients have severe or critical disease, ranging from shortness of breath to septic shock and multi-organ failure,\" said Tedros.\n",
    "\n",
    "\"These patients require intensive care, using equipment such as respiratory support machines that are, as you know, in short supply in many African countries.\"\n",
    "\"\"\")"
   ]
  },
  {
   "cell_type": "code",
   "execution_count": 18,
   "metadata": {},
   "outputs": [
    {
     "data": {
      "text/plain": "['passenger',\n 'health',\n 'ship',\n 'sunday',\n 'official',\n 'china',\n 'coronavirus',\n 'american',\n 'country',\n 'westerdam']"
     },
     "execution_count": 18,
     "metadata": {},
     "output_type": "execute_result"
    }
   ],
   "source": [
    "# https://www.msn.com/en-us/news/world/44-americans-on-cruise-ship-docked-in-japan-tested-positive-for-coronavirus-us-health-official-says/ar-BB103dzL\n",
    "blanksort.rank(\"\"\"\n",
    "44 Americans on cruise ship docked in Japan tested positive for coronavirus, U.S. health official says\n",
    "BEIJING —As the rate of new coronavirus cases appears to be slowing in China, thousands of cruise ship passengers who have been exposed to the virus in Japan and Cambodia are posing logistical and public health challenges as officials try to send them home while also prioritizing containment.\n",
    "\n",
    "The U.S. government evacuated hundreds of Americans Sunday night from the Diamond Princess cruise liner, docked in Tokyo and quarantined since Feb. 5, and flew them out of Japan on two chartered planes bound for U.S. military bases — a carefully monitored process that will include another quarantine once they land.\n",
    "\n",
    "Another 44 Americans aboard the Diamond Princess tested positive for coronavirus and will stay at hospitals in Japan as they recover, Anthony Fauci, director of the U.S. National Institute of Allergy and Infectious DiseaPython is an interpreted, high-level, general-purpose programming language. Created by Guido van Rossum and first released in 1991, Python's design philosophy emphasizes code readability with its notable use of significant whitespace. Its language constructs and object-oriented approach aim to help programmers write clear, logical code for small and large-scale projects.[28] Python is dynamically typed and garbage-collected. It supports multiple programming paradigms, including procedural, object-oriented, and functional programming. Python is often described as a \"batteries included\" language due to its comprehensive standard library.[29]ses, told The Washington Post on Sunday. \n",
    "\n",
    "Subscribe to the Post Most newsletter: Today’s most popular stories on The Washington Post\n",
    "\n",
    "At the same time, public health officials scrambled to determine if passengers onboard a different cruise ship, the Westerdam, were exposed to the virus after an 83-year-old woman tested positive days after disembarking in Cambodia. The unexpected finding upended a basic assumption by several governments, including the United States, that the ship was virus-free, which motivated local and U.S. officials to allow passengers to disembark and depart for other cities and countries around the world.\n",
    "\n",
    "As these cruise passengers and other travelers fan out across the globe, infectious disease experts say the dynamic illustrates how the virus could be introduced into new communities in quiet ways. Until now, officials have been aggressively monitoring those who traveled to China and those who have had close contact with an infected person. But the Westerdam oversight demonstrates how travelers without obvious symptoms could slip through screening processes.\n",
    "\n",
    "\"This illustrates there is transmission occurring in unexpected places that we're not aware of,\" said Jeff Duchin, health officer and chief of communicable disease epidemiology section at Seattle and King County health department. \"The virus is moving very quickly and silently and presents a real challenge to containment.\"\n",
    "\n",
    "Duchin noted, however, that the reported cases occurring in places outside China are not large-scale yet. Health officials still need to focus on where they can have the greatest impact on controlling the outbreak, he said, which is in China.\n",
    "\n",
    "\"But increasingly, we are seeing it pop up in other parts of the world and in other settings, and that makes it difficult for us as a country to know when someone who may have been exposed outside of China enters the United States,\" Duchin said.\n",
    "\n",
    "Health experts have warned that the coronavirus is difficult to contain precisely because symptoms are often mild and the coronavirus could replicate inside the human body and infect others for up to 14 days before showing symptoms at all.\n",
    "\n",
    "As of Sunday, the World Health Organization has reported cases in 26 countries, the vast majority of which remain in mainland China. Chinese officials have tallied about 70,500 cases of the illness and 1,770 deaths. Outside of China, the WHO reports about 680 confirmed cases and three deaths.\n",
    "\n",
    "Chinese officials said Sunday that they believed measures taken across the country to control the epidemic were paying off. Several cities in the central region have declared strict “wartime measures” that allow residents to leave their homes only several times a week and upon approval from neighborhood authorities.\n",
    "\n",
    "Guards in Hubei are required to check identification 24 hours a day at the entrance to residential compounds, and driving is banned for all nonessential purposes under new regulations released Sunday.\n",
    "\n",
    "The number of new cases across China, including in Hubei, have been falling, said Chinese National Health Commission spokesman Mi Feng, who noted that doctors in the worst-hit province had broadened their diagnosis criteria for patients suspected of suffering from the disease and were able to treat them more quickly.\n",
    "\n",
    "“The effects of our counter-coronavirus measures in every part of the country are already becoming apparent,” Mi said.\n",
    "\n",
    "In Taiwan, authorities reported the first death on Sunday, a man in his 60s with diabetes and hepatitis but no recent history of overseas travel, according to the state-run Central News Agency. Officials said they were still investigating how the man contracted the virus while living in the central part of Taiwan, which has so far recorded 20 confirmed cases across the island.\n",
    "\n",
    "On Saturday, Cambodia’s health minister issued a public statement urging the public to “not be overly afraid” but to take protective measures. That night, charter flights that were originally scheduled to take Westerdam passengers to Kuala Lumpur were canceled by Malaysian authorities.\n",
    "\n",
    "The Westerdam was believed to have no infections onboard among the 2,200 crew and passengers who were stranded at sea for weeks as countries rejected their entry following a stop in Hong Kong, where they took on hundreds of new passengers.\n",
    "\n",
    "The 83-year-old American woman, whose identity has not been disclosed, was among the relieved passengers who were let off the Westerdam on Friday and welcomed and embraced by Cambodian Prime Minister Hun Sen, who has downplayed the epidemic’s threat and described the decision to bring them onshore as an act of humanitarian goodwill. The ship had been stranded at sea for nearly two weeks and was running low on provisions after it was denied entry to Taiwan, Japan, the Philippines, Thailand and the U.S. territory of Guam.\n",
    "\n",
    "The U.S. ambassador, W. Patrick Murphy, also brought his family on the cruise ship and posed for pictures on Saturday with American passengers. Murphy and other passengers did not appear to be wearing masks in photos shared on the embassy’s Twitter account.\n",
    "\n",
    "Holland America, the cruise operator, said in a statement Sunday that no other passengers or crew who were on the ship have reported any symptoms of the coronavirus. About 1,000 people remain on the ship, with the rest on their way home.\n",
    "\n",
    "Grant Tarling, Holland America’s chief medical officer, said in the statement that the company was working with health experts to contact national health authorities around the world to investigate and follow up with individuals who may have come into contact with the American woman found to carry the virus.\n",
    "\n",
    "In Japan, U.S. passengers were faced with a difficult decision. They could stay on the Diamond Princess until Feb. 19, when the original quarantine is scheduled to lift, but risk being stuck in Cambodia and bound by commercial flight restrictions, or leave on the chartered flights to military bases in Texas and California — only to face another 14-day quarantine.\n",
    "\n",
    "About 400 Americans were on the cruise ship when it docked in Japan, and the Japanese Defense Ministry said 300 of them disembarked Sunday night, the Associated Press reported.\n",
    "\n",
    "The number of coronavirus diagnoses has continued to rise sharply among the 3,700 passengers and crew members originally on board. Japanese Health Minister Katsunobu Kato said early Sunday that the quarantined ship floating near Tokyo has 355 confirmed cases, or about 30 percent of the 1,219 people who have been tested so far. That represents one of the highest infection rates in the world.\n",
    "\n",
    "\"The degree of transmissibility on that cruise ship is essentially akin to being in a hot spot,\" Fauci, who is also a member of the White House task force for the coronavirus, told CBS.\n",
    "\n",
    "Canada, South Korea, Italy and Hong Kong announced Sunday they would also arrange charter flights.\n",
    "\"\"\", listSize=10)"
   ]
  },
  {
   "cell_type": "code",
   "execution_count": 20,
   "metadata": {},
   "outputs": [
    {
     "data": {
      "text/plain": "['passenger',\n 'flight',\n 'american',\n 'china',\n 'coronavirus',\n 'united',\n 'people',\n 'ship',\n 'diamond',\n 'princess']"
     },
     "execution_count": 20,
     "metadata": {},
     "output_type": "execute_result"
    }
   ],
   "source": [
    "blanksort.rank(\"\"\"\n",
    "U.S. Passengers Evacuate Quarantined Cruise Ship in JapanU.S. Passengers Evacuate Quarantined Cruise Ship in Japan\n",
    "Americans boarded two flights chartered by the State Department and headed to the United States after the number of coronavirus cases aboard the Diamond Princess grew to 355.\n",
    "\n",
    "Americans leaving for chartered flights to the United States in Yokohama, south of Tokyo, on Monday morning.\n",
    "Americans leaving for chartered flights to the United States in Yokohama, south of Tokyo, on Monday morning.Credit...Franck Robichon/EPA, via Shutterstock\n",
    "TOKYO — American passengers evacuated a cruise ship that had been quarantined for more than a week in the Japanese port city of Yokohama, after hundreds of people on board fell ill with the coronavirus.\n",
    "\n",
    "The Americans boarded two chartered flights to the United States, and the flights departed Tokyo at 7:05 a.m. Monday, according to a statement by the United States Embassy in Japan.\n",
    "\n",
    "As the passengers prepared to leave the country, Japanese health officials said the number of confirmed coronavirus cases found on the ship, the Diamond Princess, had grown by 70, to 355.\n",
    "\n",
    "“Can’t get off here fast enough,” Sarah Arana, 52, a medical social worker from Paso Robles, Calif., told reporters on Sunday.\n",
    "\n",
    "The American Embassy had recommended that its citizens stay aboard the ship during a 14-day quarantine period. But it suddenly changed course on Saturday, citing “a rapidly evolving situation” as conditions appeared to worsen.\n",
    "\n",
    "American passengers said they were told to prepare to leave the ship at 9 p.m. local time. Their flight was scheduled to depart Haneda Airport in Tokyo at 3 a.m. on Monday. Officials said they would be taken to one of two military air bases in the United States.\n",
    "\n",
    "You have 5 free articles remaining.\n",
    "Subscribe to the Times\n",
    "But the process, taken deck by deck, went slowly. It took several hours to load all passengers on buses to take them to Haneda airport in Tokyo.\n",
    "\n",
    "ImageThe Diamond Princess docked at Daikoku Pier in Yokohama on Sunday.\n",
    "The Diamond Princess docked at Daikoku Pier in Yokohama on Sunday.Credit...Athit Perawongmetha/Reuters\n",
    "On one of the buses, Gay Courter, 75, an American novelist traveling with her husband, Philip, said the passengers were mostly silent. A doctor in a yellow hazmat suit accompanied the group.\n",
    "\n",
    "“Clearing my throat sounds like thunder,” Ms. Courter wrote in an email from the bus.\n",
    "\n",
    "All passengers were given N95 respirators — a heavy-duty mask fitted to the face that filters out 95 percent of smaller air particles — to wear on board the repurposed cargo planes, Ms. Courter said.\n",
    "\n",
    "The Coronavirus Outbreak\n",
    "What do you need to know? Start here.\n",
    "Updated Feb. 10, 2020\n",
    "\n",
    "What is a Coronavirus?\n",
    "It is a novel virus named for the crown-like spikes that protrude from its surface. The coronavirus can infect both animals and people, and can cause a range of respiratory illnesses from the common cold to more dangerous conditions like Severe Acute Respiratory Syndrome, or SARS.\n",
    "How contagious is the virus?\n",
    "According to preliminary research, it seems moderately infectious, similar to SARS, and is possibly transmitted through the air. Scientists have estimated that each infected person could spread it to somewhere between 1.5 and 3.5 people without effective containment measures.\n",
    "Where has the virus spread?\n",
    "The virus originated in Wuhan, China, and has sickened tens of thousands of people in China and at least two dozen other countries.\n",
    "How worried should I be?\n",
    "While the virus is a serious public health concern, the risk to most people outside China remains very low, and seasonal flu is a more immediate threat.\n",
    "Who is working to contain the virus?\n",
    "World Health Organization officials have praised China’s aggressive response to the virus by closing transportation, schools and markets. This week, a team of experts from the W.H.O. arrived in Beijing to offer assistance.\n",
    "What if I’m traveling?\n",
    "The United States and Australia are temporarily denying entry to noncitizens who recently traveled to China and several airlines have canceled flights.\n",
    "How do I keep myself and others safe?\n",
    "Washing your hands frequently is the most important thing you can do, along with staying at home when you’re sick.\n",
    "Some sections of her flight were segregated from others, with those who had tested positive but were not yet showing symptoms sitting in a tented area of the plane, she wrote from on board.\n",
    "\n",
    "Passengers on the charters were told there would be no overhead luggage space, so all carry-ons had to fit under the seats in front of them, and shipped luggage could not exceed 70 pounds. The converted 747 cargo plane could be cold, the officials said, so passengers were advised to shower and dress warmly. They were also told to take their own food.\n",
    "\n",
    "Rachel Torres, 24, who had been on her honeymoon with her husband, Tyler, also 24, said they were trying to clean their stateroom so as not to leave a mess for their cabin steward.\n",
    "\n",
    "“We didn’t sleep much last night,” said Ms. Torres. In preparation for flying, she said, the two were “drinking as much water as we can to hydrate for the flight since we will be wearing masks on the plane.”\n",
    "\n",
    "Including the cases aboard the Diamond Princess, Japan has recorded the highest number of infections from the new coronavirus outside mainland China. Worldwide, more than 70,500 people have been infected, and at least 1,770 have died, almost all in mainland China.\n",
    "\"\"\", listSize=10)"
   ]
  },
  {
   "cell_type": "code",
   "execution_count": 21,
   "metadata": {},
   "outputs": [
    {
     "data": {
      "text/plain": "['conspiracy',\n 'singer',\n 'parent',\n 'college',\n 'investigation',\n 'fine',\n 'charge',\n 'fraud',\n 'admission',\n 'guilty']"
     },
     "execution_count": 21,
     "metadata": {},
     "output_type": "execute_result"
    }
   ],
   "source": [
    "# https://en.wikipedia.org/wiki/2019_college_admissions_bribery_scandal\n",
    "blanksort.rank(\"\"\"\n",
    "In 2019, a scandal arose over a criminal conspiracy to influence undergraduate admissions decisions at several top American universities. The investigation into the conspiracy was nicknamed Operation Varsity Blues.[1][2] The investigation and related charges were made public on March 12, 2019, by United States federal prosecutors. At least 53[3] people have been charged as part of the conspiracy,[4][5] a number of whom have pled guilty or agreed to plead guilty. Thirty-three parents of college applicants are accused of paying more than $25 million between 2011 and 2018 to William Rick Singer, organizer of the scheme, who used part of the money to fraudulently inflate entrance exam test scores and bribe college officials.[6][7]\n",
    "\n",
    "Singer controlled the two firms involved in the scheme, Key Worldwide Foundation and The Edge College & Career Network (also known as \"The Key\"). He pled guilty and cooperated with the Federal Bureau of Investigation (FBI) in gathering incriminating evidence against co-conspirators.[8][9] He said he unethically facilitated college admission for children in more than 750 families.[10] Singer faces up to 65 years in prison, and a fine of $1.25 million.\n",
    "\n",
    "Prosecutors in the Office of the U.S. Attorney for the District of Massachusetts, led by United States Attorney Andrew Lelling, unsealed indictments and complaints for felony conspiracy to commit mail fraud and honest services mail fraud against 50 people, including Singer, who has been \"portrayed [...] as a criminal mastermind\",[11] university staff he bribed, and parents who are alleged to have used bribery and fraud to secure admission for their children to 11 universities.[12][13][14][15] Among the accused parents are prominent business-people and well-known actors.[16][17] Those charges have a maximum term of 20 years in prison, supervised release of three years, and a $250,000 fine. One month later, 16 of the parents were also indicted by prosecutors for alleged felony conspiracy to commit money laundering. This third charge has a maximum sentence of 20 years in prison, supervised release of three years, and a $500,000 fine.\n",
    "\n",
    "The investigation's name, Operation Varsity Blues, comes from a 1999 film of the same name.[1][2] The case is the largest of its kind to be prosecuted by the US Justice Department.[18]\n",
    "\"\"\", listSize=10)"
   ]
  },
  {
   "cell_type": "code",
   "execution_count": 24,
   "metadata": {},
   "outputs": [
    {
     "data": {
      "text/plain": "['apollo', 'mission', 'tank', 'crew', 'lunar']"
     },
     "execution_count": 24,
     "metadata": {},
     "output_type": "execute_result"
    }
   ],
   "source": [
    "blanksort.rank(\"\"\"\n",
    "Apollo 13 was the seventh crewed mission in the Apollo space program and the third meant to land on the Moon. The craft was launched from Kennedy Space Center on April 11, 1970, but the lunar landing was aborted after an oxygen tank in the service module (SM) failed two days into the mission. The crew instead looped around the Moon, and returned safely to Earth on April 17. The mission was commanded by Jim Lovell with Jack Swigert as command module (CM) pilot and Fred Haise as lunar module (LM) pilot. Swigert was a late replacement for Ken Mattingly, who was grounded after exposure to rubella.\n",
    "\n",
    "Accidental ignition of damaged wire insulation inside the oxygen tank as it was being routinely stirred caused an explosion that vented the tank's contents. Without oxygen, needed both for breathing and for generating electric power, the SM's propulsion and life support systems could not operate. The CM's systems had to be shut down to conserve its remaining resources for reentry, forcing the crew to transfer to the LM as a lifeboat. With the lunar landing canceled, mission controllers worked to bring the crew home alive.\n",
    "\n",
    "Although the LM was designed to support two men on the lunar surface for two days, Mission Control in Houston improvised new procedures so it could support three men for four days. The crew experienced great hardship caused by limited power, a chilly and wet cabin and a shortage of potable water. There was a critical need to adapt the CM's cartridges for the carbon dioxide removal system to work in the LM; the crew and mission controllers were successful in improvising a solution. The astronauts' peril briefly renewed interest in the Apollo program; tens of millions watched the splashdown in the South Pacific Ocean by television.\n",
    "\n",
    "An investigative review board found fault with preflight testing of the oxygen tank and the fact that Teflon was placed inside it. The board recommended changes, including minimizing the use of potentially combustible items inside the tank; this was done for Apollo 14. The story of Apollo 13 has been dramatized several times, most notably in the 1995 film Apollo 13.\n",
    "\"\"\", listSize=5)"
   ]
  },
  {
   "cell_type": "code",
   "execution_count": 25,
   "metadata": {},
   "outputs": [
    {
     "data": {
      "text/plain": "['science', 'fair', 'student', 'project', 'display']"
     },
     "execution_count": 25,
     "metadata": {},
     "output_type": "execute_result"
    }
   ],
   "source": [
    "blanksort.rank(\"\"\"\n",
    "A science fair is a competitive event, hosted by schools worldwide. The distinguishing characteristic of a science fair is that project entries employ the scientific method to test a hypothesis.[1] Science fairs are not exhibits or mere displays of projects. Students present their science project results in the form of a report, display board, and/or models that they have created. Science fairs allow students in elementary, middle and high schools to compete in science and/or technology activities.[2] The goal of a science fair is for students to answer a question based on a hypothesis. Students often work on science fair projects in addition to their school work. Therefore, most science fair entries are usually modified versions of existing experiments. Display boards help communicate the nuances of a project to science fair judges, visitors, and other entrants.[3]\n",
    "\n",
    "Science fairs also provide a mechanism for students with intense interest in the sciences to be paired with mentors from nearby colleges and universities, so that they can access to instruction and equipment that the local schools can.\n",
    "\"\"\")"
   ]
  },
  {
   "cell_type": "code",
   "execution_count": 26,
   "metadata": {},
   "outputs": [
    {
     "data": {
      "text/plain": "['machine', 'learning', 'algorithm', 'data', 'task']"
     },
     "execution_count": 26,
     "metadata": {},
     "output_type": "execute_result"
    }
   ],
   "source": [
    "blanksort.rank(\"\"\"\n",
    "Machine learning (ML) is the scientific study of algorithms and statistical models that computer systems use to perform a specific task without using explicit instructions, relying on patterns and inference instead. It is seen as a subset of artificial intelligence. Machine learning algorithms build a mathematical model based on sample data, known as \"training data\", in order to make predictions or decisions without being explicitly programmed to perform the task.[1][2]:2 Machine learning algorithms are used in a wide variety of applications, such as email filtering and computer vision, where it is difficult or infeasible to develop a conventional algorithm for effectively performing the task.\n",
    "\n",
    "Machine learning is closely related to computational statistics, which focuses on making predictions using computers. The study of mathematical optimization delivers methods, theory and application domains to the field of machine learning. Data mining is a field of study within machine learning, and focuses on exploratory data analysis through unsupervised learning.[3][4] In its application across business problems, machine learning is also referred to as predictive analytics.\n",
    "\"\"\")"
   ]
  },
  {
   "cell_type": "code",
   "execution_count": 27,
   "metadata": {},
   "outputs": [
    {
     "data": {
      "text/plain": "['natural', 'language', 'processing', 'generation', 'program']"
     },
     "execution_count": 27,
     "metadata": {},
     "output_type": "execute_result"
    }
   ],
   "source": [
    "blanksort.rank(\"\"\"\n",
    "Natural language processing (NLP) is a subfield of linguistics, computer science, information engineering, and artificial intelligence concerned with the interactions between computers and human (natural) languages, in particular how to program computers to process and analyze large amounts of natural language data.\n",
    "\n",
    "Challenges in natural language processing frequently involve speech recognition, natural language understanding, and natural language generation.\n",
    "\"\"\")"
   ]
  },
  {
   "cell_type": "code",
   "execution_count": 36,
   "metadata": {},
   "outputs": [
    {
     "data": {
      "text/plain": "['python', 'language', 'programming', 'code', 'reference']"
     },
     "execution_count": 36,
     "metadata": {},
     "output_type": "execute_result"
    }
   ],
   "source": [
    "blanksort.rank(\"\"\"\n",
    "Python is an interpreted, high-level, general-purpose programming language. Created by Guido van Rossum and first released in 1991, Python's design philosophy emphasizes code readability with its notable use of significant whitespace. Its language constructs and object-oriented approach aim to help programmers write clear, logical code for small and large-scale projects.[28]\n",
    "\n",
    "Python is dynamically typed and garbage-collected. It supports multiple programming paradigms, including procedural, object-oriented, and functional programming. Python is often described as a \"batteries included\" language due to its comprehensive standard library.[29]\n",
    "\n",
    "Python was conceived in the late 1980s as a successor to the ABC language. Python 2.0, released in 2000, introduced features like list comprehensions and a garbage collection system capable of collecting reference cycles. Python 3.0, released in 2008, was a major revision of the language that is not completely backward-compatible, and much Python 2 code does not run unmodified on Python 3.\n",
    "\n",
    "The Python 2 language, i.e. Python 2.7.x, was officially discontinued on 1 January 2020 (first planned for 2015) after which security patches and other improvements will not be released for it.[30][31] With Python 2's end-of-life, only Python 3.5.x[32] and later are supported.\n",
    "\n",
    "Python interpreters are available for many operating systems. A global community of programmers develops and maintains CPython, an open source[33] reference implementation. A non-profit organization, the Python Software Foundation, manages and directs resources for Python and CPython development.\n",
    "\"\"\")"
   ]
  },
  {
   "cell_type": "code",
   "execution_count": 49,
   "metadata": {},
   "outputs": [
    {
     "data": {
      "text/plain": "['theranos', 'holmes', 'company', 'technology', 'investor']"
     },
     "execution_count": 49,
     "metadata": {},
     "output_type": "execute_result"
    }
   ],
   "source": [
    "blanksort.rank(\"\"\"\n",
    "Theranos was a privately held health technology corporation, initially touted as a breakthrough technology company, but subsequently infamous for its false claims to have devised blood tests that only needed very small amounts of blood and to be able to perform these tests very rapidly using small automated devices the company had developed. Founded in 2003 by then-19-year-old Elizabeth Holmes, Theranos raised more than US$700 million from venture capitalists and private investors, resulting in a $10 billion valuation at its peak in 2013 and 2014. Theranos was hyped to its investors and in the media as a breakthrough in the blood-testing market, where the U.S. diagnostic-lab industry posts annual sales of over $70 billion. Theranos claimed its technology was revolutionary and that its tests required only about 1/100 to 1/1,000 of the amount of blood that would ordinarily be needed and cost far less than existing tests.\n",
    "\n",
    "A turning point came in 2015, when medical research professors John Ioannidis and Eleftherios Diamandis, and investigative reporter John Carreyrou of The Wall Street Journal, questioned the validity of Theranos' technology. The company faced a string of legal and commercial challenges from medical authorities, investors, the U.S. Securities and Exchange Commission (SEC), Centers for Medicare and Medicaid Services (CMS), state attorneys general, former business partners, patients, and others. By June 2016, it was estimated that Holmes's personal net worth had dropped from $4.5 billion to virtually nothing. The company was near bankruptcy until it received a $100 million loan from Fortress Investment Group in 2017 secured by its patents. In September 2018, the company ceased operations.\n",
    "\n",
    "In July 2016, Theranos received sanctions from the CMS, including the revocation of its CLIA certificate and prohibition of Holmes and other company officials from owning or operating a laboratory for two years. Theranos announced it would close its laboratory operations and wellness centers to work on miniature medical testing machines. In April 2017, Theranos said it had reached a settlement agreement with CMS. Following the CMS sanctions, the Walgreens pharmacy chain terminated its contract with Theranos and filed a lawsuit claiming continuous breaches of contract. The suit was settled out of court, with Theranos compensating Walgreens for a much smaller amount than the claimed $140 million, reported at about $30 million. After all efforts to find a buyer went nowhere, what remained of the company dissolved on September 4, 2018.\n",
    "\n",
    "On March 14, 2018, Theranos, Holmes, and former company president Ramesh \"Sunny\" Balwani were charged with \"massive fraud\" by the SEC. One section of the complaint says Holmes falsely claimed in 2014 that the company had annual revenues of $100 million, a thousand times more than the actual figure of $100,000. Theranos and Holmes agreed to resolve the charges against them, with Holmes paying a fine of $500,000, returning the remaining 18.9 million shares that she held, relinquishing her control of the company, and being barred from being an officer or director of any public company for ten years. According to the agreement, if Theranos were acquired or otherwise liquidated, Holmes would not profit from her ownership until more than $750 million was returned to investors and other preferred shareholders. Theranos and Holmes neither admitted nor denied the allegations in the SEC's complaint. Balwani did not settle. On June 15, 2018, the U.S. Attorney for the Northern District of California announced the indictment of Holmes on wire fraud and conspiracy charges. Balwani was also indicted on the same charges. The jury selection for the trial is scheduled to begin on July 28, 2020, with the trial scheduled to commence in August 2020.\n",
    "\"\"\")"
   ]
  },
  {
   "cell_type": "code",
   "execution_count": 38,
   "metadata": {},
   "outputs": [
    {
     "data": {
      "text/plain": "['iphone', 'hardware', 'display', 'model', 'iteration']"
     },
     "execution_count": 38,
     "metadata": {},
     "output_type": "execute_result"
    }
   ],
   "source": [
    "blanksort.rank(\"\"\"\n",
    "The iPhone is a line of smartphones designed and marketed by Apple Inc. All generations of the iPhone use Apple's iOS mobile operating system software. The first-generation iPhone was released on June 29, 2007, and multiple new hardware iterations with new iOS releases have been released since.\n",
    "\n",
    "The user interface is built around the device's multi-touch screen, including a virtual keyboard. The iPhone has Wi-Fi and can connect to cellular networks. An iPhone can take photos, play music, send and receive email, browse the web, send and receive text messages, record notes, perform mathematical calculations, and receive visual voicemail. Shooting video also became a standard feature with the iPhone 3GS. Other functionality, such as video games, reference works, and social networking, can be enabled by downloading mobile apps. As of January 2017, Apple's App Store contained more than 2.2 million applications available for the iPhone.\n",
    "\n",
    "Apple has released twelve generations of iPhone models, each accompanied by one of the twelve major releases of the iOS operating system. The first-generation iPhone was a GSM phone and established design precedents, such as a button placement that has persisted throughout all releases and a screen size maintained for the next four iterations. The iPhone 3G added 3G network support, and was followed by the iPhone 3GS with improved hardware, the iPhone 4 with a metal chassis, higher display resolution and front-facing camera, and the iPhone 4S with improved hardware and the voice assistant Siri. The iPhone 5 featured a taller, 4 inches (100 mm) display and Apple's newly introduced Lightning connector. In 2013, Apple released the iPhone 5S with improved hardware and a fingerprint reader (marketed as 'Touch ID'), and the lower-cost iPhone 5C, a version of the 5 with colored plastic casings instead of metal. They were followed by the larger iPhone 6 and iPhone 6 Plus, with models featuring 4.7-and-5.5-inch (120 and 140 mm) displays. The iPhone 6S was introduced the following year, which featured hardware upgrades and support for pressure-sensitive touch inputs, as well as the iPhone SE—which featured hardware from the 6S but the smaller form factor of the 5S. In 2016, Apple unveiled the iPhone 7 and iPhone 7 Plus, which add water resistance, improved system and graphics performance, a new rear dual-camera setup on the Plus model, and new color options, while removing the 3.5 mm headphone jack found on previous models. The iPhone 8 and iPhone 8 Plus were released in 2017, adding a glass back and an improved screen and camera. The iPhone X was released alongside the iPhone 8 and iPhone 8 Plus, with its highlights being a near bezel-less design, an improved camera and a new facial recognition system, named Face ID, but having no home button, and therefore, no Touch ID. In September 2018, Apple again released 3 new iPhones, which are the iPhone XS, an upgraded version of the since discontinued iPhone X, iPhone XS Max, a larger variant with the series' biggest display as of 2018 and iPhone XR, a lower end version of the iPhone X.\n",
    "\n",
    "The first-generation iPhone was described as \"revolutionary\" and a \"game-changer\" for the mobile phone industry. Subsequent iterations of the iPhone have also garnered praise. The iPhone is one of the most widely used smartphones in the world, and its success has been credited with helping Apple become one of the world's most valuable publicly traded companies.\n",
    "\n",
    "As of November 1, 2018, a total of more than 2.2 billion iPhones had been sold.[1]\n",
    "\"\"\")"
   ]
  },
  {
   "cell_type": "code",
   "execution_count": 40,
   "metadata": {},
   "outputs": [
    {
     "data": {
      "text/plain": "['intelligence', 'machine', 'artificial', 'human', 'field']"
     },
     "execution_count": 40,
     "metadata": {},
     "output_type": "execute_result"
    }
   ],
   "source": [
    "blanksort.rank(\"\"\"\n",
    "In computer science, artificial intelligence (AI), sometimes called machine intelligence, is intelligence demonstrated by machines, in contrast to the natural intelligence displayed by humans. Leading AI textbooks define the field as the study of \"intelligent agents\": any device that perceives its environment and takes actions that maximize its chance of successfully achieving its goals.[1] Colloquially, the term \"artificial intelligence\" is often used to describe machines (or computers) that mimic \"cognitive\" functions that humans associate with the human mind, such as \"learning\" and \"problem solving\".[2]\n",
    "\n",
    "As machines become increasingly capable, tasks considered to require \"intelligence\" are often removed from the definition of AI, a phenomenon known as the AI effect.[3] A quip in Tesler's Theorem says \"AI is whatever hasn't been done yet.\"[4] For instance, optical character recognition is frequently excluded from things considered to be AI[5] , having become a routine technology.[6] Modern machine capabilities generally classified as AI include successfully understanding human speech,[7] competing at the highest level in strategic game systems (such as chess and Go),[8] autonomously operating cars, intelligent routing in content delivery networks, and military simulations.\n",
    "\n",
    "Artificial intelligence was founded as an academic discipline in 1955, and in the years since has experienced several waves of optimism,[9][10] followed by disappointment and the loss of funding (known as an \"AI winter\"),[11][12] followed by new approaches, success and renewed funding.[10][13] For most of its history, AI research has been divided into subfields that often fail to communicate with each other.[14] These sub-fields are based on technical considerations, such as particular goals (e.g. \"robotics\" or \"machine learning\"),[15] the use of particular tools (\"logic\" or artificial neural networks), or deep philosophical differences.[16][17][18] Subfields have also been based on social factors (particular institutions or the work of particular researchers).[14]\n",
    "\n",
    "The traditional problems (or goals) of AI research include reasoning, knowledge representation, planning, learning, natural language processing, perception and the ability to move and manipulate objects.[15] General intelligence is among the field's long-term goals.[19] Approaches include statistical methods, computational intelligence, and traditional symbolic AI. Many tools are used in AI, including versions of search and mathematical optimization, artificial neural networks, and methods based on statistics, probability and economics. The AI field draws upon computer science, information engineering, mathematics, psychology, linguistics, philosophy, and many other fields.\n",
    "\n",
    "The field was founded on the assumption that human intelligence \"can be so precisely described that a machine can be made to simulate it\".[20] This raises philosophical arguments about the nature of the mind and the ethics of creating artificial beings endowed with human-like intelligence. These issues have been explored by myth, fiction and philosophy since antiquity.[21] Some people also consider AI to be a danger to humanity if it progresses unabated.[22][23] Others believe that AI, unlike previous technological revolutions, will create a risk of mass unemployment.[24]\n",
    "\n",
    "In the twenty-first century, AI techniques have experienced a resurgence following concurrent advances in computer power, large amounts of data, and theoretical understanding; and AI techniques have become an essential part of the technology industry, helping to solve many challenging problems in computer science, software engineering and operations research.[25][13]\n",
    "\"\"\")"
   ]
  },
  {
   "cell_type": "code",
   "execution_count": 42,
   "metadata": {},
   "outputs": [
    {
     "data": {
      "text/plain": "['climate', 'change', 'global', 'temperature', 'emission']"
     },
     "execution_count": 42,
     "metadata": {},
     "output_type": "execute_result"
    }
   ],
   "source": [
    "blanksort.rank(\"\"\"\n",
    "Global warming is the long-term rise in the average temperature of the Earth's climate system. It is a major aspect of climate change and has been demonstrated by direct temperature measurements and by measurements of various effects of the warming.[5][6] Global warming and climate change are often used interchangeably.[7] But, more accurately, global warming is the mainly human-caused increase in global surface temperatures and its projected continuation,[8] while climate change includes both global warming and its effects, such as changes in precipitation.[9] While there have been prehistoric periods of global warming,[10] many observed changes since the mid-20th century have been unprecedented over decades to millennia.[5][11]\n",
    "\n",
    "The Intergovernmental Panel on Climate Change (IPCC) Fifth Assessment Report concluded, \"It is extremely likely that human influence has been the dominant cause of the observed warming since the mid-20th century\".[12] The largest human influence has been the emission of greenhouse gases such as carbon dioxide, methane, and nitrous oxide. Climate model projections summarized in the report indicated that, during the 21st century, the global surface temperature is likely to rise a further 0.3 to 1.7 °C (0.5 to 3.1 °F) in a moderate scenario, or as much as 2.6 to 4.8 °C (4.7 to 8.6 °F) in an extreme scenario, depending on the rate of future greenhouse gas emissions and on climate feedback effects.[13] These findings have been recognized by the national science academies of the major industrialized nations[14] and are not disputed by any scientific body of national or international standing.[15][16]\n",
    "\n",
    "The effects of global warming include rising sea levels, regional changes in precipitation, more frequent extreme weather events such as heat waves, and expansion of deserts.[17] Ocean acidification is also caused by greenhouse gas emissions and is commonly grouped with these effects even though it is not driven by temperature. Surface temperature increases are greatest in the Arctic, which have contributed to the retreat of glaciers, permafrost, and sea ice. Overall, higher temperatures bring more rain and snowfall, but for some regions droughts and wildfires increase instead.[18] Climate change threatens to diminish crop yields, harming food security, and rising sea levels may flood coastal infrastructure and force the abandonment of many coastal cities.[19] Environmental impacts include the extinction or relocation of many species as their ecosystems change, most immediately in coral reefs, mountains, and the Arctic.[20]\n",
    "\n",
    "Societal responses to global warming include mitigation by emissions reduction, adaptation to its effects, and possibly climate engineering. Countries work together on climate change under the umbrella of the United Nations Framework Convention on Climate Change (UNFCCC), which entered into force in 1994 and has near-universal membership. The ultimate goal of the convention is to \"prevent dangerous anthropogenic interference with the climate system\".[21] Although the parties to the UNFCCC have agreed that deep cuts in emissions are required[22] and that global warming should be limited to well below 2 °C (3.6 °F) in the Paris Agreement of 2016,[23] the Earth's average surface temperature has already increased by about half this threshold[24] and current pledges by countries to cut emissions are inadequate to limit future warming.[25]\n",
    "\"\"\")"
   ]
  }
 ]
}