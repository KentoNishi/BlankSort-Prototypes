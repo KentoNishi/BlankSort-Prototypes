{
 "nbformat": 4,
 "nbformat_minor": 2,
 "metadata": {
  "language_info": {
   "name": "python",
   "codemirror_mode": {
    "name": "ipython",
    "version": 3
   },
   "version": "3.7.4"
  },
  "orig_nbformat": 2,
  "file_extension": ".py",
  "mimetype": "text/x-python",
  "name": "python",
  "npconvert_exporter": "python",
  "pygments_lexer": "ipython3",
  "version": 3
 },
 "cells": [
  {
   "cell_type": "code",
   "execution_count": 26,
   "metadata": {},
   "outputs": [],
   "source": [
    "%run ./experiments/textrank.py"
   ]
  },
  {
   "cell_type": "code",
   "execution_count": 27,
   "metadata": {},
   "outputs": [
    {
     "name": "stderr",
     "output_type": "stream",
     "text": "[nltk_data] Downloading package wordnet to\n[nltk_data]     C:\\Users\\yoshi\\AppData\\Roaming\\nltk_data...\n[nltk_data]   Package wordnet is already up-to-date!\n[nltk_data] Downloading package stopwords to\n[nltk_data]     C:\\Users\\yoshi\\AppData\\Roaming\\nltk_data...\n[nltk_data]   Package stopwords is already up-to-date!\n"
    }
   ],
   "source": [
    "%run ./notebooks/BlankSort.ipynb"
   ]
  },
  {
   "cell_type": "code",
   "execution_count": 28,
   "metadata": {},
   "outputs": [],
   "source": [
    "text=\"\"\"\n",
    "Sgt. 1st Class Michael James Goble died due to injuries resulting from an explosion on Dec. 22 in the Taliban-contested northern Afghan province of Kunduz. Two Pentagon officials tell NPR Goble's unit was seizing a Taliban weapons cache when he was fatally wounded.\n",
    "\n",
    "It was Goble's third tour of duty in Afghanistan, and he died three weeks before what would have been his 34th birthday.\n",
    "\n",
    "The Westwood, N.J., native is survived by his partner and their young daughter.\n",
    "\n",
    "Goble enlisted in the U.S. Army when he was 18 as a Special Forces candidate and earned a Green Beret three years later. He was most recently assigned to the 1st Battalion, 7th Special Forces Group (Airborne) at Eglin Air Force Base in Florida.\n",
    "\n",
    "\"Sgt. 1st Class Goble was more than just a member of the 7th Special Forces Group,\" the group's commander, Col. John Sannes, said in a statement from the U.S. Army Special Operations Command. \"He was a brother to us and a beloved family member to the Northwest Florida community.\"\n",
    "\n",
    "\"We will honor our brother's sacrifice and provide the best possible care to his family,\" Sannes added.\n",
    "\n",
    "The circumstances of Goble's death were disputed in a tweet by Taliban spokesman Zabidullah Mujahid. He claimed his forces blew up an American vehicle in Kunduz province on Sunday with an improvised explosive device, killing one American and wounding another along with an Afghan commando.\n",
    "\n",
    "Districts in Kunduz province, including its eponymous capital, have come under repeated attacks and been briefly occupied by Taliban forces over the past four years. U.S. aircraft mistakenly bombed a trauma center run by Doctors Without Borders in the city of Kunduz in 2015, killing scores of patients and hospital workers.\n",
    "\n",
    "More than 2,400 American forces have been killed in Afghanistan since the U.S. invaded that nation and overthrew its Taliban-controlled government, which continued harboring al-Qaida leaders after the Sept. 11, 2001 attacks in the U.S.\n",
    "\n",
    "The U.S. resumed peace negotiations with the Taliban in Qatar on Dec. 7. Those talks had been halted by President Trump in a September tweet after a suicide bombing in Kabul killed a U.S. soldier.\n",
    "\n",
    "The U.S. is seeking a firm commitment from the Taliban not to allow Afghanistan to continue as a base of operations for al-Qaida and Islamic State insurgents.\n",
    "\n",
    "The Taliban, which has refused to negotiate directly with an Afghan government it considers illegitimate, is demanding that Washington remove all of the approximately 13,000 American forces still fighting in what has become the longest war in U.S. history.\n",
    "\n",
    "More than eighteen years after being expelled from power, the Taliban continue to dominate in many parts of Afghanistan. More than half of Afghanistan's population is located in districts either controlled or contested by the Taliban.\n",
    "\"\"\""
   ]
  },
  {
   "cell_type": "code",
   "execution_count": 29,
   "metadata": {},
   "outputs": [
    {
     "name": "stderr",
     "output_type": "stream",
     "text": "C:\\Users\\yoshi\\AppData\\Local\\Programs\\Python\\Python37\\lib\\site-packages\\ipykernel_launcher.py:11: DeprecationWarning: Call to deprecated `wv` (Attribute will be removed in 4.0.0, use self instead).\n  # This is added back by InteractiveShellApp.init_path()\nC:\\Users\\yoshi\\AppData\\Local\\Programs\\Python\\Python37\\lib\\site-packages\\ipykernel_launcher.py:21: DeprecationWarning: Call to deprecated `wv` (Attribute will be removed in 4.0.0, use self instead).\n"
    },
    {
     "data": {
      "text/plain": "[['taliban forces', 0.05494318999470644],\n ['american forces', 0.08612049405720817],\n ['special forces group', 0.11166617948938869],\n ['american forces have been killed in afghanistan', 0.12984221541784272],\n ['afghan province of kunduz', 0.1386404921127934]]"
     },
     "execution_count": 29,
     "metadata": {},
     "output_type": "execute_result"
    }
   ],
   "source": [
    "rank(text,5,True)"
   ]
  },
  {
   "cell_type": "code",
   "execution_count": 30,
   "metadata": {},
   "outputs": [
    {
     "data": {
      "text/plain": "[['taliban forces', 0.08637741496542513],\n ['u.s.', 0.07970794567821313],\n ['taliban', 0.07866923132798519],\n ['1st class michael james goble', 0.07780277929371694],\n ['u.s. history', 0.07726189465022139]]"
     },
     "execution_count": 30,
     "metadata": {},
     "output_type": "execute_result"
    }
   ],
   "source": [
    "rankText(text)[:5]"
   ]
  }
 ]
}