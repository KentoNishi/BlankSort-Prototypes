{
 "nbformat": 4,
 "nbformat_minor": 2,
 "metadata": {
  "language_info": {
   "name": "python",
   "codemirror_mode": {
    "name": "ipython",
    "version": 3
   },
   "version": "3.7.4"
  },
  "orig_nbformat": 2,
  "file_extension": ".py",
  "mimetype": "text/x-python",
  "name": "python",
  "npconvert_exporter": "python",
  "pygments_lexer": "ipython3",
  "version": 3
 },
 "cells": [
  {
   "cell_type": "code",
   "execution_count": 457,
   "metadata": {},
   "outputs": [],
   "source": [
    "%run ./experiments/textrank.py"
   ]
  },
  {
   "cell_type": "code",
   "execution_count": 458,
   "metadata": {},
   "outputs": [
    {
     "name": "stderr",
     "output_type": "stream",
     "text": "[nltk_data] Downloading package wordnet to\n[nltk_data]     C:\\Users\\yoshi\\AppData\\Roaming\\nltk_data...\n[nltk_data]   Package wordnet is already up-to-date!\n[nltk_data] Downloading package stopwords to\n[nltk_data]     C:\\Users\\yoshi\\AppData\\Roaming\\nltk_data...\n[nltk_data]   Package stopwords is already up-to-date!\n"
    }
   ],
   "source": [
    "%run ./notebooks/BlankSort.ipynb"
   ]
  },
  {
   "cell_type": "code",
   "execution_count": 459,
   "metadata": {},
   "outputs": [],
   "source": [
    "text=\"\"\"\n",
    "A 60-year-old man is in critical condition after he and an acquaintance were robbed and beaten early on Christmas Eve morning, and the suspects took off with just $1, according to a spokesman with the NYPD.\n",
    "\n",
    "The two were approached by several unidentified males at around 1:25 a.m. Tuesday in the Bronx, a police statement said.\n",
    "\n",
    "Edited surveillance video released by the NYPD captures portions of the violent attack.\n",
    "\n",
    "It shows one attacker swinging one victim to the ground. In another frame, one victim -- whose face is blurred -- is being punched. A third frame shows an assailant approaching with what appears to be a garbage can in hand.\n",
    "\n",
    "Police are investigating the motive but the NYPD spokesman said at this time it appears the suspects were in search of money.\n",
    "\n",
    "The suspects have not been identified, and there have been no arrests.\n",
    "\n",
    "The 60-year-old suffered bleeding in the brain, according to the police report, and was taken to NYC Health & Hospitals/Lincoln in critical condition, the NYPD spokesman told CNN.\n",
    "\n",
    "The 29-year-old refused medical treatment, the police statement said.\n",
    "\"\"\""
   ]
  },
  {
   "cell_type": "code",
   "execution_count": 460,
   "metadata": {},
   "outputs": [
    {
     "data": {
      "text/plain": "[['nypd spokesman', 0.13872090583026875],\n ['one victim', 0.22283086517737027],\n ['critical condition', 0.23724442898916703],\n ['bleeding in the brain', 0.49049859668593854]]"
     },
     "execution_count": 460,
     "metadata": {},
     "output_type": "execute_result"
    }
   ],
   "source": [
    "rank(text,50,True)"
   ]
  },
  {
   "cell_type": "code",
   "execution_count": 461,
   "metadata": {},
   "outputs": [
    {
     "data": {
      "text/plain": "[['nypd', 0.097119351134091],\n ['christmas eve morning', 0.0886022187153961],\n ['several unidentified males', 0.08024022930574942],\n ['critical condition', 0.07998844166421834],\n ['surveillance video', 0.07138260036000285]]"
     },
     "execution_count": 461,
     "metadata": {},
     "output_type": "execute_result"
    }
   ],
   "source": [
    "rankText(text)[:5]"
   ]
  }
 ]
}