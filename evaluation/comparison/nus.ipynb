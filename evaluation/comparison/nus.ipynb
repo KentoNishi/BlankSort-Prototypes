{
 "cells": [
  {
   "cell_type": "code",
   "execution_count": 11,
   "metadata": {},
   "outputs": [],
   "source": [
    "nusPath = \"C:\\\\Users\\\\yoshi\\\\Music\\\\BlankSort-Prototypes\\\\binaries\\\\data\\\\nus\\\\\"\n",
    "%run \"C:\\\\Users\\\\yoshi\\\\Music\\\\BlankSort-Prototypes\\\\blanksort\\\\BlankSort.py\"\n",
    "%run \"C:\\\\Users\\\\yoshi\\\\Music\\\\BlankSort-Prototypes\\\\evaluation\\\\comparison\\\\runExtraction.py\"\n",
    "%run \"C:\\\\Users\\\\yoshi\\\\Music\\\\BlankSort-Prototypes\\\\evaluation\\\\comparison\\\\rakeenv.py\"\n",
    "%run \"C:\\\\Users\\\\yoshi\\\\Music\\\\BlankSort-Prototypes\\\\evaluation\\\\comparison\\\\textrankenv.py\"\n",
    "# Use https://github.com/boudinfl/pke for:\n",
    "# SingleRank, TopicRank, TopicalPageRank, PositionRank, MultipartiteRank"
   ]
  },
  {
   "cell_type": "code",
   "execution_count": 12,
   "metadata": {},
   "outputs": [],
   "source": [
    "def inNB():\n",
    "    return hasattr(__builtins__, \"__IPYTHON__\")"
   ]
  },
  {
   "cell_type": "code",
   "execution_count": 13,
   "metadata": {},
   "outputs": [],
   "source": [
    "def clearConsole():\n",
    "    if inNB():\n",
    "        from IPython.display import clear_output\n",
    "        clear_output(wait=True)\n",
    "    else:\n",
    "        os.system(\"cls\")"
   ]
  },
  {
   "cell_type": "code",
   "execution_count": 14,
   "metadata": {},
   "outputs": [
    {
     "name": "stdout",
     "output_type": "stream",
     "text": "Database path: C:\\Users\\yoshi\\Music\\BlankSort-Prototypes\\binaries\\data\\blanksort.database\n[nltk_data] Downloading package wordnet to\n[nltk_data]     C:\\Users\\yoshi\\AppData\\Roaming\\nltk_data...\n[nltk_data]   Package wordnet is already up-to-date!\n[nltk_data] Downloading package stopwords to\n[nltk_data]     C:\\Users\\yoshi\\AppData\\Roaming\\nltk_data...\n[nltk_data]   Package stopwords is already up-to-date!\n[nltk_data] Downloading package punkt to\n[nltk_data]     C:\\Users\\yoshi\\AppData\\Roaming\\nltk_data...\n[nltk_data]   Package punkt is already up-to-date!\n[nltk_data] Downloading package averaged_perceptron_tagger to\n[nltk_data]     C:\\Users\\yoshi\\AppData\\Roaming\\nltk_data...\n[nltk_data]   Package averaged_perceptron_tagger is already up-to-\n[nltk_data]       date!\n"
    }
   ],
   "source": [
    "blanksort=BlankSort(\"C:\\\\Users\\\\yoshi\\\\Music\\\\BlankSort-Prototypes\\\\binaries\\\\data\",saveGeneratedVectors=True)\n",
    "algoEnvs = [\n",
    "    (Algo(\"BlankSort\"), blanksort),\n",
    "    (Algo(\"RAKE\"), RakeEnv()),\n",
    "    (Algo(\"TextRank\"), TextRankEnv()),\n",
    "]"
   ]
  },
  {
   "cell_type": "code",
   "execution_count": 15,
   "metadata": {},
   "outputs": [],
   "source": [
    "def printMetrics():\n",
    "    allPaths=glob.glob(os.path.join(nusPath,\"*\"))\n",
    "    iteration=0\n",
    "    for path in allPaths:\n",
    "        filename=os.path.basename(path)\n",
    "        with open(os.path.join(path,filename+\".kwd\")) as answer:\n",
    "            answerKey=blanksort.cleanText(answer.read())\n",
    "            answerKey=[word for word in answerKey if word.isalpha() and len(word)>2]\n",
    "            answerKey=set(answerKey)\n",
    "            inputString=open(os.path.join(path,filename+\".txt\")).read()\n",
    "            outputString=runAlgos(\"NUS\",inputString, answerKey, algoEnvs, allPaths)\n",
    "            clearConsole()\n",
    "            iteration+=1\n",
    "            print(\"Iteration \" + str(iteration)+\"\\n\")\n",
    "            print(outputString)"
   ]
  },
  {
   "cell_type": "code",
   "execution_count": 16,
   "metadata": {},
   "outputs": [
    {
     "name": "stdout",
     "output_type": "stream",
     "text": "Iteration 35\n\nNUS Dataset (BlankSort):\nPrecision: 0.2490272373540856\nRecall: 0.2490272373540856\nF1 Score:0.2490272373540856\nAverage Time (ms): 1272.767857142857\n\nNUS Dataset (RAKE):\nPrecision: 0.01327433628318584\nRecall: 0.011673151750972763\nF1 Score:0.012422360248447204\nAverage Time (ms): 27.678571428571427\n\nNUS Dataset (TextRank):\nPrecision: 0.2765957446808511\nRecall: 0.20233463035019456\nF1 Score:0.23370786516853934\nAverage Time (ms): 1562.0535714285713\n\n\nERROR:root:Internal Python error in the inspect module.\nBelow is the traceback from this internal error.\n\nTraceback (most recent call last):\n  File \"C:\\Users\\yoshi\\AppData\\Local\\Programs\\Python\\Python37\\lib\\site-packages\\IPython\\core\\interactiveshell.py\", line 3326, in run_code\n    exec(code_obj, self.user_global_ns, self.user_ns)\n  File \"<ipython-input-16-b231dc8fac80>\", line 1, in <module>\n    printMetrics()\n  File \"<ipython-input-15-fd2f513f281b>\", line 6, in printMetrics\n    with open(os.path.join(path,filename+\".kwd\")) as answer:\nFileNotFoundError: [Errno 2] No such file or directory: 'C:\\\\Users\\\\yoshi\\\\Music\\\\BlankSort-Prototypes\\\\binaries\\\\data\\\\nus\\\\130\\\\130.kwd'\n\nDuring handling of the above exception, another exception occurred:\n\nTraceback (most recent call last):\n  File \"C:\\Users\\yoshi\\AppData\\Local\\Programs\\Python\\Python37\\lib\\site-packages\\IPython\\core\\interactiveshell.py\", line 2040, in showtraceback\n    stb = value._render_traceback_()\nAttributeError: 'FileNotFoundError' object has no attribute '_render_traceback_'\n\nDuring handling of the above exception, another exception occurred:\n\nTraceback (most recent call last):\n  File \"C:\\Users\\yoshi\\AppData\\Local\\Programs\\Python\\Python37\\lib\\site-packages\\IPython\\core\\ultratb.py\", line 1101, in get_records\n    return _fixed_getinnerframes(etb, number_of_lines_of_context, tb_offset)\n  File \"C:\\Users\\yoshi\\AppData\\Local\\Programs\\Python\\Python37\\lib\\site-packages\\IPython\\core\\ultratb.py\", line 319, in wrapped\n    return f(*args, **kwargs)\n  File \"C:\\Users\\yoshi\\AppData\\Local\\Programs\\Python\\Python37\\lib\\site-packages\\IPython\\core\\ultratb.py\", line 353, in _fixed_getinnerframes\n    records = fix_frame_records_filenames(inspect.getinnerframes(etb, context))\n  File \"C:\\Users\\yoshi\\AppData\\Local\\Programs\\Python\\Python37\\lib\\inspect.py\", line 1502, in getinnerframes\n    frameinfo = (tb.tb_frame,) + getframeinfo(tb, context)\n  File \"C:\\Users\\yoshi\\AppData\\Local\\Programs\\Python\\Python37\\lib\\inspect.py\", line 1460, in getframeinfo\n    filename = getsourcefile(frame) or getfile(frame)\n  File \"C:\\Users\\yoshi\\AppData\\Local\\Programs\\Python\\Python37\\lib\\inspect.py\", line 696, in getsourcefile\n    if getattr(getmodule(object, filename), '__loader__', None) is not None:\n  File \"C:\\Users\\yoshi\\AppData\\Local\\Programs\\Python\\Python37\\lib\\inspect.py\", line 742, in getmodule\n    os.path.realpath(f)] = module.__name__\nAttributeError: module has no attribute '__name__'\n"
    },
    {
     "ename": "FileNotFoundError",
     "evalue": "[Errno 2] No such file or directory: 'C:\\\\Users\\\\yoshi\\\\Music\\\\BlankSort-Prototypes\\\\binaries\\\\data\\\\nus\\\\130\\\\130.kwd'",
     "output_type": "error",
     "traceback": [
      "\u001b[1;31m---------------------------------------------------------------------------\u001b[0m"
     ]
    }
   ],
   "source": [
    "printMetrics()"
   ]
  }
 ],
 "metadata": {
  "file_extension": ".py",
  "kernelspec": {
   "display_name": "Python 3.7.4 64-bit",
   "language": "python",
   "name": "python37464bit44bd22c616ce401f9d42e1d4ecdf2300"
  },
  "language_info": {
   "codemirror_mode": {
    "name": "ipython",
    "version": 3
   },
   "file_extension": ".py",
   "mimetype": "text/x-python",
   "name": "python",
   "nbconvert_exporter": "python",
   "pygments_lexer": "ipython3",
   "version": "3.7.4-final"
  },
  "mimetype": "text/x-python",
  "name": "python",
  "npconvert_exporter": "python",
  "pygments_lexer": "ipython3",
  "version": 3
 },
 "nbformat": 4,
 "nbformat_minor": 2
}