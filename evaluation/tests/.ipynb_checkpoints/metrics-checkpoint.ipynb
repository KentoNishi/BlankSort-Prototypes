{
 "cells": [
  {
   "cell_type": "code",
   "execution_count": 1,
   "metadata": {},
   "outputs": [],
   "source": [
    "%run \"C:\\\\Users\\\\yoshi\\\\Music\\\\BlankSort-Prototypes\\\\blanksort\\\\BlankSort.py\"\n",
    "%run \"C:\\\\Users\\\\yoshi\\\\Music\\\\BlankSort-Prototypes\\\\evaluation\\\\src\\\\runExtraction.py\"\n",
    "%run \"C:\\\\Users\\\\yoshi\\\\Music\\\\BlankSort-Prototypes\\\\evaluation\\\\envs\\\\rakeenv.py\"\n",
    "%run \"C:\\\\Users\\\\yoshi\\\\Music\\\\BlankSort-Prototypes\\\\evaluation\\\\envs\\\\textrankenv.py\"\n",
    "%run \"C:\\\\Users\\\\yoshi\\\\Music\\\\BlankSort-Prototypes\\\\evaluation\\\\envs\\\\multipartiterankenv.py\"\n",
    "%run \"C:\\\\Users\\\\yoshi\\\\Music\\\\BlankSort-Prototypes\\\\evaluation\\\\envs\\\\topicrankenv.py\""
   ]
  },
  {
   "cell_type": "code",
   "execution_count": 2,
   "metadata": {},
   "outputs": [],
   "source": [
    "import json\n",
    "paths=[\n",
    "    \"C:\\\\Users\\\\yoshi\\\\Music\\\\BlankSort-Prototypes\\\\binaries\\\\data\\\\inspecData.json\",\n",
    "    \"C:\\\\Users\\\\yoshi\\\\Music\\\\BlankSort-Prototypes\\\\binaries\\\\data\\\\ducData.json\",\n",
    "    \"C:\\\\Users\\\\yoshi\\\\Music\\\\BlankSort-Prototypes\\\\binaries\\\\data\\\\nusData.json\"\n",
    "]\n",
    "tests=[]\n",
    "for path in paths:\n",
    "    tests.append(json.loads(open(path).read())[\"documents\"])"
   ]
  },
  {
   "cell_type": "code",
   "execution_count": 3,
   "metadata": {},
   "outputs": [
    {
     "name": "stdout",
     "output_type": "stream",
     "text": [
      "Database path: C:\\Users\\yoshi\\Music\\BlankSort-Prototypes\\binaries\\data\\blanksort.database\n"
     ]
    },
    {
     "name": "stderr",
     "output_type": "stream",
     "text": [
      "[nltk_data] Downloading package wordnet to\n",
      "[nltk_data]     C:\\Users\\yoshi\\AppData\\Roaming\\nltk_data...\n",
      "[nltk_data]   Package wordnet is already up-to-date!\n",
      "[nltk_data] Downloading package stopwords to\n",
      "[nltk_data]     C:\\Users\\yoshi\\AppData\\Roaming\\nltk_data...\n",
      "[nltk_data]   Package stopwords is already up-to-date!\n",
      "[nltk_data] Downloading package punkt to\n",
      "[nltk_data]     C:\\Users\\yoshi\\AppData\\Roaming\\nltk_data...\n",
      "[nltk_data]   Package punkt is already up-to-date!\n",
      "[nltk_data] Downloading package averaged_perceptron_tagger to\n",
      "[nltk_data]     C:\\Users\\yoshi\\AppData\\Roaming\\nltk_data...\n",
      "[nltk_data]   Package averaged_perceptron_tagger is already up-to-\n",
      "[nltk_data]       date!\n"
     ]
    }
   ],
   "source": [
    "blanksort=BlankSort(\"C:\\\\Users\\\\yoshi\\\\Music\\\\BlankSort-Prototypes\\\\binaries\\\\data\", saveGeneratedVectors=True)\n",
    "algoEnvs = [\n",
    "    Algo(\"BlankSort\", blanksort),\n",
    "    Algo(\"RAKE\", RakeEnv()),\n",
    "    Algo(\"TextRank\", TextRankEnv()),\n",
    "    Algo(\"MultipartiteRank\", MultipartiteRankEnv()),\n",
    "    Algo(\"TopicRank\", TopicRankEnv()),\n",
    "]"
   ]
  },
  {
   "cell_type": "code",
   "execution_count": 4,
   "metadata": {},
   "outputs": [],
   "source": [
    "def clearConsole():\n",
    "    if hasattr(__builtins__, \"__IPYTHON__\"):\n",
    "        from IPython.display import clear_output\n",
    "        clear_output(wait=True)\n",
    "    else:\n",
    "        os.system(\"cls\")\n",
    "os.path.isfile=lambda path:False"
   ]
  },
  {
   "cell_type": "code",
   "execution_count": 5,
   "metadata": {},
   "outputs": [],
   "source": [
    "def runTests(name,tests):\n",
    "    for test in tests:\n",
    "        print(\n",
    "            runAlgos(name,test[\"text\"],test[\"keywords\"],algoEnvs)\n",
    "        )\n",
    "        clearConsole()"
   ]
  },
  {
   "cell_type": "code",
   "execution_count": 6,
   "metadata": {},
   "outputs": [
    {
     "name": "stdout",
     "output_type": "stream",
     "text": [
      "Inspec Dataset (BlankSort):\n",
      "Precision: 0.5008775376555338\n",
      "Recall: 0.48394118093695426\n",
      "F1 Score: 0.49226372834230103\n",
      "Average Time (ms): 9.4375\n",
      "\n",
      "Inspec Dataset (RAKE):\n",
      "Precision: 0.38756419662509173\n",
      "Recall: 0.32087266837083345\n",
      "F1 Score: 0.3510792960691193\n",
      "Average Time (ms): 0.5703125\n",
      "\n",
      "Inspec Dataset (TextRank):\n",
      "Precision: 0.4307622621974893\n",
      "Recall: 0.33696945154513935\n",
      "F1 Score: 0.3781365824564393\n",
      "Average Time (ms): 31.3203125\n",
      "\n",
      "Inspec Dataset (MultipartiteRank):\n",
      "Precision: 0.44176303480731155\n",
      "Recall: 0.38963832856672825\n",
      "F1 Score: 0.41406670252824096\n",
      "Average Time (ms): 507.953125\n",
      "\n",
      "Inspec Dataset (TopicRank):\n",
      "Precision: 0.4289637347548663\n",
      "Recall: 0.40325478980537066\n",
      "F1 Score: 0.4157121611396666\n",
      "Average Time (ms): 505.2578125\n",
      "\n",
      "\n"
     ]
    }
   ],
   "source": [
    "runTests(\"Inspec\",tests[0])"
   ]
  },
  {
   "cell_type": "code",
   "execution_count": 7,
   "metadata": {},
   "outputs": [
    {
     "name": "stdout",
     "output_type": "stream",
     "text": [
      "DUC Dataset (BlankSort):\n",
      "Precision: 0.490544072226182\n",
      "Recall: 0.4751898734177215\n",
      "F1 Score: 0.48274491465980823\n",
      "Average Time (ms): 12.917027729636049\n",
      "\n",
      "DUC Dataset (RAKE):\n",
      "Precision: 0.3595000548185506\n",
      "Recall: 0.30186421173762945\n",
      "F1 Score: 0.32817074086121045\n",
      "Average Time (ms): 0.9342504332755632\n",
      "\n",
      "DUC Dataset (TextRank):\n",
      "Precision: 0.4218069827356451\n",
      "Recall: 0.32782508630609897\n",
      "F1 Score: 0.3689247465002137\n",
      "Average Time (ms): 47.40982452339688\n",
      "\n",
      "DUC Dataset (MultipartiteRank):\n",
      "Precision: 0.4362737444704658\n",
      "Recall: 0.3860198466603734\n",
      "F1 Score: 0.4096111796538119\n",
      "Average Time (ms): 544.1997182488079\n",
      "\n",
      "DUC Dataset (TopicRank):\n",
      "Precision: 0.4221531989825866\n",
      "Recall: 0.3974167107959386\n",
      "F1 Score: 0.4094116530876057\n",
      "Average Time (ms): 530.9519939315128\n",
      "\n",
      "\n"
     ]
    }
   ],
   "source": [
    "runTests(\"DUC\",tests[1])"
   ]
  },
  {
   "cell_type": "code",
   "execution_count": 8,
   "metadata": {},
   "outputs": [
    {
     "name": "stdout",
     "output_type": "stream",
     "text": [
      "NUS Dataset (BlankSort):\n",
      "Precision: 0.48501644396403026\n",
      "Recall: 0.4703061929930198\n",
      "F1 Score: 0.47754806277031775\n",
      "Average Time (ms): 35.16091325109431\n",
      "\n",
      "NUS Dataset (RAKE):\n",
      "Precision: 0.3494401103858197\n",
      "Recall: 0.2936821212729422\n",
      "F1 Score: 0.31914403770887106\n",
      "Average Time (ms): 2.8849980103462\n",
      "\n",
      "NUS Dataset (TextRank):\n",
      "Precision: 0.4176617845941358\n",
      "Recall: 0.32369929305769274\n",
      "F1 Score: 0.3647259843706812\n",
      "Average Time (ms): 165.9557799442897\n",
      "\n",
      "NUS Dataset (MultipartiteRank):\n",
      "Precision: 0.43143080137969236\n",
      "Recall: 0.38229519900053544\n",
      "F1 Score: 0.40537951101806186\n",
      "Average Time (ms): 1095.4232185509554\n",
      "\n",
      "NUS Dataset (TopicRank):\n",
      "Precision: 0.41639623848212803\n",
      "Recall: 0.39217829734071036\n",
      "F1 Score: 0.40392458726347347\n",
      "Average Time (ms): 954.2135250796179\n",
      "\n",
      "\n"
     ]
    }
   ],
   "source": [
    "runTests(\"NUS\",tests[2])"
   ]
  }
 ],
 "metadata": {
  "file_extension": ".py",
  "kernelspec": {
   "display_name": "Python 3.7.4 64-bit",
   "language": "python",
   "name": "python37464bit44bd22c616ce401f9d42e1d4ecdf2300"
  },
  "language_info": {
   "codemirror_mode": {
    "name": "ipython",
    "version": 3
   },
   "file_extension": ".py",
   "mimetype": "text/x-python",
   "name": "python",
   "nbconvert_exporter": "python",
   "pygments_lexer": "ipython3",
   "version": "3.7.4"
  },
  "mimetype": "text/x-python",
  "name": "python",
  "npconvert_exporter": "python",
  "pygments_lexer": "ipython3",
  "version": 3
 },
 "nbformat": 4,
 "nbformat_minor": 2
}
