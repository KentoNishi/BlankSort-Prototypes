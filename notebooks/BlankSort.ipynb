{
 "nbformat": 4,
 "nbformat_minor": 2,
 "metadata": {
  "language_info": {
   "name": "python",
   "codemirror_mode": {
    "name": "ipython",
    "version": 3
   },
   "version": "3.7.4"
  },
  "orig_nbformat": 2,
  "file_extension": ".py",
  "mimetype": "text/x-python",
  "name": "python",
  "npconvert_exporter": "python",
  "pygments_lexer": "ipython3",
  "version": 3
 },
 "cells": [
  {
   "cell_type": "code",
   "execution_count": 66,
   "metadata": {},
   "outputs": [],
   "source": [
    "from gensim.models import fasttext as ft\n",
    "import numpy as np\n",
    "import os\n",
    "import nltk\n",
    "from nltk.corpus import stopwords\n",
    "import operator\n",
    "import re"
   ]
  },
  {
   "cell_type": "code",
   "execution_count": 2,
   "metadata": {},
   "outputs": [
    {
     "name": "stderr",
     "output_type": "stream",
     "text": "[nltk_data] Downloading package wordnet to\n[nltk_data]     C:\\Users\\yoshi\\AppData\\Roaming\\nltk_data...\n[nltk_data]   Package wordnet is already up-to-date!\n[nltk_data] Downloading package stopwords to\n[nltk_data]     C:\\Users\\yoshi\\AppData\\Roaming\\nltk_data...\n[nltk_data]   Package stopwords is already up-to-date!\n"
    },
    {
     "data": {
      "text/plain": "True"
     },
     "execution_count": 2,
     "metadata": {},
     "output_type": "execute_result"
    }
   ],
   "source": [
    "nltk.download('wordnet')\n",
    "nltk.download('stopwords')"
   ]
  },
  {
   "cell_type": "code",
   "execution_count": 3,
   "metadata": {},
   "outputs": [
    {
     "name": "stderr",
     "output_type": "stream",
     "text": "C:\\Users\\yoshi\\AppData\\Local\\Programs\\Python\\Python37\\lib\\site-packages\\gensim\\models\\base_any2vec.py:743: UserWarning: C extension not loaded, training will be slow. Install a C compiler and reinstall gensim for fast training.\n  \"C extension not loaded, training will be slow. \"\n"
    }
   ],
   "source": [
    "# https://fasttext.cc/docs/en/crawl-vectors.html\n",
    "model=ft.load_facebook_model(os.path.join(os.getcwd(),\"binaries/data/cc.en.300.bin\"))"
   ]
  },
  {
   "cell_type": "code",
   "execution_count": 4,
   "metadata": {},
   "outputs": [],
   "source": [
    "window_size=3\n",
    "stemmer = nltk.wordnet.WordNetLemmatizer()"
   ]
  },
  {
   "cell_type": "code",
   "execution_count": 75,
   "metadata": {},
   "outputs": [],
   "source": [
    "def rank(text):\n",
    "    text=text.lower()\n",
    "    stops = set(stopwords.words(\"english\"))\n",
    "    tokens = nltk.word_tokenize(text)\n",
    "    filtered_words = [stemmer.lemmatize(word) for word in tokens if word not in stops]\n",
    "    scores=dict()\n",
    "    counts=dict()\n",
    "    contextSizes=dict()\n",
    "    for i in range(len(filtered_words)):\n",
    "        counts.setdefault(filtered_words[i],0)\n",
    "        counts[filtered_words[i]]+=1\n",
    "        leftBound=max(0,i-window_size)\n",
    "        rightBound=min(len(filtered_words)-1,i+window_size)\n",
    "        contextSize=rightBound-leftBound+1\n",
    "        contextSizes.setdefault(filtered_words[i],contextSize)\n",
    "        contextSizes[filtered_words[i]]=max(contextSizes[filtered_words[i]],contextSize)\n",
    "        for j in range(i+1,rightBound+1):\n",
    "            similarity_score=model.wv.similarity(filtered_words[i],filtered_words[j])\n",
    "            similarity_score=(similarity_score+1)/2.0\n",
    "            scores.setdefault(filtered_words[i],similarity_score)\n",
    "            scores.setdefault(filtered_words[j],similarity_score)\n",
    "            scores[filtered_words[i]]=min(scores[filtered_words[i]],similarity_score)\n",
    "            scores[filtered_words[j]]=min(scores[filtered_words[j]],similarity_score)\n",
    "    wordScores=list(map(list, scores.items()))\n",
    "    for i in range(len(wordScores)):\n",
    "        wordScores[i][1]=wordScores[i][1]/(counts[wordScores[i][0]]*contextSizes[wordScores[i][0]])\n",
    "    wordScores=sorted(wordScores, key = lambda x: x[1])#,reverse=True)\n",
    "    filteredWordScores=[]\n",
    "    for word in wordScores:\n",
    "        filtered=re.sub('[^a-zA-Z]', '', word[0])\n",
    "        if(len(filtered)>2):\n",
    "            filteredWordScores.append([filtered,word[1]])\n",
    "    return filteredWordScores"
   ]
  },
  {
   "cell_type": "code",
   "execution_count": 76,
   "metadata": {},
   "outputs": [
    {
     "data": {
      "text/plain": "[['microsoft', 0.01766083509262119],\n ['software', 0.024401567920687654],\n ['product', 0.03671004609870059],\n ['computer', 0.037528068625501225],\n ['office', 0.037954039339508326],\n ['world', 0.03898749394076211],\n ['corporation', 0.040575627769742696],\n ['largest', 0.07049686554819345],\n ['known', 0.07064334037048477],\n ['revenue', 0.07106005606640663],\n ['explorer', 0.07256370822765998],\n ['browser', 0.07279257848858833],\n ['operating', 0.07289374406848635],\n ['license', 0.07314764295837708],\n ['washington', 0.07317898542221103],\n ['develops', 0.07317898542221103],\n ['tablet', 0.07325364662600416],\n ['hardware', 0.07331339030393533],\n ['support', 0.07364704433296408],\n ['measured', 0.07371565060956138],\n ['series', 0.07409222290984221],\n ['suite', 0.07427640418921198],\n ['flagship', 0.07434462888964585],\n ['headquartered', 0.07440065246607576],\n ['one', 0.07440400230033058],\n ['maker', 0.07464030704327992],\n ['surface', 0.07479857041367463],\n ['best', 0.07493438332208566],\n ['xbox', 0.0751488586621625],\n ['also', 0.07627485053879875],\n ['line', 0.076377734541893],\n ['web', 0.07667428255081177],\n ['system', 0.0767743821655001],\n ['manufacture', 0.07678693958691188],\n ['service', 0.07727713829704694],\n ['sell', 0.07763871284467834],\n ['personal', 0.07832383577312742],\n ['window', 0.07853403368166514],\n ['redmond', 0.07892620616725513],\n ['consumer', 0.07922555825539998],\n ['game', 0.07997391372919083],\n ['internet', 0.08051323039191109],\n ['multinational', 0.08135912993124553],\n ['electronics', 0.08184478219066348],\n ['console', 0.08387900995356697],\n ['american', 0.08680076121042173],\n ['valuable', 0.08912642548481624],\n ['company', 0.10905491039156914]]"
     },
     "execution_count": 76,
     "metadata": {},
     "output_type": "execute_result"
    }
   ],
   "source": [
    "rank(\"Machine learning (ML) is the scientific study of algorithms and statistical models that computer systems use to perform a specific task without using explicit instructions, relying on patterns and inference instead. It is seen as a subset of artificial intelligence. Machine learning algorithms build a mathematical model based on sample data, known as training data, in order to make predictions or decisions without being explicitly programmed to perform the task. Machine learning algorithms are used in a wide variety of applications, such as email filtering and computer vision, where it is difficult or infeasible to develop a conventional algorithm for effectively performing the task.\")"
   ]
  }
 ]
}