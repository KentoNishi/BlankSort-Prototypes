{
 "nbformat": 4,
 "nbformat_minor": 2,
 "metadata": {
  "language_info": {
   "name": "python",
   "codemirror_mode": {
    "name": "ipython",
    "version": 3
   },
   "version": "3.7.4"
  },
  "orig_nbformat": 2,
  "file_extension": ".py",
  "mimetype": "text/x-python",
  "name": "python",
  "npconvert_exporter": "python",
  "pygments_lexer": "ipython3",
  "version": 3
 },
 "cells": [
  {
   "cell_type": "code",
   "execution_count": 1,
   "metadata": {},
   "outputs": [],
   "source": [
    "import pandas as pd\n",
    "import os\n",
    "import requests\n",
    "import re\n",
    "import nltk\n",
    "from nltk.corpus import stopwords\n",
    "import pickle"
   ]
  },
  {
   "cell_type": "code",
   "execution_count": 2,
   "metadata": {},
   "outputs": [],
   "source": [
    "rawData = pd.read_csv(os.path.join(os.path.join(os.path.abspath('../binaries'),\"data\"),\"Medium.csv\"),header=0, usecols=[\"title\", \"publicationtags\",\"text\",\"language\"]) #nrows=1000"
   ]
  },
  {
   "cell_type": "code",
   "execution_count": 3,
   "metadata": {},
   "outputs": [],
   "source": [
    "rawData=rawData.to_dict('records')"
   ]
  },
  {
   "cell_type": "code",
   "execution_count": 4,
   "metadata": {},
   "outputs": [],
   "source": [
    "words = set(nltk.corpus.words.words())"
   ]
  },
  {
   "cell_type": "code",
   "execution_count": 5,
   "metadata": {},
   "outputs": [],
   "source": [
    "def formatData(string,**attributes):\n",
    "    #string=re.sub(r\"[^\\w\\s]\", ' ', string)\n",
    "    #string=re.sub(r'(\\n.?)+', r'\\n', string)\n",
    "    string=re.sub(r'^https?:\\/\\/.*', '', string, flags=re.MULTILINE)\n",
    "    string='\\n'.join([x for x in string.splitlines() if x.strip()])\n",
    "    # string=\" \".join(w for w in nltk.wordpunct_tokenize(string) if w.lower() in words or not w.isalpha())\n",
    "    # string=re.sub(r'\\s([?,.!\"](?:\\s|$))', r'\\1', string)\n",
    "    #string=string.lower()\n",
    "    noNumbers=attributes[\"noNumbers\"] if \"noNumbers\" in attributes else True\n",
    "    noStopWords=attributes[\"noStopWords\"] if \"noStopWords\" in attributes else True\n",
    "    return string"
   ]
  },
  {
   "cell_type": "code",
   "execution_count": 6,
   "metadata": {},
   "outputs": [],
   "source": [
    "formattedData=[]\n",
    "titles=dict()\n",
    "for article in rawData:\n",
    "    try:\n",
    "        if(\"en\" in article[\"language\"]):\n",
    "            formattedArticle=dict()\n",
    "            formattedArticle[\"title\"]=formatData(article[\"title\"])\n",
    "            formattedArticle[\"text\"]=formatData(article[\"text\"])\n",
    "            formattedArticle[\"tags\"]=list(set(re.sub(r\"[^\\w\\s]\", ' ', str(article[\"publicationtags\"])).lower().split()))\n",
    "            if formattedArticle[\"title\"] not in titles:\n",
    "                formattedData.append(formattedArticle)\n",
    "                titles[formattedArticle[\"title\"]]=True\n",
    "    except Exception:\n",
    "        pass"
   ]
  },
  {
   "cell_type": "code",
   "execution_count": 7,
   "metadata": {},
   "outputs": [],
   "source": [
    "names=[\"formattedData\"]\n",
    "for name in names:\n",
    "    with open(os.path.join(os.path.join(os.path.abspath('../binaries'),\"pickles\"),name+\".pickle\"), \"wb\") as f:\n",
    "        pickle.dump(globals()[name], f)"
   ]
  }
 ]
}