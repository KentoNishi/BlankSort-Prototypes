{
 "cells": [
  {
   "cell_type": "code",
   "execution_count": 1,
   "metadata": {},
   "outputs": [],
   "source": [
    "%run \"C:\\\\Users\\\\yoshi\\\\Music\\\\BlankSort-Prototypes\\\\blanksort\\\\BlankSort.py\"\n",
    "%run \"C:\\\\Users\\\\yoshi\\\\Music\\\\BlankSort-Prototypes\\\\evaluation\\\\src\\\\runExtraction.py\"\n",
    "%run \"C:\\\\Users\\\\yoshi\\\\Music\\\\BlankSort-Prototypes\\\\evaluation\\\\envs\\\\rakeenv.py\"\n",
    "%run \"C:\\\\Users\\\\yoshi\\\\Music\\\\BlankSort-Prototypes\\\\evaluation\\\\envs\\\\textrankenv.py\"\n",
    "%run \"C:\\\\Users\\\\yoshi\\\\Music\\\\BlankSort-Prototypes\\\\evaluation\\\\envs\\\\multipartiterankenv.py\"\n",
    "%run \"C:\\\\Users\\\\yoshi\\\\Music\\\\BlankSort-Prototypes\\\\evaluation\\\\envs\\\\topicrankenv.py\""
   ]
  },
  {
   "cell_type": "code",
   "execution_count": 2,
   "metadata": {},
   "outputs": [],
   "source": [
    "import json\n",
    "paths=[\n",
    "    \"C:\\\\Users\\\\yoshi\\\\Music\\\\BlankSort-Prototypes\\\\binaries\\\\data\\\\inspecData.json\",\n",
    "    \"C:\\\\Users\\\\yoshi\\\\Music\\\\BlankSort-Prototypes\\\\binaries\\\\data\\\\ducData.json\",\n",
    "    \"C:\\\\Users\\\\yoshi\\\\Music\\\\BlankSort-Prototypes\\\\binaries\\\\data\\\\nusData.json\"\n",
    "]\n",
    "tests=[]\n",
    "for path in paths:\n",
    "    tests.append(json.loads(open(path).read())[\"documents\"])"
   ]
  },
  {
   "cell_type": "code",
   "execution_count": 3,
   "metadata": {},
   "outputs": [],
   "source": [
    "def clearConsole():\n",
    "    if hasattr(__builtins__, \"__IPYTHON__\"):\n",
    "        from IPython.display import clear_output\n",
    "        clear_output(wait=True)\n",
    "    else:\n",
    "        os.system(\"cls\")\n",
    "os.path.isfile=lambda path:False"
   ]
  },
  {
   "cell_type": "code",
   "execution_count": 4,
   "metadata": {},
   "outputs": [],
   "source": [
    "def runTests(name,tests):\n",
    "    blanksort=BlankSort(\"C:\\\\Users\\\\yoshi\\\\Music\\\\BlankSort-Prototypes\\\\binaries\\\\data\", saveGeneratedVectors=True)\n",
    "    algoEnvs = [\n",
    "        Algo(\"BlankSort\", blanksort),\n",
    "        Algo(\"RAKE\", RakeEnv()),\n",
    "        Algo(\"TextRank\", TextRankEnv()),\n",
    "        Algo(\"MultipartiteRank\", MultipartiteRankEnv()),\n",
    "        Algo(\"TopicRank\", TopicRankEnv()),\n",
    "    ]\n",
    "    for test in tests:\n",
    "        print(\n",
    "            runAlgos(name,test[\"text\"],test[\"keywords\"],algoEnvs)\n",
    "        )\n",
    "        clearConsole()"
   ]
  },
  {
   "cell_type": "code",
   "execution_count": 5,
   "metadata": {},
   "outputs": [
    {
     "name": "stdout",
     "output_type": "stream",
     "text": [
      "Inspec Dataset (BlankSort):\n",
      "Precision: 0.5008775376555338\n",
      "Recall: 0.48394118093695426\n",
      "F1 Score: 0.49226372834230103\n",
      "Average Time (ms): 9.359375\n",
      "\n",
      "Inspec Dataset (RAKE):\n",
      "Precision: 0.38756419662509173\n",
      "Recall: 0.32087266837083345\n",
      "F1 Score: 0.3510792960691193\n",
      "Average Time (ms): 0.640625\n",
      "\n",
      "Inspec Dataset (TextRank):\n",
      "Precision: 0.4307622621974893\n",
      "Recall: 0.33696945154513935\n",
      "F1 Score: 0.3781365824564393\n",
      "Average Time (ms): 31.5859375\n",
      "\n",
      "Inspec Dataset (MultipartiteRank):\n",
      "Precision: 0.44176303480731155\n",
      "Recall: 0.38963832856672825\n",
      "F1 Score: 0.41406670252824096\n",
      "Average Time (ms): 508.515625\n",
      "\n",
      "Inspec Dataset (TopicRank):\n",
      "Precision: 0.4289637347548663\n",
      "Recall: 0.40325478980537066\n",
      "F1 Score: 0.4157121611396666\n",
      "Average Time (ms): 504.9375\n",
      "\n",
      "\n"
     ]
    }
   ],
   "source": [
    "runTests(\"Inspec\",tests[0])"
   ]
  },
  {
   "cell_type": "code",
   "execution_count": 6,
   "metadata": {},
   "outputs": [
    {
     "name": "stdout",
     "output_type": "stream",
     "text": [
      "DUC Dataset (BlankSort):\n",
      "Precision: 0.38978288633461045\n",
      "Recall: 0.3874079715663874\n",
      "F1 Score: 0.3885918003565062\n",
      "Average Time (ms): 36.475243506493506\n",
      "\n",
      "DUC Dataset (RAKE):\n",
      "Precision: 0.11611876988335101\n",
      "Recall: 0.11119573495811119\n",
      "F1 Score: 0.1136039424199196\n",
      "Average Time (ms): 2.8916396103896105\n",
      "\n",
      "DUC Dataset (TextRank):\n",
      "Precision: 0.3250611674239776\n",
      "Recall: 0.2361005331302361\n",
      "F1 Score: 0.27352941176470585\n",
      "Average Time (ms): 153.9163961038961\n",
      "\n",
      "DUC Dataset (MultipartiteRank):\n",
      "Precision: 0.3828539514102206\n",
      "Recall: 0.3495665476797552\n",
      "F1 Score: 0.3654538184726109\n",
      "Average Time (ms): 782.064332247557\n",
      "\n",
      "DUC Dataset (TopicRank):\n",
      "Precision: 0.35460614152202935\n",
      "Recall: 0.3386027536970933\n",
      "F1 Score: 0.3464197208817008\n",
      "Average Time (ms): 704.5500814332247\n",
      "\n",
      "\n"
     ]
    }
   ],
   "source": [
    "runTests(\"DUC\",tests[1])"
   ]
  },
  {
   "cell_type": "code",
   "execution_count": 7,
   "metadata": {},
   "outputs": [
    {
     "name": "stdout",
     "output_type": "stream",
     "text": [
      "NUS Dataset (BlankSort):\n",
      "Precision: 0.3177570093457944\n",
      "Recall: 0.3177570093457944\n",
      "F1 Score: 0.3177570093457944\n",
      "Average Time (ms): 286.3567073170732\n",
      "\n",
      "NUS Dataset (RAKE):\n",
      "Precision: 0.04409317803660566\n",
      "Recall: 0.038102084831056794\n",
      "F1 Score: 0.040879290397223295\n",
      "Average Time (ms): 24.923780487804876\n",
      "\n",
      "NUS Dataset (TextRank):\n",
      "Precision: 0.27540650406504064\n",
      "Recall: 0.19482386772106397\n",
      "F1 Score: 0.22821052631578947\n",
      "Average Time (ms): 1516.6158536585365\n",
      "\n",
      "NUS Dataset (MultipartiteRank):\n",
      "Precision: 0.287044220325834\n",
      "Recall: 0.26599568655643424\n",
      "F1 Score: 0.27611940298507465\n",
      "Average Time (ms): 7380.030487804878\n",
      "\n",
      "NUS Dataset (TopicRank):\n",
      "Precision: 0.23927765237020315\n",
      "Recall: 0.22861250898634075\n",
      "F1 Score: 0.23382352941176468\n",
      "Average Time (ms): 5686.509146341464\n",
      "\n",
      "\n"
     ]
    }
   ],
   "source": [
    "runTests(\"NUS\",tests[2])"
   ]
  }
 ],
 "metadata": {
  "file_extension": ".py",
  "kernelspec": {
   "display_name": "Python 3.7.4 64-bit",
   "language": "python",
   "name": "python37464bit44bd22c616ce401f9d42e1d4ecdf2300"
  },
  "language_info": {
   "codemirror_mode": {
    "name": "ipython",
    "version": 3
   },
   "file_extension": ".py",
   "mimetype": "text/x-python",
   "name": "python",
   "nbconvert_exporter": "python",
   "pygments_lexer": "ipython3",
   "version": "3.7.4"
  },
  "mimetype": "text/x-python",
  "name": "python",
  "npconvert_exporter": "python",
  "pygments_lexer": "ipython3",
  "version": 3
 },
 "nbformat": 4,
 "nbformat_minor": 2
}
