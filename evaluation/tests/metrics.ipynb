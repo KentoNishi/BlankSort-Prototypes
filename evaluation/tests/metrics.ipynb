{
 "nbformat": 4,
 "nbformat_minor": 2,
 "metadata": {
  "language_info": {
   "name": "python",
   "codemirror_mode": {
    "name": "ipython",
    "version": 3
   },
   "version": "3.7.4-final"
  },
  "orig_nbformat": 2,
  "file_extension": ".py",
  "mimetype": "text/x-python",
  "name": "python",
  "npconvert_exporter": "python",
  "pygments_lexer": "ipython3",
  "version": 3,
  "kernelspec": {
   "name": "python37464bit44bd22c616ce401f9d42e1d4ecdf2300",
   "display_name": "Python 3.7.4 64-bit"
  }
 },
 "cells": [
  {
   "cell_type": "code",
   "execution_count": null,
   "metadata": {},
   "outputs": [],
   "source": [
    "%run \"C:\\\\Users\\\\yoshi\\\\Music\\\\BlankSort-Prototypes\\\\blanksort\\\\BlankSort.py\"\n",
    "%run \"C:\\\\Users\\\\yoshi\\\\Music\\\\BlankSort-Prototypes\\\\evaluation\\\\src\\\\runExtraction.py\"\n",
    "%run \"C:\\\\Users\\\\yoshi\\\\Music\\\\BlankSort-Prototypes\\\\evaluation\\\\envs\\\\rakeenv.py\"\n",
    "%run \"C:\\\\Users\\\\yoshi\\\\Music\\\\BlankSort-Prototypes\\\\evaluation\\\\envs\\\\textrankenv.py\"\n",
    "%run \"C:\\\\Users\\\\yoshi\\\\Music\\\\BlankSort-Prototypes\\\\evaluation\\\\envs\\\\multipartiterankenv.py\"\n",
    "%run \"C:\\\\Users\\\\yoshi\\\\Music\\\\BlankSort-Prototypes\\\\evaluation\\\\envs\\\\topicrankenv.py\""
   ]
  },
  {
   "cell_type": "code",
   "execution_count": null,
   "metadata": {},
   "outputs": [],
   "source": [
    "import json\n",
    "paths=[\n",
    "    \"C:\\\\Users\\\\yoshi\\\\Music\\\\BlankSort-Prototypes\\\\binaries\\\\data\\\\ducData.json\"\n",
    "    \"C:\\\\Users\\\\yoshi\\\\Music\\\\BlankSort-Prototypes\\\\binaries\\\\data\\\\inspecData.json\"\n",
    "    \"C:\\\\Users\\\\yoshi\\\\Music\\\\BlankSort-Prototypes\\\\binaries\\\\data\\\\nusData.json\"\n",
    "]\n",
    "tests=[]\n",
    "for path in paths:\n",
    "    tests.append(json.loads(open(\"C:\\\\Users\\\\yoshi\\\\Music\\\\BlankSort-Prototypes\\\\binaries\\\\data\\\\nusData.json\").read())[\"documents\"])"
   ]
  },
  {
   "cell_type": "code",
   "execution_count": null,
   "metadata": {},
   "outputs": [],
   "source": [
    "blanksort=BlankSort(\"C:\\\\Users\\\\yoshi\\\\Music\\\\BlankSort-Prototypes\\\\binaries\\\\data\", saveGeneratedVectors=True)\n",
    "algoEnvs = [\n",
    "    Algo(\"BlankSort\", blanksort),\n",
    "    Algo(\"RAKE\", RakeEnv()),\n",
    "    Algo(\"TextRank\", TextRankEnv()),\n",
    "    Algo(\"MultipartiteRank\", MultipartiteRankEnv()),\n",
    "    Algo(\"TopicRank\", TopicRankEnv()),\n",
    "]"
   ]
  },
  {
   "cell_type": "code",
   "execution_count": null,
   "metadata": {},
   "outputs": [],
   "source": [
    "for test in tests[0]:\n",
    "    print(\n",
    "        runAlgos(\"Inspec\",test[\"text\"],set(test[\"keywords\"]),algoEnvs)\n",
    "    )"
   ]
  }
 ]
}