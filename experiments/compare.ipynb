{
 "nbformat": 4,
 "nbformat_minor": 2,
 "metadata": {
  "language_info": {
   "name": "python",
   "codemirror_mode": {
    "name": "ipython",
    "version": 3
   },
   "version": "3.7.4"
  },
  "orig_nbformat": 2,
  "file_extension": ".py",
  "mimetype": "text/x-python",
  "name": "python",
  "npconvert_exporter": "python",
  "pygments_lexer": "ipython3",
  "version": 3
 },
 "cells": [
  {
   "cell_type": "code",
   "execution_count": 531,
   "metadata": {},
   "outputs": [],
   "source": [
    "%run ./experiments/textrank.py"
   ]
  },
  {
   "cell_type": "code",
   "execution_count": 532,
   "metadata": {},
   "outputs": [
    {
     "name": "stderr",
     "output_type": "stream",
     "text": "[nltk_data] Downloading package wordnet to\n[nltk_data]     C:\\Users\\yoshi\\AppData\\Roaming\\nltk_data...\n[nltk_data]   Package wordnet is already up-to-date!\n[nltk_data] Downloading package stopwords to\n[nltk_data]     C:\\Users\\yoshi\\AppData\\Roaming\\nltk_data...\n[nltk_data]   Package stopwords is already up-to-date!\n"
    }
   ],
   "source": [
    "%run ./notebooks/BlankSort.ipynb"
   ]
  },
  {
   "cell_type": "code",
   "execution_count": 533,
   "metadata": {},
   "outputs": [],
   "source": [
    "text=\"\"\"\n",
    "Military cyber officials are developing information warfare tactics that could be deployed against Russian oligarchs and officials if the country attempts to interfere in the 2020 US presidential election, current and former US officials told The Washington Post. The officials told The Post that one option being looked at by US Cyber Command would target senior Russian leadership and elites in an effort to show that their personal data could be hit if election interference did not stop. The option would not take aim at Russian President Vladimir Putin because that would be considered too provocative, the officials said, according to the Post.\n",
    "\n",
    "Another option involves a disinformation campaign designed to exploit contention within the Russian government as well as operations that would expose malicious behavior, the newspaper reported.\n",
    "\n",
    "Elissa Smith, a spokeswoman for the Department of Defense, told CNN in a statement that the department doesn't comment on \"cyberspace operations, planning or intelligence,\" but she did say the Defense Department and US Cyber Command were \"generating insights for the US government to provide\" to state and local governments.\n",
    "\n",
    "The department, Smith said, also is, \"when authorized, enabling the Department of Homeland Security's efforts to secure critical infrastructure; enabling the Federal Bureau of Investigation's efforts to counter malign foreign influence in our elections; and, when authorized, taking action to disrupt or degrade malicious nation-state cyber actors ability to interfere in US elections.\"\n",
    "\n",
    "The secretive Cyber Command operation is part of a broader effort that includes the Departments of State, Justice and Homeland Security, the CIA and the National Security Agency, an administration official previously told CNN.\n",
    "\n",
    "The information warfare tactics being contemplated build on Cyber Command's previous efforts to target Russian operates believed to be attempting to influence the 2018 midterm elections.\n",
    "\n",
    "Those operations -- aimed at making meddling more difficult -- included sending phishing messages to suspected cyber operatives and messaging from public officials to make clear the US would not tolerate interference.\n",
    "\n",
    "Paul Nakasone, chief of the US Cyber Command, has been part of the drive to integrate military operations with cyber-offense operations, the Post reported.\n",
    "\n",
    "\"In 332 days, our nation is going to elect a president,\" Nakasone said at a defense forum earlier this month, according to The Post. \"We can't let up. This is something we cannot be episodic about. The defense of our nation, the defense of our elections, is something that will be every single day for as long as I can see into the future.\"\n",
    "\"\"\""
   ]
  },
  {
   "cell_type": "code",
   "execution_count": 536,
   "metadata": {},
   "outputs": [
    {
     "data": {
      "text/plain": "[['cyber', 0.057179876536663087],\n ['official', 0.0672272646444894],\n ['election', 0.07845701831614688],\n ['department', 0.07984709118803342],\n ['operation', 0.08012759725430182],\n ['russian', 0.08795514171943068],\n ['defense', 0.09174836192147008],\n ['effort', 0.09373085883645607],\n ['post', 0.09584921239210027],\n ['command', 0.09602357777101653],\n ['told', 0.1173759545199573],\n ['option', 0.1553156488364385],\n ['government', 0.16560308333663715],\n ['security', 0.1767682491225146],\n ['nakasone', 0.22038815814136928],\n ['smith', 0.22847401886247098],\n ['reported', 0.22872038528190128],\n ['enabling', 0.23172758130489715],\n ['military', 0.23455150332301855],\n ['warfare', 0.23871964661936676],\n ['cnn', 0.2394923861803753],\n ['target', 0.23964981894407952],\n ['authorized', 0.24229676915066584],\n ['day', 0.24253910183906555],\n ['interfere', 0.24359173181333713],\n ['interference', 0.244073001401765],\n ['president', 0.24422482321304934],\n ['nation', 0.24481117381115577],\n ['tactic', 0.24694302092705453],\n ['homeland', 0.24886763561517],\n ['influence', 0.2540603461010115],\n ['malicious', 0.2582461160740682],\n ['future', 0.43999994080513716],\n ['elissa', 0.4444827510576163],\n ['contemplated', 0.44594503566622734],\n ['episodic', 0.44835339593035833],\n ['comment', 0.4581577507779002],\n ['hit', 0.46022929517286165],\n ['operates', 0.4602839771957536],\n ['paul', 0.4605995202437043],\n ['cyberoffense', 0.4628846222268684],\n ['previous', 0.4651862982926624]]"
     },
     "execution_count": 536,
     "metadata": {},
     "output_type": "execute_result"
    }
   ],
   "source": [
    "rank(text,None,False)"
   ]
  },
  {
   "cell_type": "code",
   "execution_count": 535,
   "metadata": {},
   "outputs": [
    {
     "data": {
      "text/plain": "[['us cyber command', 0.10187750344203102],\n ['former us officials', 0.09853111138003857],\n ['us elections', 0.08904736517415932],\n ['cyber command', 0.08184186128023499],\n ['us', 0.08047879310823439],\n ['officials', 0.07670299122284063],\n ['public officials', 0.07590708568009781],\n ['senior russian leadership', 0.07318568393559143],\n ['russian president vladimir putin', 0.07225636630905108],\n ['russian oligarchs', 0.07062262611654527]]"
     },
     "execution_count": 535,
     "metadata": {},
     "output_type": "execute_result"
    }
   ],
   "source": [
    "rankText(text)[:10]"
   ]
  }
 ]
}