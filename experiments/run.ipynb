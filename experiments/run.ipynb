{
 "nbformat": 4,
 "nbformat_minor": 2,
 "metadata": {
  "language_info": {
   "name": "python",
   "codemirror_mode": {
    "name": "ipython",
    "version": 3
   },
   "version": "3.7.4-final"
  },
  "orig_nbformat": 2,
  "file_extension": ".py",
  "mimetype": "text/x-python",
  "name": "python",
  "npconvert_exporter": "python",
  "pygments_lexer": "ipython3",
  "version": 3,
  "kernelspec": {
   "name": "python37464bit44bd22c616ce401f9d42e1d4ecdf2300",
   "display_name": "Python 3.7.4 64-bit"
  }
 },
 "cells": [
  {
   "cell_type": "code",
   "execution_count": 85,
   "metadata": {},
   "outputs": [],
   "source": [
    "# from BlankSort import *\n",
    "%run \"C:\\\\Users\\\\yoshi\\\\Music\\\\BlankSort-Prototypes\\\\src\\\\BlankSort.py\""
   ]
  },
  {
   "cell_type": "code",
   "execution_count": 86,
   "metadata": {},
   "outputs": [
    {
     "name": "stdout",
     "output_type": "stream",
     "text": "Database path: C:\\Users\\yoshi\\Music\\BlankSort-Prototypes\\binaries\\data\\blanksort.database\n[nltk_data] Downloading package wordnet to\n[nltk_data]     C:\\Users\\yoshi\\AppData\\Roaming\\nltk_data...\n[nltk_data]   Package wordnet is already up-to-date!\n[nltk_data] Downloading package stopwords to\n[nltk_data]     C:\\Users\\yoshi\\AppData\\Roaming\\nltk_data...\n[nltk_data]   Package stopwords is already up-to-date!\n[nltk_data] Downloading package punkt to\n[nltk_data]     C:\\Users\\yoshi\\AppData\\Roaming\\nltk_data...\n[nltk_data]   Package punkt is already up-to-date!\n[nltk_data] Downloading package averaged_perceptron_tagger to\n[nltk_data]     C:\\Users\\yoshi\\AppData\\Roaming\\nltk_data...\n[nltk_data]   Package averaged_perceptron_tagger is already up-to-\n[nltk_data]       date!\n"
    }
   ],
   "source": [
    "blanksort=BlankSort(\"C:\\\\Users\\\\yoshi\\\\Music\\\\BlankSort-Prototypes\\\\binaries\\\\data\")"
   ]
  },
  {
   "cell_type": "code",
   "execution_count": 87,
   "metadata": {},
   "outputs": [
    {
     "data": {
      "text/plain": "['peacock', 'service', 'nbcuniversal', 'streaming', 'company']"
     },
     "execution_count": 87,
     "metadata": {},
     "output_type": "execute_result"
    }
   ],
   "source": [
    "blanksort.rank(\"\"\"\n",
    "The streaming field is becoming increasingly crowded and consumers have more choices than ever if they're willing to pay for them. So what better way to stand out from your competitors than by giving away your streaming service free? That seems to be NBCUniversal's play with Peacock, the streaming service it unveiled on Thursday.\n",
    "\n",
    "At an event in New York, the media and investors were treated to the first look at Peacock from inside the company's headquarters with a presentation from Studio 8H — the home of \"Saturday Night Live.\" NBCUniversal pulled out all the stops to make sure it had the public's attention by constructing a giant topiary in the shape of peacock outside of 30 Rockefeller Plaza for the occasion.\n",
    "\n",
    "The service will have ad-supported and ad-free options.\n",
    "\n",
    "\"Peacock Free\" will be a free, ad-supported option for any consumer regardless of cable provider. \"Free\" will provide 7,500 hours of programming that includes movies and classic shows.\n",
    "\n",
    "\"Peacock Premium\" will come with 15,000 hours of programming including original Peacock series, early viewings of NBC's late-night shows and sports like the Premier League. It will be free to Comcast and Cox subscribers, and it will cost $4.99 to everyone else. \"Premium\" without ads will cost $9.99. That's a little bit more than Disney+ and Apple TV+ but a little less than Netflix and WarnerMedia's upcoming service, HBO Max.\n",
    "\n",
    "The service from the Comcast-owned company will launch on April 15 for Comcast's X1 and Flex customers and will debut nationally three months later on July 15, NBCUniversal announced at its media event for the service on Thursday.\n",
    "\n",
    "NBC said it expects to reach 30 million to 35 million active accounts by 2024.\n",
    "\n",
    "Peacock's interface will include \"Virtual Channels\" of curated content such as \"Art House\" for independent films and \"SNL Vault\" which will host every season of the \"Saturday Night Live.\"\n",
    "\n",
    "Peacock is debuting in the middle of the streaming wars which has media companies like Disney and WarnerMedia, CNN's parent company, competing with the likes of Netflix and Amazon. Like its rivals, Peacock will be competing for your time, money and attention. The streaming service's biggest pitch is that it relies heavily on easily digestible sitcoms and TV comedies, which have become popular fodder for streamers in recent years.\n",
    "\n",
    "The service will host comedies like \"Cheers,\" \"Frasier\" and \"Will & Grace.\" It will also be the exclusive streaming home for popular sitcoms like \"Parks and Recreation\" and \"The Office.\" The mockumentary starring Steve Carrell has been a viewership juggernaut for Netflix and will leave the service for Peacock in 2021.\n",
    "\n",
    "Peacock will be home to Telemundo series as well as NBC hit shows like \"This is Us\" and \"Law and Order: SVU.\" Users will be able to watch new episodes the day after they air.\n",
    "\n",
    "The Universal part of NBCUniversal will also have a presence on Peacock.\n",
    "\n",
    "Blockbusters from Universal Pictures such as movies in the Fast & Furious and Jason Bourne franchises will be on the service. So will classics like \"Jurassic Park,\" \"E.T. the Extra Terrestrial,\" \"Field of Dreams\" and \"Big Lebowski.\" Peacock will also have content for kids from DreamWorks Animation such as \"Shrek\" and films from the Despicable Me franchise.\n",
    "\n",
    "There will be an original crime series called \"Dr. Death\" starring Alec Baldwin and \"Brave New World,\" another original series, this one starring Demi Moore based on Aldous Huxley's dystopian novel. Reboots of old favorites like \"Saved By the Bell\" and \"Battlestar Galactica\" will also live exclusively on the service.\n",
    "\n",
    "Altogether Peacock will offer more than 600 films and 400 series.\n",
    "\n",
    "It also appears that Peacock is leveraging NBC's news department and the company's sports rights.\n",
    "\n",
    "Premier League soccer will be on the service starting in August and the Ryder Cup golf tournament will debut in September. The opening and closing ceremonies of the Tokyo Olympics as well as three daily highlight shows about the competition.\n",
    "\n",
    "NBC News will also be a part of Peacock. \"NBC Nightly News with Lester Holt\" and \"Meet the Press with Chuck Todd\" will be on the service alongside live news.\n",
    "\n",
    "Behind the scenes, Peacock and NBCUniversal have gone through some executive shifts since announcing the service last September.\n",
    "\n",
    "Bonnie Hammer, NBCUniversal's former chairman of direct-to-consumer and digital enterprises, who was overseeing the launch, shifted to a new role as chairman of NBCUniversal Content Studios in October. Most notably, Steve Burke, NBCUniversal's CEO, announced in December that he was stepping down to a chairman role on January 1 and would retire in August.\n",
    "\n",
    "Jeff Shell, the chairman of NBC's film and network TV businesses, stepped in for Burke and will now lead the company into its new streaming era.\n",
    "\"\"\")"
   ]
  }
 ]
}