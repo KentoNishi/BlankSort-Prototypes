{
 "nbformat": 4,
 "nbformat_minor": 2,
 "metadata": {
  "language_info": {
   "name": "python",
   "codemirror_mode": {
    "name": "ipython",
    "version": 3
   },
   "version": "3.7.4-final"
  },
  "orig_nbformat": 2,
  "file_extension": ".py",
  "mimetype": "text/x-python",
  "name": "python",
  "npconvert_exporter": "python",
  "pygments_lexer": "ipython3",
  "version": 3,
  "kernelspec": {
   "name": "python37464bit543297ca316a4fc9adf3109fd6b8c1a3",
   "display_name": "Python 3.7.4 64-bit"
  }
 },
 "cells": [
  {
   "cell_type": "code",
   "execution_count": 10,
   "metadata": {},
   "outputs": [],
   "source": [
    "# from BlankSort import *\n",
    "%run BlankSort.py"
   ]
  },
  {
   "cell_type": "code",
   "execution_count": 11,
   "metadata": {},
   "outputs": [
    {
     "name": "stderr",
     "output_type": "stream",
     "text": "[nltk_data] Downloading package wordnet to\n[nltk_data]     C:\\Users\\kento\\AppData\\Roaming\\nltk_data...\n[nltk_data]   Package wordnet is already up-to-date!\n[nltk_data] Downloading package stopwords to\n[nltk_data]     C:\\Users\\kento\\AppData\\Roaming\\nltk_data...\n[nltk_data]   Package stopwords is already up-to-date!\n[nltk_data] Downloading package punkt to\n[nltk_data]     C:\\Users\\kento\\AppData\\Roaming\\nltk_data...\n[nltk_data]   Package punkt is already up-to-date!\n"
    }
   ],
   "source": [
    "blanksort=BlankSort(\"../binaries/data\")"
   ]
  },
  {
   "cell_type": "code",
   "execution_count": 12,
   "metadata": {},
   "outputs": [
    {
     "name": "stdout",
     "output_type": "stream",
     "text": "['hour', 'hackathon', 'school', 'student', 'participate', 'opportunity', 'create', 'impact', 'community', 'hour', 'event', 'student', 'skill', 'level', 'programming', 'solve', 'real', 'coding', 'hackathon', 'includes', 'workshop', 'student', 'started', 'project', 'plenty', 'time', 'develop', 'project']\n"
    }
   ],
   "source": [
    "blanksort.rank(\"VikeHacks is a 12 hour hackathon, where high school students that participate have an opportunity to create a lasting impact in their community. It is a 12 hour event where students of all skill levels in programming come to solve real world problems through the use of coding. A hackathon includes workshops to help students get started on their projects as well as plenty of working time to work on and develop projects.\")"
   ]
  }
 ]
}