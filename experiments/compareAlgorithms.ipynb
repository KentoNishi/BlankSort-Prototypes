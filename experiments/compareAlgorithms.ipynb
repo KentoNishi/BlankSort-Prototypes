{
 "nbformat": 4,
 "nbformat_minor": 2,
 "metadata": {
  "language_info": {
   "name": "python",
   "codemirror_mode": {
    "name": "ipython",
    "version": 3
   },
   "version": "3.7.4"
  },
  "orig_nbformat": 2,
  "file_extension": ".py",
  "mimetype": "text/x-python",
  "name": "python",
  "npconvert_exporter": "python",
  "pygments_lexer": "ipython3",
  "version": 3
 },
 "cells": [
  {
   "cell_type": "code",
   "execution_count": 1,
   "metadata": {},
   "outputs": [],
   "source": [
    "%run ../experiments/textRankAlgorithm.py"
   ]
  },
  {
   "cell_type": "code",
   "execution_count": 2,
   "metadata": {},
   "outputs": [
    {
     "name": "stderr",
     "output_type": "stream",
     "text": "Using TensorFlow backend.\nC:\\Users\\yoshi\\AppData\\Local\\Programs\\Python\\Python37\\lib\\site-packages\\tensorflow\\python\\framework\\dtypes.py:516: FutureWarning: Passing (type, 1) or '1type' as a synonym of type is deprecated; in a future version of numpy, it will be understood as (type, (1,)) / '(1,)type'.\n  _np_qint8 = np.dtype([(\"qint8\", np.int8, 1)])\nC:\\Users\\yoshi\\AppData\\Local\\Programs\\Python\\Python37\\lib\\site-packages\\tensorflow\\python\\framework\\dtypes.py:517: FutureWarning: Passing (type, 1) or '1type' as a synonym of type is deprecated; in a future version of numpy, it will be understood as (type, (1,)) / '(1,)type'.\n  _np_quint8 = np.dtype([(\"quint8\", np.uint8, 1)])\nC:\\Users\\yoshi\\AppData\\Local\\Programs\\Python\\Python37\\lib\\site-packages\\tensorflow\\python\\framework\\dtypes.py:518: FutureWarning: Passing (type, 1) or '1type' as a synonym of type is deprecated; in a future version of numpy, it will be understood as (type, (1,)) / '(1,)type'.\n  _np_qint16 = np.dtype([(\"qint16\", np.int16, 1)])\nC:\\Users\\yoshi\\AppData\\Local\\Programs\\Python\\Python37\\lib\\site-packages\\tensorflow\\python\\framework\\dtypes.py:519: FutureWarning: Passing (type, 1) or '1type' as a synonym of type is deprecated; in a future version of numpy, it will be understood as (type, (1,)) / '(1,)type'.\n  _np_quint16 = np.dtype([(\"quint16\", np.uint16, 1)])\nC:\\Users\\yoshi\\AppData\\Local\\Programs\\Python\\Python37\\lib\\site-packages\\tensorflow\\python\\framework\\dtypes.py:520: FutureWarning: Passing (type, 1) or '1type' as a synonym of type is deprecated; in a future version of numpy, it will be understood as (type, (1,)) / '(1,)type'.\n  _np_qint32 = np.dtype([(\"qint32\", np.int32, 1)])\nC:\\Users\\yoshi\\AppData\\Local\\Programs\\Python\\Python37\\lib\\site-packages\\tensorflow\\python\\framework\\dtypes.py:525: FutureWarning: Passing (type, 1) or '1type' as a synonym of type is deprecated; in a future version of numpy, it will be understood as (type, (1,)) / '(1,)type'.\n  np_resource = np.dtype([(\"resource\", np.ubyte, 1)])\nC:\\Users\\yoshi\\AppData\\Local\\Programs\\Python\\Python37\\lib\\site-packages\\tensorboard\\compat\\tensorflow_stub\\dtypes.py:541: FutureWarning: Passing (type, 1) or '1type' as a synonym of type is deprecated; in a future version of numpy, it will be understood as (type, (1,)) / '(1,)type'.\n  _np_qint8 = np.dtype([(\"qint8\", np.int8, 1)])\nC:\\Users\\yoshi\\AppData\\Local\\Programs\\Python\\Python37\\lib\\site-packages\\tensorboard\\compat\\tensorflow_stub\\dtypes.py:542: FutureWarning: Passing (type, 1) or '1type' as a synonym of type is deprecated; in a future version of numpy, it will be understood as (type, (1,)) / '(1,)type'.\n  _np_quint8 = np.dtype([(\"quint8\", np.uint8, 1)])\nC:\\Users\\yoshi\\AppData\\Local\\Programs\\Python\\Python37\\lib\\site-packages\\tensorboard\\compat\\tensorflow_stub\\dtypes.py:543: FutureWarning: Passing (type, 1) or '1type' as a synonym of type is deprecated; in a future version of numpy, it will be understood as (type, (1,)) / '(1,)type'.\n  _np_qint16 = np.dtype([(\"qint16\", np.int16, 1)])\nC:\\Users\\yoshi\\AppData\\Local\\Programs\\Python\\Python37\\lib\\site-packages\\tensorboard\\compat\\tensorflow_stub\\dtypes.py:544: FutureWarning: Passing (type, 1) or '1type' as a synonym of type is deprecated; in a future version of numpy, it will be understood as (type, (1,)) / '(1,)type'.\n  _np_quint16 = np.dtype([(\"quint16\", np.uint16, 1)])\nC:\\Users\\yoshi\\AppData\\Local\\Programs\\Python\\Python37\\lib\\site-packages\\tensorboard\\compat\\tensorflow_stub\\dtypes.py:545: FutureWarning: Passing (type, 1) or '1type' as a synonym of type is deprecated; in a future version of numpy, it will be understood as (type, (1,)) / '(1,)type'.\n  _np_qint32 = np.dtype([(\"qint32\", np.int32, 1)])\nC:\\Users\\yoshi\\AppData\\Local\\Programs\\Python\\Python37\\lib\\site-packages\\tensorboard\\compat\\tensorflow_stub\\dtypes.py:550: FutureWarning: Passing (type, 1) or '1type' as a synonym of type is deprecated; in a future version of numpy, it will be understood as (type, (1,)) / '(1,)type'.\n  np_resource = np.dtype([(\"resource\", np.ubyte, 1)])\nWARNING: Logging before flag parsing goes to stderr.\nW1220 22:44:41.783255  7696 deprecation_wrapper.py:119] From C:\\Users\\yoshi\\AppData\\Local\\Programs\\Python\\Python37\\lib\\site-packages\\keras\\backend\\tensorflow_backend.py:517: The name tf.placeholder is deprecated. Please use tf.compat.v1.placeholder instead.\n\nW1220 22:44:41.800210  7696 deprecation_wrapper.py:119] From C:\\Users\\yoshi\\AppData\\Local\\Programs\\Python\\Python37\\lib\\site-packages\\keras\\backend\\tensorflow_backend.py:4138: The name tf.random_uniform is deprecated. Please use tf.random.uniform instead.\n\nW1220 22:44:41.856060  7696 deprecation_wrapper.py:119] From C:\\Users\\yoshi\\AppData\\Local\\Programs\\Python\\Python37\\lib\\site-packages\\keras\\backend\\tensorflow_backend.py:174: The name tf.get_default_session is deprecated. Please use tf.compat.v1.get_default_session instead.\n\nW1220 22:44:41.856060  7696 deprecation_wrapper.py:119] From C:\\Users\\yoshi\\AppData\\Local\\Programs\\Python\\Python37\\lib\\site-packages\\keras\\backend\\tensorflow_backend.py:181: The name tf.ConfigProto is deprecated. Please use tf.compat.v1.ConfigProto instead.\n\nW1220 22:44:41.857058  7696 deprecation_wrapper.py:119] From C:\\Users\\yoshi\\AppData\\Local\\Programs\\Python\\Python37\\lib\\site-packages\\keras\\backend\\tensorflow_backend.py:186: The name tf.Session is deprecated. Please use tf.compat.v1.Session instead.\n\nW1220 22:44:43.823414  7696 deprecation_wrapper.py:119] From C:\\Users\\yoshi\\AppData\\Local\\Programs\\Python\\Python37\\lib\\site-packages\\keras\\optimizers.py:790: The name tf.train.Optimizer is deprecated. Please use tf.compat.v1.train.Optimizer instead.\n\nW1220 22:44:43.829372  7696 deprecation.py:323] From C:\\Users\\yoshi\\AppData\\Local\\Programs\\Python\\Python37\\lib\\site-packages\\tensorflow\\python\\ops\\nn_impl.py:180: add_dispatch_support.<locals>.wrapper (from tensorflow.python.ops.array_ops) is deprecated and will be removed in a future version.\nInstructions for updating:\nUse tf.where in 2.0, which has the same broadcast rule as np.where\n__________________________________________________________________________________________________\nLayer (type)                    Output Shape         Param #     Connected to\n==================================================================================================\ninput_1 (InputLayer)            (None, 1)            0\n__________________________________________________________________________________________________\ninput_2 (InputLayer)            (None, 1)            0\n__________________________________________________________________________________________________\nembedding (Embedding)           (None, 1, 300)       7500000     input_1[0][0]\n                                                                 input_2[0][0]\n__________________________________________________________________________________________________\nreshape_1 (Reshape)             (None, 300, 1)       0           embedding[0][0]\n__________________________________________________________________________________________________\nreshape_2 (Reshape)             (None, 300, 1)       0           embedding[1][0]\n__________________________________________________________________________________________________\ndot_2 (Dot)                     (None, 1, 1)         0           reshape_1[0][0]\n                                                                 reshape_2[0][0]\n__________________________________________________________________________________________________\nreshape_3 (Reshape)             (None, 1)            0           dot_2[0][0]\n__________________________________________________________________________________________________\ndense_1 (Dense)                 (None, 1)            2           reshape_3[0][0]\n==================================================================================================\nTotal params: 7,500,002\nTrainable params: 7,500,002\nNon-trainable params: 0\n__________________________________________________________________________________________________\n[nltk_data] Downloading package stopwords to\n[nltk_data]     C:\\Users\\yoshi\\AppData\\Roaming\\nltk_data...\n[nltk_data]   Package stopwords is already up-to-date!\n"
    }
   ],
   "source": [
    "%run ../notebooks/runModel.ipynb"
   ]
  },
  {
   "cell_type": "code",
   "execution_count": 3,
   "metadata": {},
   "outputs": [],
   "source": [
    "formattedData=None\n",
    "names = [\"formattedData\"]\n",
    "for name in names:\n",
    "    with open(os.path.join(os.path.join(os.path.abspath(('.' if inNB() else '')+'./binaries'), \"pickles\"), name+\".pickle\"), \"rb\") as f:\n",
    "        globals()[name] = pickle.load(f)"
   ]
  },
  {
   "cell_type": "code",
   "execution_count": 4,
   "metadata": {},
   "outputs": [],
   "source": [
    "from tabulate import tabulate\n",
    "import random\n",
    "import itertools"
   ]
  },
  {
   "cell_type": "code",
   "execution_count": 5,
   "metadata": {},
   "outputs": [],
   "source": [
    "def unique(sequence):\n",
    "    words=[]\n",
    "    for phrase in sequence:\n",
    "        for word in phrase[0].split():\n",
    "            words.append(word)\n",
    "    seen = set()\n",
    "    return [x for x in words if not (x in seen or seen.add(x))]"
   ]
  },
  {
   "cell_type": "code",
   "execution_count": 6,
   "metadata": {},
   "outputs": [
    {
     "name": "stdout",
     "output_type": "stream",
     "text": "Random Variable\nTextRank :['continuous', 'random', 'variable', 'discrete', 'numbers', 'probability', 'density', 'function', 'probablity', 'mass', 'different', 'values', 'numeric', 'cummulative']\nBlankSort:['variable', 'random', 'x', 'density', 'function', 'xn', 'probability', 'pmf', 'p', 'continuous', 'discrete', 'example', 'values', 'pdf']\nTags:['data', 'probability', 'statistics', 'analysis', 'science', 'modelling', 'statistical']\nBlankSort vs Tags: 1/5\nTextRank vs Tags: 2/5\nBlankSort vs TextRank: 5/5\nCurrent score: 5/5 = 1.0\n\n\nMulti-Class Text Classification with Scikit-Learn\nTextRank :['text', 'classification', 'problem', 'multi-class', '#', 'articles', 'binary', 'consumer', 'finance', 'complaints', 'credit', 'card', 'machine']\nBlankSort:['unigrams', 'correlated', 'bigrams', 'top', 'sublinear_df', 'consumer_complaint_narrative', 'loan', 'complaint', 'navient', 'credit', 'sallie', 'card', 'text']\nTags:['intelligence', 'artificial', 'data', 'analytics', 'learning', 'science', 'machine', 'big']\nBlankSort vs Tags: 0/5\nTextRank vs Tags: 4/5\nBlankSort vs TextRank: 5/5\nCurrent score: 10/10 = 1.0\n\n\n5 departments you should talk to before implementing a chatbot\nTextRank :['customer', 'experience', 'experiences', 'chatbots', 'sales', 'service', 'customers', 'social', 'care']\nBlankSort:['customer', 'chatbots', 'experience', 'sales', 'chatbot', 'new', 'customers', 'departments', 'purchase']\nTags:['intelligence', 'artificial', 'chatbots', 'messaging', 'tech', 'bots']\nBlankSort vs Tags: 1/5\nTextRank vs Tags: 5/5\nBlankSort vs TextRank: 5/5\nCurrent score: 15/15 = 1.0\n\n\n3 Factors Slowing AI Adoption\nTextRank :['ai', 'technology', 'adoption', 'projects', 'staff', 'technologists', 'resources', 'the', 'team']\nBlankSort:['ai', 'meetings', 'talking', 'technology', 'factors', 'slowing', 'lot', 'adoption', 'flying']\nTags:['intelligence', 'artificial', 'chatbots', 'messaging', 'tech', 'bots']\nBlankSort vs Tags: 0/5\nTextRank vs Tags: 1/5\nBlankSort vs TextRank: 5/5\nCurrent score: 20/20 = 1.0\n\n\nConversations at rstudio::conf 2018\nTextRank :['effective', 'data', 'scientists', 'r', 'users', 'other', 'only', 'scientist', 'more', 'analysis', 'privacy', 'regulation', 'several']\nBlankSort:['elaine', 'data', 'r', 'julia', 'conf', 'hadley', 'thomas', 'rv', 'robinson', 'work', 'like', 'mcvey', 'rstudio']\nTags:['data', 'software', 'science', 'engineering', 'big']\nBlankSort vs Tags: 1/5\nTextRank vs Tags: 3/5\nBlankSort vs TextRank: 5/5\nCurrent score: 25/25 = 1.0\n\n\nThe IoT Magazine Newsletter — How three disruptive technologies can work together to change the…\nTextRank :['iot', 'chain', 'better', 'ways', 'handpicked', 'articles', 'security', 'blockchain', 'last']\nBlankSort:['iot', 'baked', 'handpicked', 'internet', 'things', 'enjoyed', 'newsletter', 'articles', 'chain']\nTags:['security', 'industry', 'internet', 'things', 'everything', 'iot', 'market', 'of']\nBlankSort vs Tags: 3/5\nTextRank vs Tags: 6/5\nBlankSort vs TextRank: 5/5\nCurrent score: 30/30 = 1.0\n\n\nInvasion-Artificial Intelligence in Newsroom\nTextRank :['text', 'information', 'human', 'gathering', 'process', 'bbc', 'news', 'lab', 'http://bbcnewslabs.co.uk/projects/summa/', 'laber', 'editors']\nBlankSort:['news', 'information', 'bbc', 'text', 'picture', 'ai', 'lab', 'bowen', 'bbcnewslabs', 'juicer', 'summa']\nTags:['intelligence', 'artificial', 'data', 'deep', 'learning', 'science', 'machine', 'ai']\nBlankSort vs Tags: 1/5\nTextRank vs Tags: 4/5\nBlankSort vs TextRank: 5/5\nCurrent score: 35/35 = 1.0\n\n\nThe World of the Internet\nTextRank :['internet', 'ibm', 'watson', 'endangered', 'animals', 'john', 'clements', 'consultants', 'ai', 'films']\nBlankSort:['brake', 'pabelico', 'dennis', 'rhino', 'interruption', 'internet', 'animals', 'ibm', 'car', 'films']\nTags:['personal', 'professional', 'leadership', 'and', 'careers', 'development', 'growth', 'management']\nBlankSort vs Tags: 0/5\nTextRank vs Tags: 0/5\nBlankSort vs TextRank: 5/5\nCurrent score: 40/40 = 1.0\n\n\nAutomated Compliance Checks for Instant Feedback\nTextRank :['building', 'codes', 'zone', 'standards', 'code', 'construction', 'zones', 'standard', 'violations', 'designs', 'planning']\nBlankSort:['building', 'zone', 'construction', 'regulations', 'codes', 'archilyse', 'checks', 'code', 'standards', 'compliance', 'projects']\nTags:['proptech', 'research', 'analysis', 'comparison', 'architecture']\nBlankSort vs Tags: 0/5\nTextRank vs Tags: 2/5\nBlankSort vs TextRank: 5/5\nCurrent score: 45/45 = 1.0\n\n\nSmartphones Harm Your Productivity More Than You Think\nTextRank :['more', 'things', 'smartphones', 'other', 'people', 'phones', 'social']\nBlankSort:['smartphone', 'removed', 'consume', 'smartphones', 'thing', 'phone', 'people']\nTags:['startup', 'life', 'entrepreneurship', 'productivity', 'improvement', 'self']\nBlankSort vs Tags: 0/5\nTextRank vs Tags: 2/5\nBlankSort vs TextRank: 4/5\nCurrent score: 49/50 = 0.98\n\n\n"
    }
   ],
   "source": [
    "total=0\n",
    "i=0\n",
    "while i in range(10):\n",
    "    test=random.choice(formattedData)\n",
    "    #print(test[\"text\"])\n",
    "    #print(\"\\n\")\n",
    "    topN=5\n",
    "    if(test[\"tags\"][0] != \"nan\"):\n",
    "        print(test[\"title\"])\n",
    "        textrank=rankText(test[\"text\"])\n",
    "        trTopN=sum(len(i[0].split()) for i in textrank[:topN])\n",
    "        textrank=unique(textrank)\n",
    "        print(\"TextRank : \", textrank[:trTopN])\n",
    "        blanksort=[t[0] for t in returnRanks(test[\"text\"])[:trTopN]]\n",
    "        print(\"BlankSort: \", blanksort)\n",
    "        print(\"Tags: \", test[\"tags\"])\n",
    "        blanksortVStags=len(set(blanksort)&set(test[\"tags\"]))\n",
    "        textrankVStags=len(set(textrank)&set(test[\"tags\"]))\n",
    "        blanksortVStextrank=len(set(blanksort)&set(textrank))\n",
    "        blanksortVStextrank=min(blanksortVStextrank,5)\n",
    "        print(\"BlankSort vs Tags: \"+str(blanksortVStags),\"/\",topN)\n",
    "        print(\"TextRank vs Tags: \"+str(textrankVStags),\"/\",topN)\n",
    "        print(\"BlankSort vs TextRank: \"+str(blanksortVStextrank),\"/\",topN)\n",
    "        total+=blanksortVStextrank\n",
    "        i+=1\n",
    "        print(\"Current score: \"+str(total)+\"/\"+str(i*5)+\" = \" + str(total/(i*5)))\n",
    "        print(\"\\n\")"
   ]
  }
 ]
}