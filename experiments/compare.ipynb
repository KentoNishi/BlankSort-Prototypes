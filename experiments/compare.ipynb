{
 "nbformat": 4,
 "nbformat_minor": 2,
 "metadata": {
  "language_info": {
   "name": "python",
   "codemirror_mode": {
    "name": "ipython",
    "version": 3
   },
   "version": "3.7.4"
  },
  "orig_nbformat": 2,
  "file_extension": ".py",
  "mimetype": "text/x-python",
  "name": "python",
  "npconvert_exporter": "python",
  "pygments_lexer": "ipython3",
  "version": 3
 },
 "cells": [
  {
   "cell_type": "code",
   "execution_count": 1,
   "metadata": {},
   "outputs": [],
   "source": [
    "%run ./experiments/textrank.py"
   ]
  },
  {
   "cell_type": "code",
   "execution_count": 2,
   "metadata": {},
   "outputs": [
    {
     "name": "stderr",
     "output_type": "stream",
     "text": "[nltk_data] Downloading package wordnet to\n[nltk_data]     C:\\Users\\yoshi\\AppData\\Roaming\\nltk_data...\n[nltk_data]   Package wordnet is already up-to-date!\n[nltk_data] Downloading package stopwords to\n[nltk_data]     C:\\Users\\yoshi\\AppData\\Roaming\\nltk_data...\n[nltk_data]   Package stopwords is already up-to-date!\nC:\\Users\\yoshi\\AppData\\Local\\Programs\\Python\\Python37\\lib\\site-packages\\gensim\\models\\base_any2vec.py:743: UserWarning: C extension not loaded, training will be slow. Install a C compiler and reinstall gensim for fast training.\n  \"C extension not loaded, training will be slow. \"\n"
    }
   ],
   "source": [
    "%run ./notebooks/BlankSort.ipynb"
   ]
  },
  {
   "cell_type": "code",
   "execution_count": 3,
   "metadata": {},
   "outputs": [],
   "source": [
    "text=\"\"\"\n",
    "Sgt. 1st Class Michael James Goble died due to injuries resulting from an explosion on Dec. 22 in the Taliban-contested northern Afghan province of Kunduz. Two Pentagon officials tell NPR Goble's unit was seizing a Taliban weapons cache when he was fatally wounded.\n",
    "\n",
    "It was Goble's third tour of duty in Afghanistan, and he died three weeks before what would have been his 34th birthday.\n",
    "\n",
    "The Westwood, N.J., native is survived by his partner and their young daughter.\n",
    "\n",
    "Goble enlisted in the U.S. Army when he was 18 as a Special Forces candidate and earned a Green Beret three years later. He was most recently assigned to the 1st Battalion, 7th Special Forces Group (Airborne) at Eglin Air Force Base in Florida.\n",
    "\n",
    "\"Sgt. 1st Class Goble was more than just a member of the 7th Special Forces Group,\" the group's commander, Col. John Sannes, said in a statement from the U.S. Army Special Operations Command. \"He was a brother to us and a beloved family member to the Northwest Florida community.\"\n",
    "\n",
    "\"We will honor our brother's sacrifice and provide the best possible care to his family,\" Sannes added.\n",
    "\n",
    "The circumstances of Goble's death were disputed in a tweet by Taliban spokesman Zabidullah Mujahid. He claimed his forces blew up an American vehicle in Kunduz province on Sunday with an improvised explosive device, killing one American and wounding another along with an Afghan commando.\n",
    "\n",
    "Districts in Kunduz province, including its eponymous capital, have come under repeated attacks and been briefly occupied by Taliban forces over the past four years. U.S. aircraft mistakenly bombed a trauma center run by Doctors Without Borders in the city of Kunduz in 2015, killing scores of patients and hospital workers.\n",
    "\n",
    "More than 2,400 American forces have been killed in Afghanistan since the U.S. invaded that nation and overthrew its Taliban-controlled government, which continued harboring al-Qaida leaders after the Sept. 11, 2001 attacks in the U.S.\n",
    "\n",
    "The U.S. resumed peace negotiations with the Taliban in Qatar on Dec. 7. Those talks had been halted by President Trump in a September tweet after a suicide bombing in Kabul killed a U.S. soldier.\n",
    "\n",
    "The U.S. is seeking a firm commitment from the Taliban not to allow Afghanistan to continue as a base of operations for al-Qaida and Islamic State insurgents.\n",
    "\n",
    "The Taliban, which has refused to negotiate directly with an Afghan government it considers illegitimate, is demanding that Washington remove all of the approximately 13,000 American forces still fighting in what has become the longest war in U.S. history.\n",
    "\n",
    "More than eighteen years after being expelled from power, the Taliban continue to dominate in many parts of Afghanistan. More than half of Afghanistan's population is located in districts either controlled or contested by the Taliban.\n",
    "\"\"\""
   ]
  },
  {
   "cell_type": "code",
   "execution_count": 4,
   "metadata": {},
   "outputs": [
    {
     "name": "stderr",
     "output_type": "stream",
     "text": "C:\\Users\\yoshi\\AppData\\Local\\Programs\\Python\\Python37\\lib\\site-packages\\ipykernel_launcher.py:11: DeprecationWarning: Call to deprecated `wv` (Attribute will be removed in 4.0.0, use self instead).\n  # This is added back by InteractiveShellApp.init_path()\nC:\\Users\\yoshi\\AppData\\Local\\Programs\\Python\\Python37\\lib\\site-packages\\ipykernel_launcher.py:21: DeprecationWarning: Call to deprecated `wv` (Attribute will be removed in 4.0.0, use self instead).\n"
    },
    {
     "data": {
      "text/plain": "[['taliban', 0.050550831874716096],\n ['force', 0.05933554811469678],\n ['goble', 0.0728079674466114],\n ['afghanistan', 0.09569449094789369],\n ['kunduz', 0.11262485961612713],\n ['american', 0.11290543999971955],\n ['special', 0.11679664962658924],\n ['afghan', 0.15048235209126556],\n ['province', 0.15281426463098752],\n ['group', 0.15886634072688008],\n ['year', 0.16254241812428172],\n ['class', 0.2252478275137643],\n ['sgt', 0.22962553054094315],\n ['dec', 0.2308766241185367],\n ['tweet', 0.23268338454155518],\n ['sannes', 0.2338495668289917],\n ['killing', 0.23688288482039102],\n ['florida', 0.23972041731966393],\n ['brother', 0.24133003509736486],\n ['family', 0.24455223924347333],\n ['district', 0.2446253951638937],\n ['base', 0.2447831046634487],\n ['member', 0.24498171359300613],\n ['attack', 0.24517937217439925],\n ['operation', 0.24622765323147178],\n ['died', 0.24698019666331156],\n ['three', 0.24971800204366446],\n ['killed', 0.25143338260906084],\n ['army', 0.25178290717303753],\n ['continue', 0.2534530966409615],\n ['alqaida', 0.25668976086724016],\n ['government', 0.25731679637517246],\n ['sunday', 0.4370453474943393],\n ['zabidullah', 0.4522284715369876],\n ['score', 0.45590891113637816],\n ['added', 0.4593850898423365],\n ['eglin', 0.45973277238330673],\n ['halted', 0.46346347007368294],\n ['col', 0.4654887079128197],\n ['unit', 0.46556079148181845],\n ['resumed', 0.4660448720678687],\n ['candidate', 0.46681915330035345],\n ['third', 0.466881001368165],\n ['approximately', 0.46776659201298443],\n ['seizing', 0.4677724473710571],\n ['westwood', 0.470246241427958],\n ['remove', 0.4706962791304769],\n ['mistakenly', 0.4709445474935429],\n ['seeking', 0.47113878798804115],\n ['two', 0.471226972527802],\n ['contested', 0.47162049217149615],\n ['npr', 0.47173520975879263],\n ['commando', 0.47257082829517977],\n ['continued', 0.47268389065616895],\n ['vehicle', 0.47321155110174523],\n ['along', 0.4738960442898263],\n ['cache', 0.47420764847525526],\n ['said', 0.475119306988615],\n ['talibancontrolled', 0.4751958368080003],\n ['beret', 0.4755831030862672],\n ['tour', 0.475893137577389],\n ['directly', 0.47665399013619336],\n ['power', 0.4781100606674694],\n ['blew', 0.478168910369277],\n ['washington', 0.47823676879384686],\n ['september', 0.4787986698959555],\n ['earned', 0.47884136624634266],\n ['talibancontested', 0.47960856636720045],\n ['native', 0.48015504649707247],\n ['expelled', 0.48040897944676025],\n ['talk', 0.4804434802915369],\n ['harboring', 0.48126322297113283],\n ['official', 0.4814905199621405],\n ['firm', 0.4818352462191667],\n ['including', 0.48199653226350037],\n ['circumstance', 0.48203795828989576],\n ['would', 0.4821546993085316],\n ['disputed', 0.48220653193337576],\n ['without', 0.4825154967506283],\n ['trauma', 0.48254319839179516],\n ['green', 0.48258874991110395],\n ['eponymous', 0.4832797249379967],\n ['refused', 0.48344544786959887],\n ['leader', 0.4835178158245981],\n ['device', 0.4836505156542574],\n ['commitment', 0.4839156006595918],\n ['aircraft', 0.48441937499280485],\n ['assigned', 0.48515701772911207],\n ['run', 0.4855943601578474],\n ['center', 0.48595630483967917],\n ['negotiation', 0.48660428023764063],\n ['state', 0.48680699669889044],\n ['john', 0.48684254687811646],\n ['statement', 0.4870969373732805],\n ['partner', 0.48750429414212704],\n ['spokesman', 0.4877065774053335],\n ['since', 0.4881028873579843],\n ['survived', 0.48814393460218397],\n ['considers', 0.4882845635126744],\n ['border', 0.48922001091497286],\n ['president', 0.4892281887254545],\n ['doctor', 0.48962630491171566],\n ['pentagon', 0.49012923347098486],\n ['become', 0.4902567836855139],\n ['city', 0.49064465585563866],\n ['come', 0.49089208797418643],\n ['birthday', 0.49140761473349165],\n ['northwest', 0.49158233111458166],\n ['death', 0.49280898006899015],\n ['duty', 0.4928955603390932],\n ['tell', 0.49304690744195667],\n ['briefly', 0.49314661137759686],\n ['wounded', 0.49355716577598024],\n ['explosion', 0.49449001917881624],\n ['demanding', 0.4946382325142622],\n ['claimed', 0.4952057948602097],\n ['occupied', 0.4952238643808024],\n ['eighteen', 0.4952518840187362],\n ['qatar', 0.4962740633636713],\n ['repeated', 0.49670817476830315],\n ['mujahid', 0.4970602560788393],\n ['many', 0.49715439203594414],\n ['weapon', 0.4973127192684582],\n ['longest', 0.4976727366447449],\n ['population', 0.49782425883625236],\n ['trump', 0.4981589311999934],\n ['capital', 0.49860828729080303],\n ['wounding', 0.49878476593377336],\n ['either', 0.49886890687048435],\n ['four', 0.4988697463912623],\n ['commander', 0.5015564800373146],\n ['improvised', 0.5018251099224601],\n ['care', 0.502015834408147],\n ['war', 0.5028770581952163],\n ['controlled', 0.5028975786020359],\n ['james', 0.5036395753600768],\n ['illegitimate', 0.5043128893843719],\n ['negotiate', 0.5049673688731023],\n ['fatally', 0.5052890929260424],\n ['fighting', 0.5058541948507939],\n ['allow', 0.5061243534354227],\n ['sept', 0.5071414451647017],\n ['beloved', 0.5075865741819143],\n ['located', 0.5088728466736419],\n ['half', 0.5093432116721358],\n ['airborne', 0.509906916080841],\n ['command', 0.5102373185966697],\n ['past', 0.5115952807079468],\n ['history', 0.5120511849277786],\n ['honor', 0.5122748645288604],\n ['still', 0.5123999448759216],\n ['recently', 0.5126007853874138],\n ['injury', 0.5128270690994603],\n ['peace', 0.514878589127745],\n ['part', 0.5148821196385792],\n ['explosive', 0.5149077443139893],\n ['northern', 0.5150844715535641],\n ['bombed', 0.5151672549545765],\n ['community', 0.5167066689048495],\n ['due', 0.5177862311580351],\n ['week', 0.5185272917151451],\n ['battalion', 0.5192404149898461],\n ['worker', 0.5197077388209956],\n ['patient', 0.5198135423873153],\n ['air', 0.5204123396626008],\n ['soldier', 0.5204546435603074],\n ['dominate', 0.5217807910272053],\n ['michael', 0.5233772568670767],\n ['hospital', 0.5259434107158866],\n ['sacrifice', 0.5259951879935605],\n ['enlisted', 0.5273093762142318],\n ['invaded', 0.5278155862220696],\n ['provide', 0.5278323336637446],\n ['overthrew', 0.5285938706781182],\n ['possible', 0.528738655682121],\n ['resulting', 0.5290426927219544],\n ['kabul', 0.5310433491000107],\n ['suicide', 0.5333074842180524],\n ['bombing', 0.5356548476432051],\n ['one', 0.5371402102921691],\n ['insurgent', 0.5377355252525636],\n ['later', 0.5390085756246533],\n ['daughter', 0.5402127960696816],\n ['young', 0.5402600073388645],\n ['nation', 0.5407637975045613],\n ['another', 0.5435497925749847],\n ['best', 0.5453985216362136],\n ['islamic', 0.5579794930028064]]"
     },
     "execution_count": 4,
     "metadata": {},
     "output_type": "execute_result"
    }
   ],
   "source": [
    "rank(text)"
   ]
  },
  {
   "cell_type": "code",
   "execution_count": 5,
   "metadata": {},
   "outputs": [
    {
     "data": {
      "text/plain": "[['taliban forces', 0.08637741496542513],\n ['u.s.', 0.07970794567821313],\n ['taliban', 0.07866923132798519],\n ['1st class michael james goble', 0.07780277929371694],\n ['u.s. history', 0.07726189465022139],\n ['u.s. aircraft', 0.07725340509161521],\n ['taliban spokesman zabidullah mujahid', 0.07651438739520919],\n ['7th special forces group', 0.07485718504625571],\n ['michael james goble', 0.0723397190140662],\n ['1st class goble', 0.07103130126683163],\n ['special forces group', 0.07024077837142675],\n ['kunduz province', 0.06744054651405632],\n ['special forces', 0.0665629756892388],\n ['col. john sannes', 0.06386621109357525],\n ['the u.s. army special operations command', 0.05891552964176206],\n ['eglin air force base', 0.05567947005595439],\n ['john sannes', 0.05501555670393371],\n ['kunduz', 0.052358019278638965],\n ['american', 0.051619824497182165],\n ['afghanistan', 0.05156989780657145],\n ['a taliban weapons cache', 0.04812245693166657],\n ['the taliban-contested northern afghan province', 0.048111662568022906],\n ['the u.s. army', 0.04755189723626463],\n ['sannes', 0.046430606939150604],\n ['7th', 0.04597067492327431],\n ['a u.s. soldier', 0.04546854552495433],\n ['president trump', 0.04488611641882827],\n ['afghan', 0.04476566921756871],\n ['npr gobles unit', 0.0446253105985435],\n ['gobles third tour', 0.04309754288607895],\n ['peace negotiations', 0.042877570377178945],\n ['a special forces candidate', 0.04219933139874642],\n ['npr gobles', 0.04140287061592553],\n ['repeated attacks', 0.04066826505931299],\n ['many parts', 0.040507439132635756],\n ['zabidullah mujahid', 0.04033284199890041],\n ['its taliban-controlled government', 0.03902067046389557],\n ['patients', 0.03879687195430839],\n ['gobles death', 0.038748396170914544],\n ['hospital workers', 0.03853288633248275],\n ['n.j.', 0.03827409857571852],\n ['al-qaida leaders', 0.03780136820172391],\n ['florida', 0.03746944660223964],\n ['trump', 0.03710943251113839],\n ['kabul', 0.035316687172468095],\n ['34th', 0.03521967441551406],\n ['districts', 0.03490124017735002],\n ['al-qaida and islamic state insurgents', 0.034339728880193966],\n ['doctors', 0.034317725272361405],\n ['september', 0.03396957320961366],\n ['islamic', 0.03367595317427809],\n ['al-qaida', 0.033517951526598304],\n ['northwest', 0.03328775517219429],\n ['an afghan government', 0.033207043582005255],\n ['the best possible care', 0.033037184682243974],\n ['more than 2,400 american forces', 0.032617717685629564],\n ['an american vehicle', 0.032347407857450945],\n ['a beloved family member', 0.0323188388716734],\n ['afghanistans population', 0.03172047014107446],\n ['duty', 0.03168105492443159],\n ['third', 0.03161704394214081],\n ['dec.', 0.03138568281404114],\n ['washington', 0.031242469370430088],\n ['the northwest florida community', 0.03114226775857877],\n ['pentagon', 0.030919668534456327],\n ['sunday', 0.030574239984394867],\n ['injuries', 0.030231107607788816],\n ['an improvised explosive device', 0.029907331911983807],\n ['borders', 0.029183964157394576],\n ['airborne', 0.02909757135708782],\n ['qatar', 0.029048245745976496],\n ['a september tweet', 0.028655776829106566],\n ['westwood', 0.028398731852798734],\n ['operations', 0.027873974238628106],\n ['power', 0.027674556765658158],\n ['scores', 0.02749357693313932],\n ['the 1st battalion', 0.027367141463285546],\n ['a trauma center', 0.027364044065176743],\n ['his forces', 0.02732042796010255],\n ['his 34th birthday', 0.027001229533199868],\n ['an afghan commando', 0.026741573426475197],\n ['the longest war', 0.026639207893260252],\n ['1st', 0.025961973634918152],\n ['their young daughter', 0.02583625128154994],\n ['two pentagon officials', 0.025257444704563745],\n ['a green beret', 0.024456059014274233],\n ['doctors without borders', 0.024421262255755423],\n ['a suicide bombing', 0.02422427347946613],\n ['the approximately 13,000 american forces', 0.02380056227659112],\n ['its eponymous capital', 0.023680957924536436],\n ['a firm commitment', 0.023343685949915097],\n ['more than half', 0.02280879517930097],\n ['a tweet', 0.02147850684408633],\n ['more than eighteen years', 0.021005032784465836],\n ['a brother', 0.020661514432174916],\n ['his family', 0.020185502646008525],\n ['our brothers sacrifice', 0.020077209155818072],\n ['the past four years', 0.019775815453828487],\n ['his partner', 0.019742927439218683],\n ['that nation', 0.01716852160844621],\n ['the groups commander', 0.017120285831057278],\n ['an explosion', 0.01706955980089315],\n ['three weeks', 0.01679727055031574],\n ['three years later', 0.015900549169945287],\n ['the city', 0.014821338887807206],\n ['a base', 0.014638173432623934],\n ['a statement', 0.014493780542062936],\n ['just a member', 0.014080355173354328],\n ['the sept. 11, 2001 attacks', 0.01334956439438703],\n ['those talks', 0.013210966831992592],\n ['more than 2,400', 0.012405076682272122],\n ['the circumstances', 0.0110231195357801],\n ['\\nsgt', 0.007233978804511736],\n ['he', 0.0]]"
     },
     "execution_count": 5,
     "metadata": {},
     "output_type": "execute_result"
    }
   ],
   "source": [
    "rankText(text)"
   ]
  }
 ]
}