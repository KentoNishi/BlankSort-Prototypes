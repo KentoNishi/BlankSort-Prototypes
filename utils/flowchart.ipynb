{
 "nbformat": 4,
 "nbformat_minor": 2,
 "metadata": {
  "language_info": {
   "name": "python",
   "codemirror_mode": {
    "name": "ipython",
    "version": 3
   },
   "version": "3.7.4-final"
  },
  "orig_nbformat": 2,
  "file_extension": ".py",
  "mimetype": "text/x-python",
  "name": "python",
  "npconvert_exporter": "python",
  "pygments_lexer": "ipython3",
  "version": 3,
  "kernelspec": {
   "name": "python37464bit543297ca316a4fc9adf3109fd6b8c1a3",
   "display_name": "Python 3.7.4 64-bit"
  }
 },
 "cells": [
  {
   "cell_type": "code",
   "execution_count": 1,
   "metadata": {},
   "outputs": [],
   "source": [
    "%run \"C:\\\\Users\\\\kento\\\\Documents\\\\GitHub\\\\BlankSort-Prototypes\\\\blanksort\\\\ftooc.py\""
   ]
  },
  {
   "cell_type": "code",
   "execution_count": 3,
   "metadata": {},
   "outputs": [
    {
     "name": "stdout",
     "output_type": "stream",
     "text": "Database path: C:\\Users\\kento\\Documents\\GitHub\\BlankSort-Prototypes\\binaries\\data\\blanksort.database\n"
    }
   ],
   "source": [
    "ft=FTOOC(\"C:\\\\Users\\\\kento\\\\Documents\\\\GitHub\\\\BlankSort-Prototypes\\\\binaries\\\\data\\\\test\")"
   ]
  },
  {
   "cell_type": "code",
   "execution_count": 4,
   "metadata": {},
   "outputs": [
    {
     "name": "stdout",
     "output_type": "stream",
     "text": "friend and dad: 0.93\nfriend and had: 0.13\n\ndad and friend: 0.95\ndad and had: 0.3\ndad and surgery: 0.1\n\nhad and friend: 0.62\nhad and dad: 0.54\nhad and surgery: 0.08\nhad and last: 0.85\n\nsurgery and dad: 0.75\nsurgery and had: 0.25\nsurgery and last: 0.5\nsurgery and year: 0.5\n\nlast and had: 0.48\nlast and surgery: 0.21\nlast and year: 0.94\nlast and remove: 0.06\n\nyear and surgery: 0.28\nyear and last: 0.94\nyear and remove: 0.03\nyear and kidney: 0.11\n\nremove and last: 0.56\nremove and year: 0.11\nremove and kidney: 0.78\nremove and cancer: 0.44\n\nkidney and year: 0.08\nkidney and remove: 0.2\nkidney and cancer: 0.92\n\ncancer and remove: 0.04\ncancer and kidney: 0.92\n\n"
    }
   ],
   "source": [
    "import math\n",
    "\n",
    "arr = [\n",
    "    [\"friend\", [\"dad\", \"had\"]],\n",
    "    [\"dad\", [\"friend\", \"had\", \"surgery\"]],\n",
    "    [\"had\", [\"friend\", \"dad\", \"surgery\", \"last\"]],\n",
    "    [\"surgery\", [\"dad\", \"had\", \"last\", \"year\"]],\n",
    "    [\"last\", [\"had\", \"surgery\", \"year\", \"remove\"]],\n",
    "    [\"year\", [\"surgery\", \"last\", \"remove\", \"kidney\"]],\n",
    "    [\"remove\", [\"last\", \"year\", \"kidney\", \"cancer\"]],\n",
    "    [\"kidney\", [\"year\", \"remove\", \"cancer\"]],\n",
    "    [\"cancer\", [\"remove\", \"kidney\"]],\n",
    "]\n",
    "for item in arr:\n",
    "    target = item[0]\n",
    "    words = item[1]\n",
    "    minScore = 1.0\n",
    "    maxScore = 0.0\n",
    "    for word in words:\n",
    "        minScore = min(minScore, ft.similarity(target, word))\n",
    "        maxScore = max(maxScore, ft.similarity(target, word))\n",
    "    minScore = math.floor(minScore * 100 - 1) / 100.0\n",
    "    maxScore = math.ceil(maxScore * 100 + 1) / 100.0\n",
    "    for word in words:\n",
    "        score = round(ft.similarity(target, word) * 100) / 100.0\n",
    "        score = (score - minScore) / (maxScore - minScore)\n",
    "        print(target + \" and \" + word + \": \" + str(round(score * 100) / 100.0))\n",
    "    print()\n"
   ]
  }
 ]
}