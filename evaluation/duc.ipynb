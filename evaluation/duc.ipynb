{
 "nbformat": 4,
 "nbformat_minor": 2,
 "metadata": {
  "language_info": {
   "name": "python",
   "codemirror_mode": {
    "name": "ipython",
    "version": 3
   },
   "version": "3.7.4-final"
  },
  "orig_nbformat": 2,
  "file_extension": ".py",
  "mimetype": "text/x-python",
  "name": "python",
  "npconvert_exporter": "python",
  "pygments_lexer": "ipython3",
  "version": 3,
  "kernelspec": {
   "name": "python37464bit44bd22c616ce401f9d42e1d4ecdf2300",
   "display_name": "Python 3.7.4 64-bit"
  }
 },
 "cells": [
  {
   "cell_type": "code",
   "execution_count": 1,
   "metadata": {},
   "outputs": [],
   "source": [
    "%run \"C:\\\\Users\\\\yoshi\\\\Music\\\\BlankSort-Prototypes\\\\blanksort\\\\BlankSort.py\""
   ]
  },
  {
   "cell_type": "code",
   "execution_count": 2,
   "metadata": {},
   "outputs": [
    {
     "name": "stdout",
     "output_type": "stream",
     "text": "Database path: C:\\Users\\yoshi\\Music\\BlankSort-Prototypes\\binaries\\data\\blanksort.database\n[nltk_data] Downloading package wordnet to\n[nltk_data]     C:\\Users\\yoshi\\AppData\\Roaming\\nltk_data...\n[nltk_data]   Package wordnet is already up-to-date!\n[nltk_data] Downloading package stopwords to\n[nltk_data]     C:\\Users\\yoshi\\AppData\\Roaming\\nltk_data...\n[nltk_data]   Package stopwords is already up-to-date!\n[nltk_data] Downloading package punkt to\n[nltk_data]     C:\\Users\\yoshi\\AppData\\Roaming\\nltk_data...\n[nltk_data]   Package punkt is already up-to-date!\n[nltk_data] Downloading package averaged_perceptron_tagger to\n[nltk_data]     C:\\Users\\yoshi\\AppData\\Roaming\\nltk_data...\n[nltk_data]   Package averaged_perceptron_tagger is already up-to-\n[nltk_data]       date!\n"
    }
   ],
   "source": [
    "blanksort=BlankSort(\"C:\\\\Users\\\\yoshi\\\\Music\\\\BlankSort-Prototypes\\\\binaries\\\\data\")"
   ]
  },
  {
   "cell_type": "code",
   "execution_count": 3,
   "metadata": {},
   "outputs": [],
   "source": [
    "import glob\n",
    "import re\n",
    "import json\n",
    "import math\n",
    "# https://github.com/boudinfl/duc-2001-pre/blob/master/references/test.reader.json\n",
    "# https://github.com/boudinfl/duc-2001-pre/tree/master/test\n",
    "ducPath=\"C:\\\\Users\\\\yoshi\\\\Music\\\\BlankSort-Prototypes\\\\binaries\\\\data\\\\duc\\\\\""
   ]
  },
  {
   "cell_type": "code",
   "execution_count": 4,
   "metadata": {},
   "outputs": [],
   "source": [
    "def inNB():\n",
    "    return hasattr(__builtins__,'__IPYTHON__')"
   ]
  },
  {
   "cell_type": "code",
   "execution_count": 5,
   "metadata": {},
   "outputs": [],
   "source": [
    "def clearConsole():\n",
    "    if(inNB()):\n",
    "        from IPython.display import clear_output\n",
    "        clear_output(wait=True)\n",
    "    else:\n",
    "        os.system('cls')"
   ]
  },
  {
   "cell_type": "code",
   "execution_count": 25,
   "metadata": {},
   "outputs": [],
   "source": [
    "allPaths=glob.glob(os.path.join(ducPath,\"texts\\\\*\"))\n",
    "answerDict=dict()\n",
    "with open(os.path.join(ducPath,\"keywords.json\"), 'r') as JSON:\n",
    "    answerDict=json.load(JSON)\n",
    "for key in answerDict.keys():\n",
    "    words=set()\n",
    "    for i in range(len(answerDict[key])):\n",
    "        string = answerDict[key][i][0]\n",
    "        brokenUp=re.findall(r'\\w+',string)\n",
    "        brokenUp=[word for word in brokenUp if word.isalpha() and len(word)>2]\n",
    "        for word in brokenUp:\n",
    "            words.add(word)\n",
    "    answerDict[key]=words"
   ]
  },
  {
   "cell_type": "code",
   "execution_count": 14,
   "metadata": {},
   "outputs": [
    {
     "name": "stdout",
     "output_type": "stream",
     "text": "DUC Dataset:\nIteration: 308 / 308\nPrecision: 0.35794577914921755\nRecall: 0.35575027382256297\nF1 Score: 0.35684464952757633\n"
    }
   ],
   "source": [
    "truePositives=0\n",
    "falsePositives=0\n",
    "trueNegatives=0\n",
    "falseNegatives=0\n",
    "total=0\n",
    "iteration=0\n",
    "for path in allPaths:\n",
    "    filename=os.path.basename(path).split(\".\")[0]\n",
    "    answerKey=answerDict[filename]\n",
    "    inputString=open(path).read()\n",
    "    wordCount=len(re.findall(r'\\w+', inputString))\n",
    "    maxScore=len(answerKey)\n",
    "    ranked=set(blanksort.rank(inputString,listSize=maxScore))\n",
    "    truePositive=len(answerKey & ranked)\n",
    "    falsePositive=0\n",
    "    falseNegative=0\n",
    "    for word in ranked:\n",
    "        if word not in answerKey:\n",
    "            falsePositive+=1\n",
    "    for word in answerKey:\n",
    "        if word not in ranked:\n",
    "            falseNegative+=1\n",
    "    trueNegative=wordCount-truePositive - falsePositive - falseNegative\n",
    "    truePositives+=truePositive\n",
    "    trueNegatives+=trueNegative\n",
    "    falsePositives+=falsePositive\n",
    "    falseNegatives+=falseNegative\n",
    "    total+=wordCount\n",
    "    accuracy=(truePositives+trueNegatives)/total\n",
    "    precision=truePositives/(truePositives+falsePositives)\n",
    "    recall=truePositives/(truePositives+falseNegatives)\n",
    "    f1Score=2*(precision*recall)/(precision+recall)\n",
    "    clearConsole()\n",
    "    iteration+=1\n",
    "    print(\"DUC Dataset:\")\n",
    "    print(\"Iteration:\",iteration,\"/\",len(allPaths))\n",
    "    # print(\"Accuracy:\",accuracy)\n",
    "    print(\"Precision:\", precision)\n",
    "    print(\"Recall:\", recall)\n",
    "    print(\"F1 Score:\", f1Score)"
   ]
  }
 ]
}