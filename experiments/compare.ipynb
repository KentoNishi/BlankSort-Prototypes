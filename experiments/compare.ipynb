{
 "nbformat": 4,
 "nbformat_minor": 2,
 "metadata": {
  "language_info": {
   "name": "python",
   "codemirror_mode": {
    "name": "ipython",
    "version": 3
   },
   "version": "3.7.4"
  },
  "orig_nbformat": 2,
  "file_extension": ".py",
  "mimetype": "text/x-python",
  "name": "python",
  "npconvert_exporter": "python",
  "pygments_lexer": "ipython3",
  "version": 3
 },
 "cells": [
  {
   "cell_type": "code",
   "execution_count": 7,
   "metadata": {},
   "outputs": [],
   "source": [
    "%run ./experiments/textrank.py"
   ]
  },
  {
   "cell_type": "code",
   "execution_count": 16,
   "metadata": {},
   "outputs": [
    {
     "data": {
      "text/plain": "[['taliban forces', 0.08637741496542513],\n ['u.s.', 0.07970794567821313],\n ['taliban', 0.07866923132798519],\n ['1st class michael james goble', 0.07780277929371694],\n ['u.s. history', 0.07726189465022139],\n ['u.s. aircraft', 0.07725340509161521],\n ['taliban spokesman zabidullah mujahid', 0.07651438739520919],\n ['7th special forces group', 0.07485718504625571],\n ['michael james goble', 0.0723397190140662],\n ['1st class goble', 0.07103130126683163],\n ['special forces group', 0.07024077837142675],\n ['kunduz province', 0.06744054651405632],\n ['special forces', 0.0665629756892388],\n ['col. john sannes', 0.06386621109357525],\n ['the u.s. army special operations command', 0.05891552964176206],\n ['eglin air force base', 0.05567947005595439],\n ['john sannes', 0.05501555670393371],\n ['kunduz', 0.052358019278638965],\n ['american', 0.051619824497182165],\n ['afghanistan', 0.05156989780657145],\n ['a taliban weapons cache', 0.04812245693166657],\n ['the taliban-contested northern afghan province', 0.048111662568022906],\n ['the u.s. army', 0.04755189723626463],\n ['sannes', 0.046430606939150604],\n ['7th', 0.04597067492327431],\n ['a u.s. soldier', 0.04546854552495433],\n ['president trump', 0.04488611641882827],\n ['afghan', 0.04476566921756871],\n ['npr gobles unit', 0.0446253105985435],\n ['gobles third tour', 0.04309754288607895],\n ['peace negotiations', 0.042877570377178945],\n ['a special forces candidate', 0.04219933139874642],\n ['npr gobles', 0.04140287061592553],\n ['repeated attacks', 0.04066826505931299],\n ['many parts', 0.040507439132635756],\n ['zabidullah mujahid', 0.04033284199890041],\n ['its taliban-controlled government', 0.03902067046389557],\n ['patients', 0.03879687195430839],\n ['gobles death', 0.038748396170914544],\n ['hospital workers', 0.03853288633248275],\n ['n.j.', 0.03827409857571852],\n ['al-qaida leaders', 0.03780136820172391],\n ['florida', 0.03746944660223964],\n ['trump', 0.03710943251113839],\n ['kabul', 0.035316687172468095],\n ['34th', 0.03521967441551406],\n ['districts', 0.03490124017735002],\n ['al-qaida and islamic state insurgents', 0.034339728880193966],\n ['doctors', 0.034317725272361405],\n ['september', 0.03396957320961366],\n ['islamic', 0.03367595317427809],\n ['al-qaida', 0.033517951526598304],\n ['northwest', 0.03328775517219429],\n ['an afghan government', 0.033207043582005255],\n ['the best possible care', 0.033037184682243974],\n ['more than 2,400 american forces', 0.032617717685629564],\n ['an american vehicle', 0.032347407857450945],\n ['a beloved family member', 0.0323188388716734],\n ['afghanistans population', 0.03172047014107446],\n ['duty', 0.03168105492443159],\n ['third', 0.03161704394214081],\n ['dec.', 0.03138568281404114],\n ['washington', 0.031242469370430088],\n ['the northwest florida community', 0.03114226775857877],\n ['pentagon', 0.030919668534456327],\n ['sunday', 0.030574239984394867],\n ['injuries', 0.030231107607788816],\n ['an improvised explosive device', 0.029907331911983807],\n ['borders', 0.029183964157394576],\n ['airborne', 0.02909757135708782],\n ['qatar', 0.029048245745976496],\n ['a september tweet', 0.028655776829106566],\n ['westwood', 0.028398731852798734],\n ['operations', 0.027873974238628106],\n ['power', 0.027674556765658158],\n ['scores', 0.02749357693313932],\n ['the 1st battalion', 0.027367141463285546],\n ['a trauma center', 0.027364044065176743],\n ['his forces', 0.02732042796010255],\n ['his 34th birthday', 0.027001229533199868],\n ['an afghan commando', 0.026741573426475197],\n ['the longest war', 0.026639207893260252],\n ['1st', 0.025961973634918152],\n ['their young daughter', 0.02583625128154994],\n ['two pentagon officials', 0.025257444704563745],\n ['a green beret', 0.024456059014274233],\n ['doctors without borders', 0.024421262255755423],\n ['a suicide bombing', 0.02422427347946613],\n ['the approximately 13,000 american forces', 0.02380056227659112],\n ['its eponymous capital', 0.023680957924536436],\n ['a firm commitment', 0.023343685949915097],\n ['more than half', 0.02280879517930097],\n ['a tweet', 0.02147850684408633],\n ['more than eighteen years', 0.021005032784465836],\n ['a brother', 0.020661514432174916],\n ['his family', 0.020185502646008525],\n ['our brothers sacrifice', 0.020077209155818072],\n ['the past four years', 0.019775815453828487],\n ['his partner', 0.019742927439218683],\n ['that nation', 0.01716852160844621],\n ['the groups commander', 0.017120285831057278],\n ['an explosion', 0.01706955980089315],\n ['three weeks', 0.01679727055031574],\n ['three years later', 0.015900549169945287],\n ['the city', 0.014821338887807206],\n ['a base', 0.014638173432623934],\n ['a statement', 0.014493780542062936],\n ['just a member', 0.014080355173354328],\n ['the sept. 11, 2001 attacks', 0.01334956439438703],\n ['those talks', 0.013210966831992592],\n ['more than 2,400', 0.012405076682272122],\n ['the circumstances', 0.0110231195357801],\n ['\\nsgt', 0.007233978804511736],\n ['he', 0.0]]"
     },
     "execution_count": 16,
     "metadata": {},
     "output_type": "execute_result"
    }
   ],
   "source": [
    "rankText(\"\"\"\n",
    "Sgt. 1st Class Michael James Goble died due to injuries resulting from an explosion on Dec. 22 in the Taliban-contested northern Afghan province of Kunduz. Two Pentagon officials tell NPR Goble's unit was seizing a Taliban weapons cache when he was fatally wounded.\n",
    "\n",
    "It was Goble's third tour of duty in Afghanistan, and he died three weeks before what would have been his 34th birthday.\n",
    "\n",
    "The Westwood, N.J., native is survived by his partner and their young daughter.\n",
    "\n",
    "Goble enlisted in the U.S. Army when he was 18 as a Special Forces candidate and earned a Green Beret three years later. He was most recently assigned to the 1st Battalion, 7th Special Forces Group (Airborne) at Eglin Air Force Base in Florida.\n",
    "\n",
    "\"Sgt. 1st Class Goble was more than just a member of the 7th Special Forces Group,\" the group's commander, Col. John Sannes, said in a statement from the U.S. Army Special Operations Command. \"He was a brother to us and a beloved family member to the Northwest Florida community.\"\n",
    "\n",
    "\"We will honor our brother's sacrifice and provide the best possible care to his family,\" Sannes added.\n",
    "\n",
    "The circumstances of Goble's death were disputed in a tweet by Taliban spokesman Zabidullah Mujahid. He claimed his forces blew up an American vehicle in Kunduz province on Sunday with an improvised explosive device, killing one American and wounding another along with an Afghan commando.\n",
    "\n",
    "Districts in Kunduz province, including its eponymous capital, have come under repeated attacks and been briefly occupied by Taliban forces over the past four years. U.S. aircraft mistakenly bombed a trauma center run by Doctors Without Borders in the city of Kunduz in 2015, killing scores of patients and hospital workers.\n",
    "\n",
    "More than 2,400 American forces have been killed in Afghanistan since the U.S. invaded that nation and overthrew its Taliban-controlled government, which continued harboring al-Qaida leaders after the Sept. 11, 2001 attacks in the U.S.\n",
    "\n",
    "The U.S. resumed peace negotiations with the Taliban in Qatar on Dec. 7. Those talks had been halted by President Trump in a September tweet after a suicide bombing in Kabul killed a U.S. soldier.\n",
    "\n",
    "The U.S. is seeking a firm commitment from the Taliban not to allow Afghanistan to continue as a base of operations for al-Qaida and Islamic State insurgents.\n",
    "\n",
    "The Taliban, which has refused to negotiate directly with an Afghan government it considers illegitimate, is demanding that Washington remove all of the approximately 13,000 American forces still fighting in what has become the longest war in U.S. history.\n",
    "\n",
    "More than eighteen years after being expelled from power, the Taliban continue to dominate in many parts of Afghanistan. More than half of Afghanistan's population is located in districts either controlled or contested by the Taliban.\n",
    "\"\"\")"
   ]
  }
 ]
}