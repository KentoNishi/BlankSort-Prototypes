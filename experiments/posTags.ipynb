{
 "nbformat": 4,
 "nbformat_minor": 2,
 "metadata": {
  "language_info": {
   "name": "python",
   "codemirror_mode": {
    "name": "ipython",
    "version": 3
   },
   "version": "3.7.4-final"
  },
  "orig_nbformat": 2,
  "file_extension": ".py",
  "mimetype": "text/x-python",
  "name": "python",
  "npconvert_exporter": "python",
  "pygments_lexer": "ipython3",
  "version": 3,
  "kernelspec": {
   "name": "python37464bit44bd22c616ce401f9d42e1d4ecdf2300",
   "display_name": "Python 3.7.4 64-bit"
  }
 },
 "cells": [
  {
   "cell_type": "code",
   "execution_count": 1,
   "metadata": {},
   "outputs": [],
   "source": [
    "import nltk"
   ]
  },
  {
   "cell_type": "code",
   "execution_count": 7,
   "metadata": {},
   "outputs": [
    {
     "data": {
      "text/plain": "[('VikeHacks', 'NNS'),\n ('is', 'VBZ'),\n ('the', 'DT'),\n ('best', 'JJS'),\n ('hackathon', 'NN'),\n ('that', 'WDT'),\n ('has', 'VBZ'),\n ('ever', 'RB'),\n ('been', 'VBN'),\n ('hosted', 'VBN'),\n ('at', 'IN'),\n ('Lynbrook.', 'NNP')]"
     },
     "execution_count": 7,
     "metadata": {},
     "output_type": "execute_result"
    }
   ],
   "source": [
    "nltk.pos_tag(\"VikeHacks is the best hackathon that has ever been hosted at Lynbrook.\".split(\" \"))"
   ]
  }
 ]
}