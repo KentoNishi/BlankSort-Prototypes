{
 "cells": [
  {
   "cell_type": "code",
   "execution_count": 2,
   "metadata": {},
   "outputs": [],
   "source": [
    "ducPath = \"C:\\\\Users\\\\yoshi\\\\Music\\\\BlankSort-Prototypes\\\\binaries\\\\data\\\\duc\\\\\"\n",
    "%run \"C:\\\\Users\\\\yoshi\\\\Music\\\\BlankSort-Prototypes\\\\blanksort\\\\BlankSort.py\"\n",
    "%run \"C:\\\\Users\\\\yoshi\\\\Music\\\\BlankSort-Prototypes\\\\evaluation\\\\comparison\\\\runExtraction.py\"\n",
    "%run \"C:\\\\Users\\\\yoshi\\\\Music\\\\BlankSort-Prototypes\\\\evaluation\\\\comparison\\\\rakeenv.py\"\n",
    "%run \"C:\\\\Users\\\\yoshi\\\\Music\\\\BlankSort-Prototypes\\\\evaluation\\\\comparison\\\\textrankenv.py\"\n",
    "%run \"C:\\\\Users\\\\yoshi\\\\Music\\\\BlankSort-Prototypes\\\\evaluation\\\\comparison\\\\multipartiterankenv.py\"\n",
    "%run \"C:\\\\Users\\\\yoshi\\\\Music\\\\BlankSort-Prototypes\\\\evaluation\\\\comparison\\\\topicrankenv.py\"\n",
    "# Use https://github.com/boudinfl/pke for:\n",
    "# SingleRank, TopicRank, TopicalPageRank, PositionRank, MultipartiteRank\n",
    "import glob\n",
    "import re\n",
    "import json\n",
    "import math"
   ]
  },
  {
   "cell_type": "code",
   "execution_count": 1,
   "metadata": {},
   "outputs": [],
   "source": [
    "def inNB():\n",
    "    return hasattr(__builtins__, \"__IPYTHON__\")"
   ]
  },
  {
   "cell_type": "code",
   "execution_count": 3,
   "metadata": {},
   "outputs": [],
   "source": [
    "def clearConsole():\n",
    "    if inNB():\n",
    "        from IPython.display import clear_output\n",
    "        clear_output(wait=True)\n",
    "    else:\n",
    "        os.system(\"cls\")"
   ]
  },
  {
   "cell_type": "code",
   "execution_count": 4,
   "metadata": {},
   "outputs": [
    {
     "name": "stdout",
     "output_type": "stream",
     "text": "Database path: C:\\Users\\yoshi\\Music\\BlankSort-Prototypes\\binaries\\data\\blanksort.database\n[nltk_data] Downloading package wordnet to\n[nltk_data]     C:\\Users\\yoshi\\AppData\\Roaming\\nltk_data...\n[nltk_data]   Package wordnet is already up-to-date!\n[nltk_data] Downloading package stopwords to\n[nltk_data]     C:\\Users\\yoshi\\AppData\\Roaming\\nltk_data...\n[nltk_data]   Package stopwords is already up-to-date!\n[nltk_data] Downloading package punkt to\n[nltk_data]     C:\\Users\\yoshi\\AppData\\Roaming\\nltk_data...\n[nltk_data]   Package punkt is already up-to-date!\n[nltk_data] Downloading package averaged_perceptron_tagger to\n[nltk_data]     C:\\Users\\yoshi\\AppData\\Roaming\\nltk_data...\n[nltk_data]   Package averaged_perceptron_tagger is already up-to-\n[nltk_data]       date!\n"
    }
   ],
   "source": [
    "blanksort=BlankSort(\"C:\\\\Users\\\\yoshi\\\\Music\\\\BlankSort-Prototypes\\\\binaries\\\\data\",saveGeneratedVectors=True)\n",
    "algoEnvs = [\n",
    "    (Algo(\"BlankSort\"), blanksort),\n",
    "    (Algo(\"RAKE\"), RakeEnv()),\n",
    "    (Algo(\"TextRank\"), TextRankEnv()),\n",
    "    (Algo(\"MultipartiteRank\"), MultipartiteRankEnv()),\n",
    "    (Algo(\"TopicRank\"), TopicRankEnv()),\n",
    "]"
   ]
  },
  {
   "cell_type": "code",
   "execution_count": 6,
   "metadata": {},
   "outputs": [],
   "source": [
    "allPaths=glob.glob(os.path.join(ducPath,\"texts\\\\*\"))\n",
    "answerDict=dict()\n",
    "with open(os.path.join(ducPath,\"keywords.json\"), 'r') as JSON:\n",
    "    answerDict=json.load(JSON)\n",
    "for key in answerDict.keys():\n",
    "    words=set()\n",
    "    for i in range(len(answerDict[key])):\n",
    "        string = answerDict[key][i][0]\n",
    "        brokenUp=re.findall(r'\\w+',string)\n",
    "        brokenUp=[word for word in brokenUp if word.isalpha() and len(word)>2]\n",
    "        for word in brokenUp:\n",
    "            words.add(word)\n",
    "    answerDict[key]=words"
   ]
  },
  {
   "cell_type": "code",
   "execution_count": 5,
   "metadata": {},
   "outputs": [],
   "source": [
    "def printMetrics():\n",
    "    iteration=0\n",
    "    for path in allPaths:\n",
    "        try:\n",
    "            filename=os.path.basename(path).split(\".\")[0]\n",
    "            answerKey=answerDict[filename]\n",
    "            inputString=open(path).read()\n",
    "            outputString=runAlgos(\"DUC\",inputString, answerKey, algoEnvs, allPaths)\n",
    "            clearConsole()\n",
    "            iteration+=1\n",
    "            print(\"Iteration \" + str(iteration)+\"\\n\")\n",
    "            print(outputString)\n",
    "        except Exception:\n",
    "            pass"
   ]
  },
  {
   "cell_type": "code",
   "execution_count": 7,
   "metadata": {},
   "outputs": [
    {
     "name": "stdout",
     "output_type": "stream",
     "text": "Iteration 307\n\nDUC Dataset (BlankSort):\nPrecision: 0.3142857142857143\nRecall: 0.3122799295774648\nF1 Score: 0.3132796114361409\nAverage Time (ms): 50.37540584415584\n\nDUC Dataset (RAKE):\nPrecision: 0.13644816364481638\nRecall: 0.129181338028169\nF1 Score: 0.13271535157133166\nAverage Time (ms): 3.043831168831169\n\nDUC Dataset (TextRank):\nPrecision: 0.39908396946564884\nRecall: 0.2876320422535211\nF1 Score: 0.33431385087607113\nAverage Time (ms): 177.1002435064935\n\nDUC Dataset (MultipartiteRank):\nPrecision: 0.45421334632245497\nRecall: 0.4119726087916943\nF1 Score: 0.4320630140159852\nAverage Time (ms): 897.953990228013\n\nDUC Dataset (TopicRank):\nPrecision: 0.4152916569834999\nRecall: 0.39474265518003093\nF1 Score: 0.40475651189127976\nAverage Time (ms): 805.5781758957655\n\n\n"
    }
   ],
   "source": [
    "printMetrics()"
   ]
  }
 ],
 "metadata": {
  "file_extension": ".py",
  "kernelspec": {
   "display_name": "Python 3.7.4 64-bit",
   "language": "python",
   "name": "python37464bit44bd22c616ce401f9d42e1d4ecdf2300"
  },
  "language_info": {
   "codemirror_mode": {
    "name": "ipython",
    "version": 3
   },
   "file_extension": ".py",
   "mimetype": "text/x-python",
   "name": "python",
   "nbconvert_exporter": "python",
   "pygments_lexer": "ipython3",
   "version": "3.7.4-final"
  },
  "mimetype": "text/x-python",
  "name": "python",
  "npconvert_exporter": "python",
  "pygments_lexer": "ipython3",
  "version": 3
 },
 "nbformat": 4,
 "nbformat_minor": 2
}