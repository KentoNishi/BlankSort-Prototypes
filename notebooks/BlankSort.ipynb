{
 "nbformat": 4,
 "nbformat_minor": 2,
 "metadata": {
  "language_info": {
   "name": "python",
   "codemirror_mode": {
    "name": "ipython",
    "version": 3
   },
   "version": "3.7.4"
  },
  "orig_nbformat": 2,
  "file_extension": ".py",
  "mimetype": "text/x-python",
  "name": "python",
  "npconvert_exporter": "python",
  "pygments_lexer": "ipython3",
  "version": 3
 },
 "cells": [
  {
   "cell_type": "code",
   "execution_count": 1,
   "metadata": {},
   "outputs": [],
   "source": [
    "from gensim.models import fasttext as ft\n",
    "import numpy as np\n",
    "import os\n",
    "import nltk\n",
    "from nltk.corpus import stopwords\n",
    "import operator\n",
    "import re"
   ]
  },
  {
   "cell_type": "code",
   "execution_count": 2,
   "metadata": {},
   "outputs": [
    {
     "name": "stderr",
     "output_type": "stream",
     "text": "[nltk_data] Downloading package wordnet to\n[nltk_data]     C:\\Users\\yoshi\\AppData\\Roaming\\nltk_data...\n[nltk_data]   Package wordnet is already up-to-date!\n[nltk_data] Downloading package stopwords to\n[nltk_data]     C:\\Users\\yoshi\\AppData\\Roaming\\nltk_data...\n[nltk_data]   Package stopwords is already up-to-date!\n"
    },
    {
     "data": {
      "text/plain": "True"
     },
     "execution_count": 2,
     "metadata": {},
     "output_type": "execute_result"
    }
   ],
   "source": [
    "nltk.download('wordnet')\n",
    "nltk.download('stopwords')"
   ]
  },
  {
   "cell_type": "code",
   "execution_count": 3,
   "metadata": {},
   "outputs": [
    {
     "name": "stderr",
     "output_type": "stream",
     "text": "C:\\Users\\yoshi\\AppData\\Local\\Programs\\Python\\Python37\\lib\\site-packages\\gensim\\models\\base_any2vec.py:743: UserWarning: C extension not loaded, training will be slow. Install a C compiler and reinstall gensim for fast training.\n  \"C extension not loaded, training will be slow. \"\n"
    }
   ],
   "source": [
    "# https://fasttext.cc/docs/en/crawl-vectors.html\n",
    "model=ft.load_facebook_model(os.path.join(os.getcwd(),\"binaries/data/cc.en.300.bin\"))"
   ]
  },
  {
   "cell_type": "code",
   "execution_count": 4,
   "metadata": {},
   "outputs": [],
   "source": [
    "window_size=3\n",
    "stemmer = nltk.wordnet.WordNetLemmatizer()"
   ]
  },
  {
   "cell_type": "code",
   "execution_count": 451,
   "metadata": {},
   "outputs": [],
   "source": [
    "def rank(text,top=0,collapse=True):\n",
    "    text=text.lower()\n",
    "    stops = set(stopwords.words(\"english\"))\n",
    "    tokens = nltk.word_tokenize(text)\n",
    "    stemmed_words = [stemmer.lemmatize(word) for word in tokens]\n",
    "    cleaned_words= [word for word in stemmed_words if word not in stops]\n",
    "    filtered_words=[]\n",
    "    counts=dict()\n",
    "    scores=dict()\n",
    "    for word in cleaned_words:\n",
    "        filtered=re.sub('[^a-zA-Z]', '', word)\n",
    "        if(len(filtered)>=3 or filtered in model.wv.vocab):\n",
    "            filtered_words.append(word)\n",
    "            counts.setdefault(word,0)\n",
    "            counts[word]+=1\n",
    "    scoreList=np.zeros(len(filtered_words))\n",
    "    for i in range(len(filtered_words)):\n",
    "        leftBound=max(0,i-window_size)\n",
    "        rightBound=min(len(filtered_words)-1,i+window_size)\n",
    "        contextSize=rightBound-leftBound+1\n",
    "        for j in range(i+1,rightBound+1):\n",
    "            similarity_score=model.wv.similarity(filtered_words[i],filtered_words[j])\n",
    "            similarity_score=(similarity_score+1)/2.0\n",
    "            scoreList[i]+=similarity_score\n",
    "            scoreList[j]+=similarity_score\n",
    "        wordScore=scoreList[i]/(counts[filtered_words[i]]*contextSize)\n",
    "        if filtered_words[i] not in scores:\n",
    "            scores[filtered_words[i]]=wordScore\n",
    "        else:\n",
    "            scores[filtered_words[i]]=min(scores[filtered_words[i]],wordScore)\n",
    "    wordScores=list(map(list, scores.items()))\n",
    "    wordScores=sorted(wordScores, key = lambda x: x[1])#,reverse=True)\n",
    "    filteredWordScores=[]\n",
    "    for word in wordScores:\n",
    "        filtered=re.sub('[^a-zA-Z]', '', word[0])\n",
    "        if(len(filtered)>2):\n",
    "            filteredWordScores.append([filtered,word[1]])\n",
    "    if collapse:\n",
    "        phraseScores=collapsePhrases(tokens,scores,stops,filteredWordScores,cleaned_words)\n",
    "        return phraseScores[:top]\n",
    "    else:\n",
    "        return filteredWordScores[:top]"
   ]
  },
  {
   "cell_type": "code",
   "execution_count": 443,
   "metadata": {},
   "outputs": [],
   "source": [
    "def collapsePhrases(tokens,scores,stops,filteredWordScores,cleaned_words):\n",
    "    dictionary=set()\n",
    "    for word in cleaned_words:\n",
    "        dictionary.add(word)\n",
    "    phrases=dict()\n",
    "    bagOfWords=set()\n",
    "    for word in filteredWordScores:\n",
    "        bagOfWords.add(word[0])\n",
    "    phrase=\"\"\n",
    "    totalScore=0\n",
    "    wordCount=0\n",
    "    i=0\n",
    "    while i in range(len(tokens)):\n",
    "        word=stemmer.lemmatize(tokens[i])\n",
    "        if (word in stops or tokens[i] in stops) and phrase!=\"\":\n",
    "            j=i+1\n",
    "            while j<len(tokens) and stemmer.lemmatize(tokens[j]) not in dictionary:\n",
    "                j+=1\n",
    "            if(j<len(tokens) and stemmer.lemmatize(tokens[j]) in bagOfWords):\n",
    "                for k in range(i,j):\n",
    "                    phrase+=tokens[k]+\" \"\n",
    "                i=j-1\n",
    "            else:\n",
    "                phrases[phrase[:len(phrase)-1]]=totalScore/wordCount\n",
    "                totalScore=0\n",
    "                wordCount=0\n",
    "                phrase=\"\"\n",
    "        elif word in bagOfWords:\n",
    "            totalScore+=scores[word]\n",
    "            wordCount+=1\n",
    "            phrase+=tokens[i]+\" \"\n",
    "        else:\n",
    "            if(wordCount>0):\n",
    "                phrases[phrase[:len(phrase)-1]]=totalScore/wordCount\n",
    "                totalScore=0\n",
    "                wordCount=0\n",
    "                phrase=\"\"\n",
    "        i+=1\n",
    "    phraseScores=list(map(list, phrases.items()))\n",
    "    phraseScores=sorted(phraseScores, key = lambda x: x[1])#,reverse=True)\n",
    "    return phraseScores"
   ]
  },
  {
   "cell_type": "code",
   "execution_count": 478,
   "metadata": {},
   "outputs": [
    {
     "data": {
      "text/plain": "[['japan', 0.03323675369999061],\n ['country', 0.07103922753119651],\n ['people', 0.0815743606182791],\n ['year', 0.08619152967418943],\n ['population', 0.09935861719506127]]"
     },
     "execution_count": 478,
     "metadata": {},
     "output_type": "execute_result"
    }
   ],
   "source": [
    "rank(\"\"\"\n",
    "Japan has been trying to increase its birth rate for years, hoping that a youthful boost could offset an otherwise rapidly aging population. It's not working.\n",
    "\n",
    "The country's health ministry announced Tuesday that the number of babies born in 2019 fell by an estimated 5.9% this year, to 864,000. It's the first time since 1899, when the government began tracking the data, that the number has dipped below 900,000, according to The Asahi Shimbun.\n",
    "\n",
    "The decline in the absolute number of births is especially stark given that Japan's population in 1899 was about one-third of its approximately 126 million people today.\n",
    "\n",
    "What accounts for the steep drop in births? The health ministry points to the declining numbers of people of reproductive age, as the offspring of baby boomers get older.\n",
    "\n",
    "That joins other factors — namely the immense burden shouldered by Japanese women to do housework and childcare by themselves, and a culture that makes it difficult to both have a job outside the home and be a mother. Younger generations of Japanese women have increasingly opted to continue working, rather than get married, have children, and give up their careers.\n",
    "\n",
    "Having children outside of wedlock is also extremely rare: just 2.3% of children were born outside of marriage in Japan, compared to about 40% in the United States. Marriage rates in Japan have halved since the early 1970s, and birth rates have declined in tandem.\n",
    "\n",
    "At the other end of the life cycle, the numbers were also notable. Japan had its highest numbers of deaths this year since the end of World War II: nearly 1.4 million.\n",
    "\n",
    "That means that in 2019, the country's natural population declined by more than 500,000 people — also a first, according to Asahi. The country's population is aging, and it now has the world's highest proportion of people over the age of 65.\n",
    "\n",
    "Japan's population has declined every year since 2007. And while other countries have countered declining birth rates by permitting immigration, Japan has been slow to allow foreigners to settle there. The country granted refugee status to just 42 people last year out of the 10,000 who applied. Meanwhile, the U.S. granted asylum to more than 18,000 people in fiscal year 2019 – nearly a third of those who applied.\n",
    "\n",
    "But Japan, hoping to counter a labor force shortage, is taking small steps to allow foreigners to at least work in the country.\n",
    "\n",
    "On Tuesday, Japan and Pakistan signed a memorandum of cooperation to allow Pakistanis to work in Japan. According to the agreement, \"specified skilled workers\" must pass a test and show basic comprehension of Japanese language in order to qualify for employment in Japan.\n",
    "\n",
    "The move follows similar agreements with other Asian countries including Vietnam, Nepal, and Cambodia.\n",
    "\n",
    "But moving to Japan as a foreigner can be tough. As an article in The Atlantic describes, a pamphlet handed to refugees explains that \"Japanese society traditionally prefers conformity and social harmony to independence and individual expression.\" It gave these tips on conforming: \"1) Be punctual. 2) Separate garbage according to type. 3) Don't be too loud!\"\n",
    "\"\"\",5,True)"
   ]
  }
 ]
}