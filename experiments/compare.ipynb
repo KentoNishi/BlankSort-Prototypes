{
 "nbformat": 4,
 "nbformat_minor": 2,
 "metadata": {
  "language_info": {
   "name": "python",
   "codemirror_mode": {
    "name": "ipython",
    "version": 3
   },
   "version": "3.7.4"
  },
  "orig_nbformat": 2,
  "file_extension": ".py",
  "mimetype": "text/x-python",
  "name": "python",
  "npconvert_exporter": "python",
  "pygments_lexer": "ipython3",
  "version": 3
 },
 "cells": [
  {
   "cell_type": "code",
   "execution_count": 92,
   "metadata": {},
   "outputs": [],
   "source": [
    "%run ./experiments/textrank.py"
   ]
  },
  {
   "cell_type": "code",
   "execution_count": 93,
   "metadata": {},
   "outputs": [
    {
     "name": "stderr",
     "output_type": "stream",
     "text": "[nltk_data] Downloading package wordnet to\n[nltk_data]     C:\\Users\\yoshi\\AppData\\Roaming\\nltk_data...\n[nltk_data]   Package wordnet is already up-to-date!\n[nltk_data] Downloading package stopwords to\n[nltk_data]     C:\\Users\\yoshi\\AppData\\Roaming\\nltk_data...\n[nltk_data]   Package stopwords is already up-to-date!\n"
    }
   ],
   "source": [
    "%run ./notebooks/BlankSort.ipynb"
   ]
  },
  {
   "cell_type": "code",
   "execution_count": 94,
   "metadata": {},
   "outputs": [],
   "source": [
    "text=\"\"\"\n",
    "On August 8, 1974, Richard Nixon resigned the presidency, becoming the first president in American history to withdraw from office. The House had begun impeachment proceedings because of his involvement in the Watergate burglary cover-up, a group of Republican senators had told him he likely had too few supporters to beat conviction in the Senate, and Nixon relented to pressure from the public and Congress.\n",
    "\n",
    "In an address to the nation, Nixon explained that \"by taking this action, I hope that I will have hastened the start of the process of healing which is so desperately needed in America.\" The next day, Nixon departed the White House and Vice President Gerald Ford took the oath of office.\n",
    "\n",
    "Nixon's enemies called him \"Tricky Dick.\" Over the course of his 30-year political career, he showed himself to be vindictive, paranoid and selfish. But his decision to resign could be characterized as an act of patriotism: It spared the nation a painful and extremely divisive process of removing the commander in chief from office. History has recorded that, to paraphrase Shakespeare, nothing in his presidency became him like the leaving of it.\n",
    "\n",
    "Even a half-century later, the mind of Richard Nixon is a tangled mystery. Deceptive, self-seeking and devious, he was also capable of far-seeing statesmanship (witness his outreach to China) and a genuine concern for America's place in the world. Historians will long debate which side of his character was salient in his decision to resign. But one thing is clear: By resigning, he protected not only his own historical legacy but also the country he had taken an oath to serve.\n",
    "\n",
    "Donald Trump should follow suit.\n",
    "\n",
    "Recently, a majority of the House of Representatives voted to impeach Donald Trump for abuse of power and obstruction of Congress. Both articles arise from Trump's alleged involvement in a scheme to solicit an investigation of political dirt against Joe Biden by Ukrainian government officials, despite no evidence of wrongdoing, in exchange for military aid to help Ukraine in its ongoing conflict with Russia.\n",
    "\n",
    "Prior to Trump, the impeachment provisions of the Constitution were initiated against three other presidents: Andrew Johnson, whose case fell one vote short of conviction in the Senate; Nixon, whose proceeding never came to a vote; and Bill Clinton, whose case failed to reach even a majority in the Senate, let alone the two thirds needed for removal from office. Of the three, Trump's behavior most resembles Nixon's.\n",
    "\n",
    "Trump, like Nixon, is accused of participating in a cover-up involving the investigation of political opponents. But Trump's alleged transgressions are worse than Nixon's because they concern an attempt to involve a foreign power in the American political process.\n",
    "\n",
    "Nixon and Trump also have in common fiercely loyal supporters. Nixon's popularity in his second term had been quite high. He won reelection in 1972 with more than 60% of the popular vote and 520 electoral votes. The Watergate scandal reduced Nixon's political support, but his hardcore supporters urged him to fight on.\n",
    "\n",
    "But Nixon emphasized country over personal considerations in deciding to resign. While most historians believe the full House would have voted to impeach, and the Senate would have secured the necessary two-thirds vote for removal, the trial process would have been extremely divisive and painful for the country.\n",
    "\n",
    "In retrospect, we will never know whether a show of stubbornness -- like Trump's -- might have switched the political dynamic and persuaded the Senate to not convict, but we can instead be grateful that Nixon did not put the system to the test.\n",
    "\n",
    "Bill Clinton, of course, did put the system to test: after an impeachment by the House, he fought and turned back the impeachment effort in the Senate. Yet a generation later, some Democrats wish that he had chosen the Nixon path. It is likely that Clinton's misconduct and his false testimony do not rise to the level of \"high crimes and misdemeanors.\" Yet no one denies that they were grave blotches on his character, and harmful to how the public perceived the dignity of the office of the president.\n",
    "\n",
    "Moreover, after Democrats found surprising success in 1998, his actions cost his party dearly in the 2000 election. For the same reason, some Republicans today may quietly hope that Trump will go away before 2020.\n",
    "\n",
    "At this moment, the question goes beyond what is best politically for Trump, for the Republican party, or for Democrats. The question is not whether Trump can secure enough votes to avoid conviction or whether poll numbers will go up or down.\n",
    "\n",
    "The sole question should be what is best for the country.\n",
    "\n",
    "And if Trump forces the nation to go through an impeachment trial in the Senate, the consequences for our democracy are grave.\n",
    "\n",
    "First, Trump will cause a further erosion of confidence in our democratic institutions, such as the Federal Bureau of Investigation, if he continues to attack and undermine the nation's intelligence and law enforcement agencies. Second, his insistence on slavish support from Republicans in Congress will weaken -- perhaps permanently -- the separation of powers required to maintain a legislature capable of functioning. Third, his heated rhetoric will widen the gap between Americans of different political beliefs.\n",
    "\n",
    "The answer is clear: Trump should resign so the country can begin the process of healing. The divisions in the country today are even more corrosive than they were in 1974. That's why it's even more important that Trump emulate the best of Richard Nixon, who, in a rare moment of grace, understood he could only weaken the nation he led by focusing solely on himself, and chose the better path.\n",
    "\n",
    "In President Trump's acceptance speech of the Republican nomination at the Republican National Convention in 2016, he told the nation, \"Nobody knows the system better than me, which is why I alone can fix it.\" While many mocked the hubris behind that claim, at this moment of national danger it is undoubtedly true: Trump alone can spare the nation the painful ordeal of an impeachment trial in the Senate.\n",
    "\"\"\""
   ]
  },
  {
   "cell_type": "code",
   "execution_count": 96,
   "metadata": {},
   "outputs": [
    {
     "name": "stdout",
     "output_type": "stream",
     "text": "Phrase collection is disabled.\n"
    },
    {
     "data": {
      "text/plain": "[['trump', 0.02650988892844272],\n ['nixon', 0.026694785866166363],\n ['senate', 0.05758695665281266],\n ['political', 0.06830867290572852],\n ['nation', 0.06959520044679544],\n ['country', 0.07904519096371673],\n ['vote', 0.08296725334089604],\n ['republican', 0.08298559123206706],\n ['impeachment', 0.087207616794677],\n ['process', 0.09416343013622931],\n ['house', 0.09461727500227946],\n ['office', 0.09615354432857462],\n ['president', 0.09946195376770837],\n ['resign', 0.12117701096992407],\n ['trial', 0.1579747737850994],\n ['american', 0.15860806565199578],\n ['question', 0.15957146117995893],\n ['richard', 0.16375689272813143],\n ['conviction', 0.16413499326223419],\n ['congress', 0.1643126037060505],\n ['painful', 0.16542058154231026],\n ['moment', 0.16614377383320106],\n ['power', 0.16640419034021242],\n ['democrat', 0.16644119812796512],\n ['clinton', 0.16659911934818541],\n ['investigation', 0.1687585979345299],\n ['supporter', 0.17337881365702265],\n ['historian', 0.23048477407012666],\n ['presidency', 0.2324138782652361],\n ['removal', 0.23641172137909702],\n ['character', 0.23731028774221027],\n ['path', 0.23799817303993873],\n ['history', 0.23800594313070178],\n ['told', 0.23881639739764587],\n ['proceeding', 0.23968286672607064],\n ['healing', 0.24038535010601794],\n ['action', 0.24039353589926446],\n ['donald', 0.24263786477968097],\n ['america', 0.24306704263601983],\n ['oath', 0.24323750407035863],\n ['national', 0.2440464360905545],\n ['concern', 0.24435849514390742],\n ['weaken', 0.24439617738659894],\n ['decision', 0.24604541568883828],\n ['alleged', 0.24679158202239446],\n ['hope', 0.248063261021993],\n ['grave', 0.24940784807716096],\n ['public', 0.24972932572875703],\n ['majority', 0.25049739074893296],\n ['extremely', 0.2511448190115126],\n ['party', 0.2523496129683086],\n ['capable', 0.2542641708361251],\n ['support', 0.2545350731483528],\n ['impeach', 0.2580658532679081],\n ['involvement', 0.2588920529399599],\n ['voted', 0.25905974129480974],\n ['divisive', 0.2605432166850993],\n ['watergate', 0.26233676405224415],\n ['coverup', 0.26610949262976646],\n ['reduced', 0.44651347205841113],\n ['halfcentury', 0.4487836607731879],\n ['selfseeking', 0.4494449314993939],\n ['leaving', 0.4550993033418698],\n ['protected', 0.4556783424424274],\n ['shakespeare', 0.46009043750486206],\n ['grateful', 0.4606267431850678],\n ['corrosive', 0.46180437678205116],\n ['recorded', 0.46224530200873104],\n ['dirt', 0.4630774187722376],\n ['year', 0.4635342903701322],\n ['article', 0.4643876866820002],\n ['dick', 0.4645417175654854],\n ['effort', 0.4647178094434951],\n ['enemy', 0.4656230631683554],\n ['common', 0.467851865238377],\n ['emulate', 0.4687997184560767],\n ['desperately', 0.4693207651642816],\n ['dynamic', 0.46954736007111414],\n ['denies', 0.4698699401425464],\n ['mind', 0.4700308040981846],\n ['generation', 0.47122414050889866],\n ['short', 0.471351516998506],\n ['behavior', 0.471573306247592],\n ['august', 0.4719370808452368],\n ['tricky', 0.47214153355785776],\n ['surprising', 0.4727119281888008],\n ['departed', 0.47274601966741364],\n ['historical', 0.4729522267090423],\n ['withdraw', 0.4738651094958186],\n ['sole', 0.47436542955360245],\n ['secure', 0.4745016342162022],\n ['explained', 0.47470292585369733],\n ['spare', 0.4750109694099852],\n ['blotch', 0.47565547563135624],\n ['outreach', 0.47601298202893566],\n ['fought', 0.47610339682017055],\n ['fell', 0.4761473970221622],\n ['answer', 0.4765292629599571],\n ['characterized', 0.4769922303301947],\n ['day', 0.47750731983355116],\n ['chosen', 0.47760654382208095],\n ['salient', 0.4779653446582545],\n ['heated', 0.4792168821607317],\n ['participating', 0.47938819761787144],\n ['paraphrase', 0.4794021565467119],\n ['white', 0.4795980929796185],\n ['initiated', 0.48014800782714573],\n ['pressure', 0.4810983394937856],\n ['switched', 0.4813563246279955],\n ['ukrainian', 0.4819662634150258],\n ['relented', 0.48227363026567865],\n ['address', 0.4823413360863924],\n ['reach', 0.4829125778217401],\n ['quietly', 0.48296147904225756],\n ['rhetoric', 0.48359900313828674],\n ['dearly', 0.4839197764439242],\n ['division', 0.4843383057575141],\n ['personal', 0.48479476624301504],\n ['avoid', 0.48499273375741075],\n ['legislature', 0.48556354162948473],\n ['rare', 0.4857002768133368],\n ['tangled', 0.48584163794294],\n ['exchange', 0.4877701885998249],\n ['secured', 0.48823640814849306],\n ['removing', 0.4882787708193064],\n ['representative', 0.4883278147317469],\n ['harmful', 0.4884866472067578],\n ['worse', 0.4888481127896479],\n ['beat', 0.4888595092509474],\n ['witness', 0.489251463940101],\n ['prior', 0.4894660386656012],\n ['china', 0.4895546505493777],\n ['misconduct', 0.48991540553314344],\n ['obstruction', 0.4902811408891076],\n ['serve', 0.4902963098138571],\n ['debate', 0.4905338649238859],\n ['joe', 0.49055888490485294],\n ['level', 0.4905619594667639],\n ['force', 0.49115536361932755],\n ['follow', 0.49202166085264515],\n ['permanently', 0.49218754949314253],\n ['transgression', 0.4926875856305872],\n ['grace', 0.49306872646723476],\n ['cost', 0.49338735214301516]]"
     },
     "execution_count": 96,
     "metadata": {},
     "output_type": "execute_result"
    }
   ],
   "source": [
    "rank(text,None,True)"
   ]
  },
  {
   "cell_type": "code",
   "execution_count": 97,
   "metadata": {},
   "outputs": [
    {
     "data": {
      "text/plain": "[['nixon', 0.077024388129848],\n ['richard nixon', 0.07595391161423976],\n ['donald trump', 0.07121084029061693],\n ['political dirt', 0.05292294760094003],\n ['nixons political support', 0.05250180976709735],\n ['enough votes', 0.0516781273746104],\n ['different political beliefs', 0.05085159942329646],\n ['political opponents', 0.05043479970372057],\n ['senate', 0.04615009045487342],\n ['president trumps acceptance speech', 0.04480189592373618]]"
     },
     "execution_count": 97,
     "metadata": {},
     "output_type": "execute_result"
    }
   ],
   "source": [
    "rankText(text)[:10]"
   ]
  }
 ]
}