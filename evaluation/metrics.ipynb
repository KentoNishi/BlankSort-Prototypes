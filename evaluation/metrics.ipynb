{
 "nbformat": 4,
 "nbformat_minor": 2,
 "metadata": {
  "language_info": {
   "name": "python",
   "codemirror_mode": {
    "name": "ipython",
    "version": 3
   },
   "version": "3.7.4-final"
  },
  "orig_nbformat": 2,
  "file_extension": ".py",
  "mimetype": "text/x-python",
  "name": "python",
  "npconvert_exporter": "python",
  "pygments_lexer": "ipython3",
  "version": 3,
  "kernelspec": {
   "name": "python37464bit44bd22c616ce401f9d42e1d4ecdf2300",
   "display_name": "Python 3.7.4 64-bit"
  }
 },
 "cells": [
  {
   "cell_type": "code",
   "execution_count": 36,
   "metadata": {},
   "outputs": [],
   "source": [
    "%run \"C:\\\\Users\\\\yoshi\\\\Music\\\\BlankSort-Prototypes\\\\src\\\\BlankSort.py\""
   ]
  },
  {
   "cell_type": "code",
   "execution_count": 37,
   "metadata": {},
   "outputs": [
    {
     "name": "stdout",
     "output_type": "stream",
     "text": "Database path: C:\\Users\\yoshi\\Music\\BlankSort-Prototypes\\binaries\\data\\blanksort.database\n[nltk_data] Downloading package wordnet to\n[nltk_data]     C:\\Users\\yoshi\\AppData\\Roaming\\nltk_data...\n[nltk_data]   Package wordnet is already up-to-date!\n[nltk_data] Downloading package stopwords to\n[nltk_data]     C:\\Users\\yoshi\\AppData\\Roaming\\nltk_data...\n[nltk_data]   Package stopwords is already up-to-date!\n[nltk_data] Downloading package punkt to\n[nltk_data]     C:\\Users\\yoshi\\AppData\\Roaming\\nltk_data...\n[nltk_data]   Package punkt is already up-to-date!\n[nltk_data] Downloading package averaged_perceptron_tagger to\n[nltk_data]     C:\\Users\\yoshi\\AppData\\Roaming\\nltk_data...\n[nltk_data]   Package averaged_perceptron_tagger is already up-to-\n[nltk_data]       date!\n"
    }
   ],
   "source": [
    "blanksort=BlankSort(\"C:\\\\Users\\\\yoshi\\\\Music\\\\BlankSort-Prototypes\\\\binaries\\\\data\")"
   ]
  },
  {
   "cell_type": "code",
   "execution_count": 57,
   "metadata": {},
   "outputs": [],
   "source": [
    "import glob\n",
    "import re\n",
    "import math\n",
    "from IPython.display import clear_output\n",
    "inspecPath=\"C:\\\\Users\\\\yoshi\\\\Music\\\\BlankSort-Prototypes\\\\binaries\\\\data\\\\Inspec\\\\\""
   ]
  },
  {
   "cell_type": "code",
   "execution_count": 61,
   "metadata": {},
   "outputs": [
    {
     "name": "stdout",
     "output_type": "stream",
     "text": "Iteration: 2000 / 2000\nAccuracy: 0.8253294695335749\nPrecision: 0.5013266438323122\nRecall: 0.4629468760441029\nF1 Score: 0.48137296909198285\n"
    }
   ],
   "source": [
    "truePositives=0\n",
    "falsePositives=0\n",
    "trueNegatives=0\n",
    "falseNegatives=0\n",
    "total=0\n",
    "iteration=0\n",
    "allPaths=glob.glob(os.path.join(inspecPath,\"docsutf8\\\\*\"))\n",
    "for path in allPaths:\n",
    "    filename=os.path.basename(path).split(\".\")[0]\n",
    "    with open(os.path.join(inspecPath,os.path.join(\"keys\",filename+\".key\"))) as answer:\n",
    "        answerKey=set(blanksort.cleanText(answer.read()))\n",
    "        inputString=open(path).read()\n",
    "        wordCount=len(re.findall(r'\\w+', inputString))\n",
    "        maxScore=len(answerKey)\n",
    "        ranked=set(blanksort.rank(inputString,listSize=maxScore))\n",
    "        # print(ranked,\"\\n\",answerKey)\n",
    "        truePositive=len(answerKey & ranked)\n",
    "        falsePositive=0\n",
    "        falseNegative=0\n",
    "        for word in ranked:\n",
    "            if word not in answerKey:\n",
    "                falsePositive+=1\n",
    "        for word in answerKey:\n",
    "            if word not in ranked:\n",
    "                falseNegative+=1\n",
    "        trueNegative=wordCount-truePositive - falsePositive - falseNegative\n",
    "        truePositives+=truePositive\n",
    "        trueNegatives+=trueNegative\n",
    "        falsePositives+=falsePositive\n",
    "        falseNegatives+=falseNegative\n",
    "        total+=wordCount\n",
    "        accuracy=(truePositives+trueNegatives)/total\n",
    "        precision=truePositives/(truePositives+falsePositives)\n",
    "        recall=truePositives/(truePositives+falseNegatives)\n",
    "        f1Score=2*(precision*recall)/(precision+recall)\n",
    "        clear_output(wait=True)\n",
    "        iteration+=1\n",
    "        print(\"Iteration:\",iteration,\"/\",len(allPaths))\n",
    "        print(\"Accuracy:\",accuracy)\n",
    "        print(\"Precision:\", precision)\n",
    "        print(\"Recall:\", recall)\n",
    "        print(\"F1 Score:\", f1Score)"
   ]
  }
 ]
}