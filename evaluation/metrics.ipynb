{
 "nbformat": 4,
 "nbformat_minor": 2,
 "metadata": {
  "language_info": {
   "name": "python",
   "codemirror_mode": {
    "name": "ipython",
    "version": 3
   },
   "version": "3.7.4-final"
  },
  "orig_nbformat": 2,
  "file_extension": ".py",
  "mimetype": "text/x-python",
  "name": "python",
  "npconvert_exporter": "python",
  "pygments_lexer": "ipython3",
  "version": 3,
  "kernelspec": {
   "name": "python37464bit44bd22c616ce401f9d42e1d4ecdf2300",
   "display_name": "Python 3.7.4 64-bit"
  }
 },
 "cells": [
  {
   "cell_type": "code",
   "execution_count": 36,
   "metadata": {},
   "outputs": [],
   "source": [
    "%run \"C:\\\\Users\\\\yoshi\\\\Music\\\\BlankSort-Prototypes\\\\src\\\\BlankSort.py\""
   ]
  },
  {
   "cell_type": "code",
   "execution_count": 37,
   "metadata": {},
   "outputs": [
    {
     "name": "stdout",
     "output_type": "stream",
     "text": "Database path: C:\\Users\\yoshi\\Music\\BlankSort-Prototypes\\binaries\\data\\blanksort.database\n[nltk_data] Downloading package wordnet to\n[nltk_data]     C:\\Users\\yoshi\\AppData\\Roaming\\nltk_data...\n[nltk_data]   Package wordnet is already up-to-date!\n[nltk_data] Downloading package stopwords to\n[nltk_data]     C:\\Users\\yoshi\\AppData\\Roaming\\nltk_data...\n[nltk_data]   Package stopwords is already up-to-date!\n[nltk_data] Downloading package punkt to\n[nltk_data]     C:\\Users\\yoshi\\AppData\\Roaming\\nltk_data...\n[nltk_data]   Package punkt is already up-to-date!\n[nltk_data] Downloading package averaged_perceptron_tagger to\n[nltk_data]     C:\\Users\\yoshi\\AppData\\Roaming\\nltk_data...\n[nltk_data]   Package averaged_perceptron_tagger is already up-to-\n[nltk_data]       date!\n"
    }
   ],
   "source": [
    "blanksort=BlankSort(\"C:\\\\Users\\\\yoshi\\\\Music\\\\BlankSort-Prototypes\\\\binaries\\\\data\")"
   ]
  },
  {
   "cell_type": "code",
   "execution_count": 38,
   "metadata": {},
   "outputs": [],
   "source": [
    "import glob\n",
    "import re\n",
    "import math\n",
    "inspecPath=\"C:\\\\Users\\\\yoshi\\\\Music\\\\BlankSort-Prototypes\\\\binaries\\\\data\\\\Inspec\\\\\""
   ]
  },
  {
   "cell_type": "code",
   "execution_count": 44,
   "metadata": {},
   "outputs": [
    {
     "name": "stdout",
     "output_type": "stream",
     "text": "Average: 100.0%, Score: 4 / 4\nAverage: 100.0%, Score: 13 / 13\nAverage: 88.89%, Score: 7 / 10\nAverage: 84.85%, Score: 4 / 6\nAverage: 87.81%, Score: 8 / 8\nAverage: 87.28%, Score: 12 / 14\nAverage: 75.65%, Score: 11 / 23\nAverage: 72.73%, Score: 21 / 32\nAverage: 74.08%, Score: 20 / 25\nAverage: 77.71%, Score: 22 / 22\nAverage: 75.81%, Score: 19 / 29\nAverage: 77.26%, Score: 22 / 25\nAverage: 76.5%, Score: 16 / 23\nAverage: 76.83%, Score: 10 / 12\nAverage: 76.61%, Score: 14 / 19\nAverage: 76.9%, Score: 20 / 25\nAverage: 78.0%, Score: 18 / 19\nAverage: 77.61%, Score: 12 / 17\nAverage: 77.36%, Score: 10 / 14\nAverage: 78.69%, Score: 25 / 26\nAverage: 78.6%, Score: 13 / 17\nAverage: 78.65%, Score: 12 / 15\nAverage: 78.14%, Score: 30 / 41\nAverage: 78.32%, Score: 11 / 13\nAverage: 79.11%, Score: 17 / 17\nAverage: 78.74%, Score: 14 / 20\nAverage: 79.12%, Score: 28 / 33\nAverage: 79.48%, Score: 13 / 14\nAverage: 79.51%, Score: 20 / 25\nAverage: 79.94%, Score: 24 / 27\nAverage: 79.67%, Score: 12 / 17\nAverage: 79.91%, Score: 27 / 32\nAverage: 80.0%, Score: 15 / 18\nAverage: 80.0%, Score: 28 / 35\nAverage: 79.92%, Score: 17 / 22\nAverage: 79.92%, Score: 16 / 20\nAverage: 79.61%, Score: 16 / 23\nAverage: 79.32%, Score: 5 / 9\nAverage: 78.85%, Score: 9 / 16\nAverage: 79.1%, Score: 13 / 14\nAverage: 78.68%, Score: 14 / 22\nAverage: 78.59%, Score: 4 / 6\nAverage: 78.71%, Score: 12 / 14\nAverage: 78.99%, Score: 11 / 11\nAverage: 79.2%, Score: 16 / 18\nAverage: 79.26%, Score: 14 / 17\nAverage: 79.43%, Score: 15 / 17\nAverage: 79.41%, Score: 11 / 14\nAverage: 79.13%, Score: 14 / 21\nAverage: 79.0%, Score: 13 / 18\nAverage: 78.78%, Score: 9 / 14\nAverage: 78.89%, Score: 16 / 19\nAverage: 78.81%, Score: 4 / 6\nAverage: 78.75%, Score: 8 / 11\nAverage: 78.86%, Score: 13 / 15\nAverage: 78.82%, Score: 9 / 12\nAverage: 78.98%, Score: 19 / 22\nAverage: 79.18%, Score: 10 / 10\nAverage: 79.49%, Score: 16 / 16\nAverage: 79.73%, Score: 17 / 18\nAverage: 80.0%, Score: 15 / 15\nAverage: 80.06%, Score: 11 / 13\nAverage: 80.09%, Score: 14 / 17\nAverage: 80.2%, Score: 6 / 6\nAverage: 79.75%, Score: 18 / 29\nAverage: 79.43%, Score: 1 / 6\nAverage: 79.17%, Score: 8 / 14\nAverage: 78.97%, Score: 11 / 17\nAverage: 78.96%, Score: 7 / 9\nAverage: 79.05%, Score: 13 / 15\nAverage: 79.1%, Score: 14 / 17\nAverage: 78.94%, Score: 13 / 19\nAverage: 78.03%, Score: 8 / 25\nAverage: 77.82%, Score: 12 / 19\nAverage: 77.92%, Score: 13 / 15\nAverage: 77.68%, Score: 10 / 17\nAverage: 77.5%, Score: 7 / 12\nAverage: 77.86%, Score: 22 / 22\nAverage: 78.04%, Score: 18 / 20\nAverage: 77.98%, Score: 14 / 19\nAverage: 77.92%, Score: 14 / 19\nAverage: 77.89%, Score: 12 / 16\nAverage: 77.84%, Score: 14 / 19\nAverage: 78.03%, Score: 13 / 13\nAverage: 78.23%, Score: 14 / 14\nAverage: 78.25%, Score: 8 / 10\nAverage: 78.24%, Score: 7 / 9\nAverage: 78.36%, Score: 12 / 13\nAverage: 78.36%, Score: 11 / 14\nAverage: 78.53%, Score: 12 / 12\nAverage: 78.75%, Score: 16 / 16\nAverage: 78.78%, Score: 10 / 12\nAverage: 78.66%, Score: 9 / 14\nAverage: 78.81%, Score: 15 / 16\nAverage: 78.73%, Score: 9 / 13\nAverage: 78.66%, Score: 6 / 9\nAverage: 78.79%, Score: 10 / 10\nAverage: 78.91%, Score: 13 / 14\nAverage: 78.93%, Score: 9 / 11\nAverage: 79.26%, Score: 27 / 27\n"
    }
   ],
   "source": [
    "totalCorrect=0\n",
    "totalAsked=0\n",
    "for path in glob.glob(os.path.join(inspecPath,\"docsutf8\\\\*\"))[:100]:\n",
    "    filename=os.path.basename(path).split(\".\")[0]\n",
    "    with open(os.path.join(inspecPath,os.path.join(\"keys\",filename+\".key\"))) as answer:\n",
    "        words=blanksort.cleanText(answer.read())\n",
    "        ranked=blanksort.rank(open(path).read(),listSize=len(words))\n",
    "        # print(ranked,\"\\n\",words)\n",
    "        maxScore=len(words)//2\n",
    "        totalAsked+=maxScore\n",
    "        numCorrect=min(maxScore,len(set(words) & set(ranked)))\n",
    "        totalCorrect+=numCorrect\n",
    "        print(\"Average: \" + str(math.ceil(round(pow(10,4)*totalCorrect/ float(totalAsked),4))/pow(10,2))+ \"%, Score: \"+str(numCorrect)+\" / \"+str(maxScore))\n",
    "        # print(\"\\n\")"
   ]
  }
 ]
}