{
 "nbformat": 4,
 "nbformat_minor": 2,
 "metadata": {
  "language_info": {
   "name": "python",
   "codemirror_mode": {
    "name": "ipython",
    "version": 3
   },
   "version": "3.7.4"
  },
  "orig_nbformat": 2,
  "file_extension": ".py",
  "mimetype": "text/x-python",
  "name": "python",
  "npconvert_exporter": "python",
  "pygments_lexer": "ipython3",
  "version": 3
 },
 "cells": [
  {
   "cell_type": "code",
   "execution_count": 7,
   "metadata": {},
   "outputs": [],
   "source": [
    "%run ./experiments/textrank.py"
   ]
  },
  {
   "cell_type": "code",
   "execution_count": 11,
   "metadata": {},
   "outputs": [
    {
     "data": {
      "text/plain": "[['word embedding', 0.15510324303876633],\n ['natural language processing', 0.14850455180616406],\n ['language modeling', 0.14171572249884734],\n ['many dimensions', 0.12574423963609954],\n ['words', 0.12270068766770109],\n ['feature learning', 0.12115026329099621],\n ['vectors', 0.1174722550710493],\n ['real numbers', 0.10318787584314659],\n ['a continuous vector space', 0.10041917126403174],\n ['techniques', 0.09298684590979908],\n ['nlp', 0.08486645002685855],\n ['phrases', 0.07911807282201638],\n ['a mathematical embedding', 0.0760200605081818],\n ['the collective name', 0.05976902962900966],\n ['a space', 0.059765982286682555],\n ['a much lower dimension', 0.04818667814497544],\n ['a set', 0.04606745203380598],\n ['the vocabulary', 0.04338854999429642],\n ['it', 0.0]]"
     },
     "execution_count": 11,
     "metadata": {},
     "output_type": "execute_result"
    }
   ],
   "source": [
    "rankText(\"TensorFlow is a free and open-source software library for dataflow and differentiable programming across a range of tasks. It is a symbolic math library, and is also used for machine learning applications such as neural networks.\")"
   ]
  }
 ]
}