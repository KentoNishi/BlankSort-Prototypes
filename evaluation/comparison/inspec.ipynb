{
 "cells": [
  {
   "cell_type": "code",
   "execution_count": null,
   "metadata": {},
   "outputs": [],
   "source": [
    "inspecPath = \"C:\\\\Users\\\\yoshi\\\\Music\\\\BlankSort-Prototypes\\\\binaries\\\\data\\\\Inspec\\\\\"\n",
    "%run \"C:\\\\Users\\\\yoshi\\\\Music\\\\BlankSort-Prototypes\\\\blanksort\\\\BlankSort.py\"\n",
    "%run \"C:\\\\Users\\\\yoshi\\\\Music\\\\BlankSort-Prototypes\\\\evaluation\\\\comparison\\\\runExtraction.py\"\n",
    "%run \"C:\\\\Users\\\\yoshi\\\\Music\\\\BlankSort-Prototypes\\\\evaluation\\\\comparison\\\\rakeenv.py\"\n",
    "%run \"C:\\\\Users\\\\yoshi\\\\Music\\\\BlankSort-Prototypes\\\\evaluation\\\\comparison\\\\textrankenv.py\"\n",
    "%run \"C:\\\\Users\\\\yoshi\\\\Music\\\\BlankSort-Prototypes\\\\evaluation\\\\comparison\\\\multipartiterankenv.py\"\n",
    "%run \"C:\\\\Users\\\\yoshi\\\\Music\\\\BlankSort-Prototypes\\\\evaluation\\\\comparison\\\\topicrankenv.py\"\n",
    "# Use https://github.com/boudinfl/pke for:\n",
    "# SingleRank, TopicRank, TopicalPageRank, PositionRank, MultipartiteRank"
   ]
  },
  {
   "cell_type": "code",
   "execution_count": null,
   "metadata": {},
   "outputs": [],
   "source": [
    "def inNB():\n",
    "    return hasattr(__builtins__, \"__IPYTHON__\")"
   ]
  },
  {
   "cell_type": "code",
   "execution_count": null,
   "metadata": {},
   "outputs": [],
   "source": [
    "def clearConsole():\n",
    "    if inNB():\n",
    "        from IPython.display import clear_output\n",
    "        clear_output(wait=True)\n",
    "    else:\n",
    "        os.system(\"cls\")"
   ]
  },
  {
   "cell_type": "code",
   "execution_count": null,
   "metadata": {},
   "outputs": [],
   "source": [
    "blanksort=BlankSort(\"C:\\\\Users\\\\yoshi\\\\Music\\\\BlankSort-Prototypes\\\\binaries\\\\data\",saveGeneratedVectors=True)\n",
    "algoEnvs = [\n",
    "    (Algo(\"BlankSort\"), blanksort),\n",
    "    (Algo(\"RAKE\"), RakeEnv()),\n",
    "    (Algo(\"TextRank\"), TextRankEnv()),\n",
    "    (Algo(\"MultipartiteRank\"), MultipartiteRankEnv()),\n",
    "    (Algo(\"TopicRank\"), TopicRankEnv()),\n",
    "]"
   ]
  },
  {
   "cell_type": "code",
   "execution_count": null,
   "metadata": {},
   "outputs": [],
   "source": [
    "def printMetrics():\n",
    "    allPaths=glob.glob(os.path.join(inspecPath,\"docsutf8\\\\*\"))\n",
    "    iteration=0\n",
    "    for path in allPaths:\n",
    "        try:\n",
    "            filename=os.path.basename(path).split(\".\")[0]\n",
    "            with open(os.path.join(inspecPath,os.path.join(\"keys\",filename+\".key\"))) as answer:\n",
    "                answerKey=blanksort.cleanText(answer.read())\n",
    "                answerKey=[word for word in answerKey if word.isalpha()]\n",
    "                answerKey=set(answerKey)\n",
    "                inputString=open(path).read()\n",
    "                outputString=runAlgos(\"Inspec\",inputString, answerKey, algoEnvs, allPaths)\n",
    "                clearConsole()\n",
    "                iteration+=1\n",
    "                print(\"Iteration \" + str(iteration)+\"\\n\")\n",
    "                print(outputString)\n",
    "        except Exception:\n",
    "            pass"
   ]
  },
  {
   "cell_type": "code",
   "execution_count": null,
   "metadata": {},
   "outputs": [],
   "source": [
    "printMetrics()"
   ]
  }
 ],
 "metadata": {
  "file_extension": ".py",
  "kernelspec": {
   "display_name": "Python 3.7.4 64-bit",
   "language": "python",
   "name": "python37464bit44bd22c616ce401f9d42e1d4ecdf2300"
  },
  "language_info": {
   "codemirror_mode": {
    "name": "ipython",
    "version": 3
   },
   "file_extension": ".py",
   "mimetype": "text/x-python",
   "name": "python",
   "nbconvert_exporter": "python",
   "pygments_lexer": "ipython3",
   "version": "3.7.4-final"
  },
  "mimetype": "text/x-python",
  "name": "python",
  "npconvert_exporter": "python",
  "pygments_lexer": "ipython3",
  "version": 3
 },
 "nbformat": 4,
 "nbformat_minor": 2
}