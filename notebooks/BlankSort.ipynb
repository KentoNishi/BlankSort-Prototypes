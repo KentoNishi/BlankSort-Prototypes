{
 "nbformat": 4,
 "nbformat_minor": 2,
 "metadata": {
  "language_info": {
   "name": "python",
   "codemirror_mode": {
    "name": "ipython",
    "version": 3
   },
   "version": "3.7.4"
  },
  "orig_nbformat": 2,
  "file_extension": ".py",
  "mimetype": "text/x-python",
  "name": "python",
  "npconvert_exporter": "python",
  "pygments_lexer": "ipython3",
  "version": 3
 },
 "cells": [
  {
   "cell_type": "code",
   "execution_count": 1,
   "metadata": {},
   "outputs": [],
   "source": [
    "from gensim.models import fasttext as ft\n",
    "import numpy as np\n",
    "import os\n",
    "import nltk\n",
    "from nltk.corpus import stopwords\n",
    "import operator\n",
    "import re"
   ]
  },
  {
   "cell_type": "code",
   "execution_count": 2,
   "metadata": {},
   "outputs": [
    {
     "name": "stderr",
     "output_type": "stream",
     "text": "[nltk_data] Downloading package wordnet to\n[nltk_data]     C:\\Users\\yoshi\\AppData\\Roaming\\nltk_data...\n[nltk_data]   Package wordnet is already up-to-date!\n[nltk_data] Downloading package stopwords to\n[nltk_data]     C:\\Users\\yoshi\\AppData\\Roaming\\nltk_data...\n[nltk_data]   Package stopwords is already up-to-date!\n"
    },
    {
     "data": {
      "text/plain": "True"
     },
     "execution_count": 2,
     "metadata": {},
     "output_type": "execute_result"
    }
   ],
   "source": [
    "nltk.download('wordnet')\n",
    "nltk.download('stopwords')"
   ]
  },
  {
   "cell_type": "code",
   "execution_count": 3,
   "metadata": {},
   "outputs": [
    {
     "name": "stderr",
     "output_type": "stream",
     "text": "C:\\Users\\yoshi\\AppData\\Local\\Programs\\Python\\Python37\\lib\\site-packages\\gensim\\models\\base_any2vec.py:743: UserWarning: C extension not loaded, training will be slow. Install a C compiler and reinstall gensim for fast training.\n  \"C extension not loaded, training will be slow. \"\n"
    }
   ],
   "source": [
    "# https://fasttext.cc/docs/en/crawl-vectors.html\n",
    "model=ft.load_facebook_model(os.path.join(os.getcwd(),\"binaries/data/cc.en.300.bin\"))"
   ]
  },
  {
   "cell_type": "code",
   "execution_count": 4,
   "metadata": {},
   "outputs": [],
   "source": [
    "window_size=3\n",
    "stemmer = nltk.wordnet.WordNetLemmatizer()"
   ]
  },
  {
   "cell_type": "code",
   "execution_count": 161,
   "metadata": {},
   "outputs": [],
   "source": [
    "def rank(text):\n",
    "    text=text.lower()\n",
    "    stops = set(stopwords.words(\"english\"))\n",
    "    tokens = nltk.word_tokenize(text)\n",
    "    stemmed_words = [stemmer.lemmatize(word) for word in tokens if word not in stops]\n",
    "    filtered_words=[]\n",
    "    for word in stemmed_words:\n",
    "        filtered=re.sub('[^a-zA-Z]', '', word)\n",
    "        if(filtered in model.wv.vocab):\n",
    "            filtered_words.append(word)\n",
    "    scores=dict()\n",
    "    counts=dict()\n",
    "    contextSizes=dict()\n",
    "    for i in range(len(filtered_words)):\n",
    "        counts.setdefault(filtered_words[i],0)\n",
    "        counts[filtered_words[i]]+=1\n",
    "        leftBound=max(0,i-window_size)\n",
    "        rightBound=min(len(filtered_words)-1,i+window_size)\n",
    "        contextSize=rightBound-leftBound+1\n",
    "        #if(filtered_words[i] in contextSizes or contextSize!=2*window_size+1):\n",
    "        contextSizes.setdefault(filtered_words[i],contextSize)\n",
    "        contextSizes[filtered_words[i]]+=contextSize\n",
    "        for j in range(i+1,rightBound+1):\n",
    "            similarity_score=model.wv.similarity(filtered_words[i],filtered_words[j])\n",
    "            similarity_score=(similarity_score+1)/2.0\n",
    "            scores.setdefault(filtered_words[i],similarity_score)\n",
    "            scores.setdefault(filtered_words[j],similarity_score)\n",
    "            scores[filtered_words[i]]+=similarity_score#min(scores[filtered_words[i]],similarity_score)\n",
    "            scores[filtered_words[j]]+=similarity_score#min(scores[filtered_words[j]],similarity_score)\n",
    "    wordScores=list(map(list, scores.items()))\n",
    "    for i in range(len(wordScores)):\n",
    "        contextSize=contextSizes[wordScores[i][0]] #if wordScores[i][0] in contextSizes else 2*window_size-1 \n",
    "        wordScores[i][1]=wordScores[i][1]/(contextSize)\n",
    "    wordScores=sorted(wordScores, key = lambda x: x[1])#,reverse=True)\n",
    "    filteredWordScores=[]\n",
    "    for word in wordScores:\n",
    "        filtered=re.sub('[^a-zA-Z]', '', word[0])\n",
    "        if(len(filtered)>2):\n",
    "            filteredWordScores.append([filtered,word[1]])\n",
    "    return filteredWordScores"
   ]
  },
  {
   "cell_type": "code",
   "execution_count": 160,
   "metadata": {},
   "outputs": [
    {
     "data": {
      "text/plain": "[['taliban', 0.054222761358444886],\n ['force', 0.05639106034308613],\n ['afghanistan', 0.08826384606904217],\n ['american', 0.0998080101828756],\n ['special', 0.10209932577397142],\n ['afghan', 0.12557344352050373],\n ['province', 0.13030662578308866],\n ['year', 0.13304821279650372],\n ['group', 0.13841838562317813],\n ['dec', 0.17050124707055234],\n ['tweet', 0.17125326727649995],\n ['florida', 0.17442986648529768],\n ['died', 0.17627185037625687],\n ['attack', 0.17657466596435933],\n ['base', 0.17789032873475835],\n ['operation', 0.17804899326126492],\n ['class', 0.17842133453507958],\n ['member', 0.18051825956042325],\n ['brother', 0.1808871851480078],\n ['killing', 0.1811522598422709],\n ['district', 0.18119455647787877],\n ['continue', 0.18334001741771186],\n ['three', 0.18487973371520638],\n ['killed', 0.1878426314464637],\n ['army', 0.18870439646499498],\n ['family', 0.18927055384431565],\n ['government', 0.19039210286878405],\n ['sgt', 0.19652114994823933],\n ['score', 0.26795570991401163],\n ['col', 0.26842381938227583],\n ['halted', 0.2695752094898905],\n ['seizing', 0.26964077474882026],\n ['seeking', 0.27167204388284255],\n ['westwood', 0.2721271284057626],\n ['along', 0.27258122803842916],\n ['mistakenly', 0.27305477312100784],\n ['approximately', 0.27315025138003485],\n ['added', 0.2735385061906917],\n ['resumed', 0.2738926464558712],\n ['unit', 0.2740322994068265],\n ['blew', 0.2746666897354381],\n ['including', 0.275055998821959],\n ['sunday', 0.27551684715685304],\n ['remove', 0.2757246787742978],\n ['device', 0.2758608363302691],\n ['commando', 0.27607058036145254],\n ['beret', 0.2761965777192797],\n ['washington', 0.27623459370806813],\n ['native', 0.2764003537595272],\n ['expelled', 0.2768372990457075],\n ['power', 0.277245555358864],\n ['statement', 0.27761389567915884],\n ['candidate', 0.2778165547975472],\n ['directly', 0.27788154405009535],\n ['continued', 0.2789573089352676],\n ['september', 0.2789789965110166],\n ['tour', 0.27919785359076094],\n ['third', 0.2793509384085025],\n ['commitment', 0.27935805318078827],\n ['cache', 0.280017914117447],\n ['survived', 0.2801075954256313],\n ['harboring', 0.28013086026268347],\n ['green', 0.2801397650369576],\n ['negotiation', 0.28020264354667496],\n ['center', 0.2805918766451733],\n ['death', 0.2807826426412378],\n ['earned', 0.2810309224628976],\n ['firm', 0.2810551902678396],\n ['vehicle', 0.2811212163235593],\n ['talk', 0.2815424951591662],\n ['president', 0.2817025405487844],\n ['border', 0.28170617550079313],\n ['since', 0.2818874320281403],\n ['aircraft', 0.2819038487837783],\n ['trauma', 0.2819199590012431],\n ['assigned', 0.28320734043206486],\n ['mujahid', 0.283363537995943],\n ['npr', 0.28348881226598416],\n ['partner', 0.2835052532276937],\n ['duty', 0.2836399964456047],\n ['northwest', 0.28365788076605114],\n ['two', 0.28371271264872383],\n ['would', 0.28393901299153057],\n ['city', 0.2842840291559696],\n ['said', 0.2844567895683992],\n ['refused', 0.28460215717288],\n ['considers', 0.28463925587545547],\n ['eponymous', 0.2848883902853621],\n ['four', 0.2857956455222198],\n ['either', 0.2867626611675535],\n ['disputed', 0.28680081638906685],\n ['repeated', 0.2868875437416136],\n ['many', 0.28690134694001507],\n ['without', 0.28695209457405974],\n ['sept', 0.28710835629941095],\n ['come', 0.28720968652383555],\n ['run', 0.2876120200380683],\n ['qatar', 0.28762680385261774],\n ['tell', 0.28783189079591204],\n ['eighteen', 0.28849662554317285],\n ['doctor', 0.28866991427327904],\n ['claimed', 0.288802981509694],\n ['john', 0.2896380652008312],\n ['state', 0.28971672616899014],\n ['fatally', 0.29001047369092703],\n ['occupied', 0.290135158225894],\n ['james', 0.2903576616663486],\n ['circumstance', 0.290626856099282],\n ['trump', 0.290696293381708],\n ['explosion', 0.2907921343243548],\n ['wounded', 0.2909380008599588],\n ['briefly', 0.2910249851910131],\n ['demanding', 0.2913010462320277],\n ['located', 0.29155136831104755],\n ['official', 0.29186958340661867],\n ['birthday', 0.291893334793193],\n ['injury', 0.2919790392874607],\n ['northern', 0.29222580125289305],\n ['illegitimate', 0.2923006873045649],\n ['allow', 0.29264926145385417],\n ['population', 0.29311381320336033],\n ['improvised', 0.29323834034481217],\n ['due', 0.2937303072373782],\n ['leader', 0.2940843769548727],\n ['become', 0.29453557370496647],\n ['explosive', 0.294616880693606],\n ['honor', 0.29535546260220663],\n ['beloved', 0.29556231174085823],\n ['islamic', 0.2957004453720791],\n ['commander', 0.29621874780527185],\n ['spokesman', 0.29629487451165915],\n ['past', 0.29663473347734126],\n ['bombed', 0.2966712165091719],\n ['patient', 0.2966847632612501],\n ['worker', 0.2971470866884504],\n ['negotiate', 0.2976197444700769],\n ['contested', 0.2981773918028921],\n ['week', 0.29825144154684885],\n ['battalion', 0.29854349685566767],\n ['provide', 0.29858700146100353],\n ['half', 0.2990188968500921],\n ['capital', 0.29914125820089665],\n ['airborne', 0.2992596623620817],\n ['peace', 0.2998897608901773],\n ['weapon', 0.30087000344480785],\n ['part', 0.30110358553273336],\n ['care', 0.30242356777723345],\n ['still', 0.30273292692644255],\n ['pentagon', 0.3027596319360392],\n ['controlled', 0.3035715101286769],\n ['history', 0.3038875687468265],\n ['kabul', 0.3043225631117821],\n ['soldier', 0.3044060513909374],\n ['overthrew', 0.3045033322913306],\n ['hospital', 0.30511361972561907],\n ['wounding', 0.30584064887703527],\n ['resulting', 0.30640873931614415],\n ['longest', 0.30666685929255827],\n ['recently', 0.3069459894405944],\n ['suicide', 0.3069478635277067],\n ['command', 0.30729412260864464],\n ['community', 0.3075431702392442],\n ['bombing', 0.3076477394040142],\n ['dominate', 0.30828838476112913],\n ['michael', 0.3088065935964031],\n ['later', 0.30882881289081915],\n ['invaded', 0.3094082535909755],\n ['one', 0.3095009441354445],\n ['possible', 0.3108581267297268],\n ['insurgent', 0.31169609046940294],\n ['fighting', 0.31186955901128904],\n ['nation', 0.31205051365707603],\n ['young', 0.3137880736695869],\n ['enlisted', 0.3144319871706622],\n ['sacrifice', 0.31466073729097843],\n ['best', 0.3150806027863707],\n ['air', 0.31890932335850913],\n ['daughter', 0.32077275635674596],\n ['war', 0.32447125390172005],\n ['another', 0.33306889422237873]]"
     },
     "execution_count": 160,
     "metadata": {},
     "output_type": "execute_result"
    }
   ],
   "source": [
    "rank(\"\"\"\n",
    "\n",
    "Sgt. 1st Class Michael James Goble died due to injuries resulting from an explosion on Dec. 22 in the Taliban-contested northern Afghan province of Kunduz. Two Pentagon officials tell NPR Goble's unit was seizing a Taliban weapons cache when he was fatally wounded.\n",
    "\n",
    "It was Goble's third tour of duty in Afghanistan, and he died three weeks before what would have been his 34th birthday.\n",
    "\n",
    "The Westwood, N.J., native is survived by his partner and their young daughter.\n",
    "\n",
    "Goble enlisted in the U.S. Army when he was 18 as a Special Forces candidate and earned a Green Beret three years later. He was most recently assigned to the 1st Battalion, 7th Special Forces Group (Airborne) at Eglin Air Force Base in Florida.\n",
    "\n",
    "\"Sgt. 1st Class Goble was more than just a member of the 7th Special Forces Group,\" the group's commander, Col. John Sannes, said in a statement from the U.S. Army Special Operations Command. \"He was a brother to us and a beloved family member to the Northwest Florida community.\"\n",
    "\n",
    "\"We will honor our brother's sacrifice and provide the best possible care to his family,\" Sannes added.\n",
    "\n",
    "The circumstances of Goble's death were disputed in a tweet by Taliban spokesman Zabidullah Mujahid. He claimed his forces blew up an American vehicle in Kunduz province on Sunday with an improvised explosive device, killing one American and wounding another along with an Afghan commando.\n",
    "\n",
    "Districts in Kunduz province, including its eponymous capital, have come under repeated attacks and been briefly occupied by Taliban forces over the past four years. U.S. aircraft mistakenly bombed a trauma center run by Doctors Without Borders in the city of Kunduz in 2015, killing scores of patients and hospital workers.\n",
    "\n",
    "More than 2,400 American forces have been killed in Afghanistan since the U.S. invaded that nation and overthrew its Taliban-controlled government, which continued harboring al-Qaida leaders after the Sept. 11, 2001 attacks in the U.S.\n",
    "\n",
    "The U.S. resumed peace negotiations with the Taliban in Qatar on Dec. 7. Those talks had been halted by President Trump in a September tweet after a suicide bombing in Kabul killed a U.S. soldier.\n",
    "\n",
    "The U.S. is seeking a firm commitment from the Taliban not to allow Afghanistan to continue as a base of operations for al-Qaida and Islamic State insurgents.\n",
    "\n",
    "The Taliban, which has refused to negotiate directly with an Afghan government it considers illegitimate, is demanding that Washington remove all of the approximately 13,000 American forces still fighting in what has become the longest war in U.S. history.\n",
    "\n",
    "More than eighteen years after being expelled from power, the Taliban continue to dominate in many parts of Afghanistan. More than half of Afghanistan's population is located in districts either controlled or contested by the Taliban.\n",
    "\"\"\")"
   ]
  }
 ]
}