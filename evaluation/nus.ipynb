{
 "nbformat": 4,
 "nbformat_minor": 2,
 "metadata": {
  "language_info": {
   "name": "python",
   "codemirror_mode": {
    "name": "ipython",
    "version": 3
   },
   "version": "3.7.4-final"
  },
  "orig_nbformat": 2,
  "file_extension": ".py",
  "mimetype": "text/x-python",
  "name": "python",
  "npconvert_exporter": "python",
  "pygments_lexer": "ipython3",
  "version": 3,
  "kernelspec": {
   "name": "python37464bit44bd22c616ce401f9d42e1d4ecdf2300",
   "display_name": "Python 3.7.4 64-bit"
  }
 },
 "cells": [
  {
   "cell_type": "code",
   "execution_count": 20,
   "metadata": {},
   "outputs": [],
   "source": [
    "%run \"C:\\\\Users\\\\yoshi\\\\Music\\\\BlankSort-Prototypes\\\\blanksort\\\\BlankSort.py\""
   ]
  },
  {
   "cell_type": "code",
   "execution_count": 21,
   "metadata": {},
   "outputs": [
    {
     "name": "stdout",
     "output_type": "stream",
     "text": "Database path: C:\\Users\\yoshi\\Music\\BlankSort-Prototypes\\binaries\\data\\blanksort.database\n[nltk_data] Downloading package wordnet to\n[nltk_data]     C:\\Users\\yoshi\\AppData\\Roaming\\nltk_data...\n[nltk_data]   Package wordnet is already up-to-date!\n[nltk_data] Downloading package stopwords to\n[nltk_data]     C:\\Users\\yoshi\\AppData\\Roaming\\nltk_data...\n[nltk_data]   Package stopwords is already up-to-date!\n[nltk_data] Downloading package punkt to\n[nltk_data]     C:\\Users\\yoshi\\AppData\\Roaming\\nltk_data...\n[nltk_data]   Package punkt is already up-to-date!\n[nltk_data] Downloading package averaged_perceptron_tagger to\n[nltk_data]     C:\\Users\\yoshi\\AppData\\Roaming\\nltk_data...\n[nltk_data]   Package averaged_perceptron_tagger is already up-to-\n[nltk_data]       date!\n"
    }
   ],
   "source": [
    "blanksort=BlankSort(\"C:\\\\Users\\\\yoshi\\\\Music\\\\BlankSort-Prototypes\\\\binaries\\\\data\")"
   ]
  },
  {
   "cell_type": "code",
   "execution_count": 22,
   "metadata": {},
   "outputs": [],
   "source": [
    "import glob\n",
    "import re\n",
    "import os\n",
    "import math\n",
    "nusPath=\"C:\\\\Users\\\\yoshi\\\\Music\\\\BlankSort-Prototypes\\\\binaries\\\\data\\\\nuc\\\\\""
   ]
  },
  {
   "cell_type": "code",
   "execution_count": 23,
   "metadata": {},
   "outputs": [],
   "source": [
    "def inNB():\n",
    "    return hasattr(__builtins__,'__IPYTHON__')"
   ]
  },
  {
   "cell_type": "code",
   "execution_count": 24,
   "metadata": {},
   "outputs": [],
   "source": [
    "def clearConsole():\n",
    "    if(inNB()):\n",
    "        from IPython.display import clear_output\n",
    "        clear_output(wait=True)\n",
    "    else:\n",
    "        os.system('cls')"
   ]
  },
  {
   "cell_type": "code",
   "execution_count": 25,
   "metadata": {},
   "outputs": [
    {
     "name": "stdout",
     "output_type": "stream",
     "text": "NUS Dataset:\nIteration: 12 / 212\nPrecision: 0.2716049382716049\nRecall: 0.2716049382716049\nF1 Score: 0.2716049382716049\n"
    }
   ],
   "source": [
    "truePositives=0\n",
    "falsePositives=0\n",
    "trueNegatives=0\n",
    "falseNegatives=0\n",
    "total=0\n",
    "iteration=0\n",
    "allPaths=glob.glob(os.path.join(nusPath,\"*\"))\n",
    "for path in allPaths:\n",
    "    basename=os.path.basename(path)\n",
    "    with open(os.path.join(path,basename+\".kwd\")) as answer:\n",
    "        answerKey=blanksort.cleanText(answer.read())\n",
    "        answerKey=[word for word in answerKey if word.isalpha() and len(word)>2]\n",
    "        answerKey=set(answerKey)\n",
    "        inputString=open(os.path.join(path,basename+\".txt\")).read()\n",
    "        wordCount=len(re.findall(r'\\w+', inputString))\n",
    "        maxScore=len(answerKey)\n",
    "        ranked=set(blanksort.rank(inputString,listSize=maxScore))\n",
    "        truePositive=len(answerKey & ranked)\n",
    "        falsePositive=0\n",
    "        falseNegative=0\n",
    "        for word in ranked:\n",
    "            if word not in answerKey:\n",
    "                falsePositive+=1\n",
    "        for word in answerKey:\n",
    "            if word not in ranked:\n",
    "                falseNegative+=1\n",
    "        trueNegative=wordCount-truePositive - falsePositive - falseNegative\n",
    "        truePositives+=truePositive\n",
    "        trueNegatives+=trueNegative\n",
    "        falsePositives+=falsePositive\n",
    "        falseNegatives+=falseNegative\n",
    "        total+=wordCount\n",
    "        accuracy=(truePositives+trueNegatives)/total\n",
    "        precision=truePositives/(truePositives+falsePositives)\n",
    "        recall=truePositives/(truePositives+falseNegatives)\n",
    "        f1Score=2*(precision*recall)/(precision+recall)\n",
    "        clearConsole()\n",
    "        iteration+=1\n",
    "        print(\"NUS Dataset:\")\n",
    "        print(\"Iteration:\",iteration,\"/\",len(allPaths))\n",
    "        # print(\"Accuracy:\",accuracy)\n",
    "        print(\"Precision:\", precision)\n",
    "        print(\"Recall:\", recall)\n",
    "        print(\"F1 Score:\", f1Score)"
   ]
  }
 ]
}