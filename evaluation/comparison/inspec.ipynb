{
 "nbformat": 4,
 "nbformat_minor": 2,
 "metadata": {
  "language_info": {
   "name": "python",
   "codemirror_mode": {
    "name": "ipython",
    "version": 3
   },
   "version": "3.7.4-final"
  },
  "orig_nbformat": 2,
  "file_extension": ".py",
  "mimetype": "text/x-python",
  "name": "python",
  "npconvert_exporter": "python",
  "pygments_lexer": "ipython3",
  "version": 3,
  "kernelspec": {
   "name": "python37464bit44bd22c616ce401f9d42e1d4ecdf2300",
   "display_name": "Python 3.7.4 64-bit"
  }
 },
 "cells": [
  {
   "cell_type": "code",
   "execution_count": 1,
   "metadata": {},
   "outputs": [],
   "source": [
    "%run \"C:\\\\Users\\\\yoshi\\\\Music\\\\BlankSort-Prototypes\\\\blanksort\\\\BlankSort.py\""
   ]
  },
  {
   "cell_type": "code",
   "execution_count": 2,
   "metadata": {},
   "outputs": [],
   "source": [
    "%run \"C:\\\\Users\\\\yoshi\\\\Music\\\\BlankSort-Prototypes\\\\evaluation\\\\comparison\\\\runExtraction.py\""
   ]
  },
  {
   "cell_type": "code",
   "execution_count": 3,
   "metadata": {},
   "outputs": [
    {
     "name": "stdout",
     "output_type": "stream",
     "text": "Database path: C:\\Users\\yoshi\\Music\\BlankSort-Prototypes\\binaries\\data\\blanksort.database\n[nltk_data] Downloading package wordnet to\n[nltk_data]     C:\\Users\\yoshi\\AppData\\Roaming\\nltk_data...\n[nltk_data]   Package wordnet is already up-to-date!\n[nltk_data] Downloading package stopwords to\n[nltk_data]     C:\\Users\\yoshi\\AppData\\Roaming\\nltk_data...\n[nltk_data]   Package stopwords is already up-to-date!\n[nltk_data] Downloading package punkt to\n[nltk_data]     C:\\Users\\yoshi\\AppData\\Roaming\\nltk_data...\n[nltk_data]   Package punkt is already up-to-date!\n[nltk_data] Downloading package averaged_perceptron_tagger to\n[nltk_data]     C:\\Users\\yoshi\\AppData\\Roaming\\nltk_data...\n[nltk_data]   Package averaged_perceptron_tagger is already up-to-\n[nltk_data]       date!\n"
    }
   ],
   "source": [
    "blanksort=BlankSort(\"C:\\\\Users\\\\yoshi\\\\Music\\\\BlankSort-Prototypes\\\\binaries\\\\data\")"
   ]
  },
  {
   "cell_type": "code",
   "execution_count": 4,
   "metadata": {},
   "outputs": [],
   "source": [
    "def inNB():\n",
    "    return hasattr(__builtins__, \"__IPYTHON__\")\n",
    "\n",
    "def clearConsole():\n",
    "    if inNB():\n",
    "        from IPython.display import clear_output\n",
    "        clear_output(wait=True)\n",
    "    else:\n",
    "        os.system(\"cls\")"
   ]
  },
  {
   "cell_type": "code",
   "execution_count": 5,
   "metadata": {},
   "outputs": [],
   "source": [
    "import glob\n",
    "import re\n",
    "import math\n",
    "inspecPath=\"C:\\\\Users\\\\yoshi\\\\Music\\\\BlankSort-Prototypes\\\\binaries\\\\data\\\\Inspec\\\\\""
   ]
  },
  {
   "cell_type": "code",
   "execution_count": 6,
   "metadata": {},
   "outputs": [],
   "source": [
    "%run \"C:\\\\Users\\\\yoshi\\\\Music\\\\BlankSort-Prototypes\\\\evaluation\\\\comparison\\\\rakeenv.py\""
   ]
  },
  {
   "cell_type": "code",
   "execution_count": 7,
   "metadata": {},
   "outputs": [],
   "source": [
    "%run \"C:\\\\Users\\\\yoshi\\\\Music\\\\BlankSort-Prototypes\\\\evaluation\\\\comparison\\\\textrankenv.py\""
   ]
  },
  {
   "cell_type": "code",
   "execution_count": 8,
   "metadata": {},
   "outputs": [],
   "source": [
    "# Use https://github.com/boudinfl/pke for:\n",
    "# SingleRank, TopicRank, TopicalPageRank, PositionRank, MultipartiteRank"
   ]
  },
  {
   "cell_type": "code",
   "execution_count": 9,
   "metadata": {},
   "outputs": [],
   "source": [
    "def printMetrics(message):\n",
    "    algoEnvs=[(Algo(\"BlankSort\"),blanksort),(Algo(\"RAKE\"),RakeEnv()),(Algo(\"TextRank\"),TextRankEnv())]\n",
    "    allPaths=glob.glob(os.path.join(inspecPath,\"docsutf8\\\\*\"))\n",
    "    for path in allPaths:\n",
    "        filename=os.path.basename(path).split(\".\")[0]\n",
    "        with open(os.path.join(inspecPath,os.path.join(\"keys\",filename+\".key\"))) as answer:\n",
    "            answerKey=blanksort.cleanText(answer.read())\n",
    "            answerKey=[word for word in answerKey if word.isalpha() and len(word)>2]\n",
    "            answerKey=set(answerKey)\n",
    "            inputString=open(path).read()\n",
    "            outputString=\"\"\n",
    "            for i in range(len(algoEnvs)):\n",
    "                outputString+=algoEnvs[i][0].runAlgo(\"Inspec\",inputString,answerKey,algoEnvs[i][1],allPaths)\n",
    "            clearConsole()\n",
    "            print(message+\"\\n\")\n",
    "            print(outputString)"
   ]
  },
  {
   "cell_type": "code",
   "execution_count": 10,
   "metadata": {},
   "outputs": [
    {
     "name": "stdout",
     "output_type": "stream",
     "text": "Metrics without vectors loaded into memory:\n\nInspec Dataset (BlankSort):\nIteration: 2000 / 2000\nPrecision: 0.5013617352397627\nRecall: 0.46503969686033925\nF1 Score:0.48251813714018255\nAverage Time (ms): 39.828125\n\nInspec Dataset (RAKE):\nIteration: 2000 / 2000\nPrecision: 0.47175454142667256\nRecall: 0.38424756405629734\nF1 Score:0.4235282418456643\nAverage Time (ms): 0.578125\n\nInspec Dataset (TextRank):\nIteration: 2000 / 2000\nPrecision: 0.5425497798897991\nRecall: 0.41974918801876576\nF1 Score:0.47331408878772074\nAverage Time (ms): 31.453125\n\n\n"
    }
   ],
   "source": [
    "printMetrics(\"Metrics without vectors loaded into memory:\")"
   ]
  },
  {
   "cell_type": "code",
   "execution_count": 11,
   "metadata": {},
   "outputs": [
    {
     "name": "stdout",
     "output_type": "stream",
     "text": "Metrics with vectors loaded into memory:\n\nInspec Dataset (BlankSort):\nIteration: 2000 / 2000\nPrecision: 0.5013617352397627\nRecall: 0.46503969686033925\nF1 Score:0.48251813714018255\nAverage Time (ms): 7.875\n\nInspec Dataset (RAKE):\nIteration: 2000 / 2000\nPrecision: 0.47175454142667256\nRecall: 0.38424756405629734\nF1 Score:0.4235282418456643\nAverage Time (ms): 0.640625\n\nInspec Dataset (TextRank):\nIteration: 2000 / 2000\nPrecision: 0.5425497798897991\nRecall: 0.41974918801876576\nF1 Score:0.47331408878772074\nAverage Time (ms): 31.9609375\n\n\n"
    }
   ],
   "source": [
    "printMetrics(\"Metrics with vectors loaded into memory:\")"
   ]
  }
 ]
}