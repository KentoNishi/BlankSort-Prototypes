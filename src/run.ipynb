{
 "nbformat": 4,
 "nbformat_minor": 2,
 "metadata": {
  "language_info": {
   "name": "python",
   "codemirror_mode": {
    "name": "ipython",
    "version": 3
   },
   "version": "3.7.4-final"
  },
  "orig_nbformat": 2,
  "file_extension": ".py",
  "mimetype": "text/x-python",
  "name": "python",
  "npconvert_exporter": "python",
  "pygments_lexer": "ipython3",
  "version": 3,
  "kernelspec": {
   "name": "python37464bit543297ca316a4fc9adf3109fd6b8c1a3",
   "display_name": "Python 3.7.4 64-bit"
  }
 },
 "cells": [
  {
   "cell_type": "code",
   "execution_count": 1,
   "metadata": {},
   "outputs": [],
   "source": [
    "# from BlankSort import *\n",
    "%run BlankSort.py"
   ]
  },
  {
   "cell_type": "code",
   "execution_count": 2,
   "metadata": {},
   "outputs": [
    {
     "name": "stderr",
     "output_type": "stream",
     "text": "[nltk_data] Downloading package wordnet to\n[nltk_data]     C:\\Users\\kento\\AppData\\Roaming\\nltk_data...\n[nltk_data]   Package wordnet is already up-to-date!\n[nltk_data] Downloading package stopwords to\n[nltk_data]     C:\\Users\\kento\\AppData\\Roaming\\nltk_data...\n[nltk_data]   Package stopwords is already up-to-date!\n[nltk_data] Downloading package punkt to\n[nltk_data]     C:\\Users\\kento\\AppData\\Roaming\\nltk_data...\n[nltk_data]   Package punkt is already up-to-date!\n"
    }
   ],
   "source": [
    "blanksort=BlankSort(\"../binaries/data\")"
   ]
  },
  {
   "cell_type": "code",
   "execution_count": 4,
   "metadata": {},
   "outputs": [
    {
     "data": {
      "text/plain": "[['student', 0.21606442320978192],\n ['project', 0.3044464155510094],\n ['hour', 0.3206141716334764],\n ['hackathon', 0.3228898295874833],\n ['develop', 0.60440570209514],\n ['opportunity', 0.6137385717185383],\n ['time', 0.6154871662173653],\n ['workshop', 0.6177179849730522],\n ['participate', 0.6290899385478659],\n ['school', 0.6341781106666466],\n ['community', 0.6462435977530795],\n ['programming', 0.6513868867907135],\n ['coding', 0.651979672471439],\n ['skill', 0.6544132166612352],\n ['create', 0.6567479199707709],\n ['level', 0.6596922287571418],\n ['impact', 0.6739132598106268],\n ['event', 0.682791001842016],\n ['started', 0.6986222823117828],\n ['solve', 0.6999911273126738],\n ['real', 0.7488400147745626],\n ['plenty', 0.7641284239550716],\n ['includes', 0.781559946446075]]"
     },
     "execution_count": 4,
     "metadata": {},
     "output_type": "execute_result"
    }
   ],
   "source": [
    "blanksort.rank(\"VikeHacks is a 12 hour hackathon, where high school students that participate have an opportunity to create a lasting impact in their community. It is a 12 hour event where students of all skill levels in programming come to solve real world problems through the use of coding. A hackathon includes workshops to help students get started on their projects as well as plenty of working time to work on and develop projects.\")"
   ]
  }
 ]
}