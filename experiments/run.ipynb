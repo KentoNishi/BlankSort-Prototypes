{
 "nbformat": 4,
 "nbformat_minor": 2,
 "metadata": {
  "language_info": {
   "name": "python",
   "codemirror_mode": {
    "name": "ipython",
    "version": 3
   },
   "version": "3.7.4-final"
  },
  "orig_nbformat": 2,
  "file_extension": ".py",
  "mimetype": "text/x-python",
  "name": "python",
  "npconvert_exporter": "python",
  "pygments_lexer": "ipython3",
  "version": 3,
  "kernelspec": {
   "name": "python37464bit44bd22c616ce401f9d42e1d4ecdf2300",
   "display_name": "Python 3.7.4 64-bit"
  }
 },
 "cells": [
  {
   "cell_type": "code",
   "execution_count": 1,
   "metadata": {},
   "outputs": [],
   "source": [
    "# from BlankSort import *\n",
    "%run \"C:\\\\Users\\\\yoshi\\\\Music\\\\BlankSort-Prototypes\\\\src\\\\BlankSort.py\""
   ]
  },
  {
   "cell_type": "code",
   "execution_count": 2,
   "metadata": {},
   "outputs": [
    {
     "name": "stdout",
     "output_type": "stream",
     "text": "Database path: C:\\Users\\yoshi\\Music\\BlankSort-Prototypes\\binaries\\data\\blanksort.database\n[nltk_data] Downloading package wordnet to\n[nltk_data]     C:\\Users\\yoshi\\AppData\\Roaming\\nltk_data...\n[nltk_data]   Package wordnet is already up-to-date!\n[nltk_data] Downloading package stopwords to\n[nltk_data]     C:\\Users\\yoshi\\AppData\\Roaming\\nltk_data...\n[nltk_data]   Package stopwords is already up-to-date!\n[nltk_data] Downloading package punkt to\n[nltk_data]     C:\\Users\\yoshi\\AppData\\Roaming\\nltk_data...\n[nltk_data]   Package punkt is already up-to-date!\n"
    }
   ],
   "source": [
    "blanksort=BlankSort(\"C:\\\\Users\\\\yoshi\\\\Music\\\\BlankSort-Prototypes\\\\binaries\\\\data\")"
   ]
  },
  {
   "cell_type": "code",
   "execution_count": 10,
   "metadata": {},
   "outputs": [
    {
     "data": {
      "text/plain": "[['iran', 0.2278423091545853],\n ['ukrainian', 0.22845784380921522],\n ['iranian', 0.24140022389565516],\n ['unit', 0.241910778453768],\n ['killing', 0.24278305523248425],\n ['shot', 0.24545415082817904],\n ['missile', 0.2547516379716487],\n ['consequential', 0.4319618118101494],\n ['iraq', 0.4341037140248454],\n ['decade', 0.46147434781654306],\n ['board', 0.462676980972237],\n ['demanding', 0.46503512995863766],\n ['launched', 0.4654051187209509],\n ['realized', 0.4655478901672462],\n ['extraordinary', 0.46668903864921685],\n ['united', 0.4688324612517784],\n ['saturday', 0.4695899944445552],\n ['compensation', 0.4707169223301057],\n ['hour', 0.4710062929992437],\n ['died', 0.47121279938520366],\n ['ukraine', 0.4734063991525988],\n ['week', 0.4742061147002765],\n ['admitting', 0.47428638028940756],\n ['time', 0.47450518522594],\n ['television', 0.47539392078262016],\n ['housing', 0.4760766088210853],\n ['responsible', 0.48042768399487595],\n ['cost', 0.4821590944040918],\n ['dead', 0.48248475684795705],\n ['openly', 0.48664542473519073],\n ['leader', 0.48709596482839196],\n ['culpa', 0.48953812536481883],\n ['victim', 0.49036921433863584],\n ['mea', 0.49064033355955267],\n ['mistakenly', 0.4913330684586083],\n ['investigation', 0.4921012819232531],\n ['people', 0.49444177448876137],\n ['unintended', 0.49458072678968834],\n ['troop', 0.49486817521931525],\n ['targeting', 0.49668147048817707],\n ['sky', 0.49745985019558653],\n ['base', 0.4995102865684992],\n ['foreign', 0.5004306110585552],\n ['conflict', 0.502214517684871],\n ['cruise', 0.5032183296294103],\n ['airliner', 0.5044588225558014],\n ['passenger', 0.5065115145471355],\n ['plane', 0.5076861935445035],\n ['commander', 0.5115716955732641],\n ['jet', 0.5116562962749173],\n ['canadian', 0.5140645326959679],\n ['tragic', 0.5218117284365061],\n ['war', 0.5305986742174744],\n ['military', 0.5447208805223266]]"
     },
     "execution_count": 10,
     "metadata": {},
     "output_type": "execute_result"
    }
   ],
   "source": [
    "blanksort.rank(\"\"\"\n",
    "This new decade's consequential first weeks began with the United States openly targeting and killing a foreign military leader for the first time since World War II. They ended with the tragic, unintended cost of conflict -- Iran admitting it mistakenly shot down a Ukrainian passenger jet, killing all 176 people on board.\n",
    "\n",
    "In an extraordinary mea culpa on Iranian state television Saturday, the commander of the unit responsible said \"I wished I was dead,\" when he realized that what his unit thought was a cruise missile was actually a plane.\n",
    "\n",
    "Ukraine is demanding a full investigation and compensation for the victims -- mostly Iranian, Canadian and Ukrainian -- who died when the airliner was shot out of the sky, hours after Iran launched a number of missiles at two bases housing US troops in Iraq.\n",
    "\"\"\")"
   ]
  }
 ]
}