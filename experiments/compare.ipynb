{
 "nbformat": 4,
 "nbformat_minor": 2,
 "metadata": {
  "language_info": {
   "name": "python",
   "codemirror_mode": {
    "name": "ipython",
    "version": 3
   },
   "version": "3.7.4"
  },
  "orig_nbformat": 2,
  "file_extension": ".py",
  "mimetype": "text/x-python",
  "name": "python",
  "npconvert_exporter": "python",
  "pygments_lexer": "ipython3",
  "version": 3
 },
 "cells": [
  {
   "cell_type": "code",
   "execution_count": 293,
   "metadata": {},
   "outputs": [],
   "source": [
    "%run ./experiments/textrank.py"
   ]
  },
  {
   "cell_type": "code",
   "execution_count": 294,
   "metadata": {},
   "outputs": [
    {
     "name": "stderr",
     "output_type": "stream",
     "text": "[nltk_data] Downloading package wordnet to\n[nltk_data]     C:\\Users\\yoshi\\AppData\\Roaming\\nltk_data...\n[nltk_data]   Package wordnet is already up-to-date!\n[nltk_data] Downloading package stopwords to\n[nltk_data]     C:\\Users\\yoshi\\AppData\\Roaming\\nltk_data...\n[nltk_data]   Package stopwords is already up-to-date!\n"
    }
   ],
   "source": [
    "%run ./notebooks/BlankSort.ipynb"
   ]
  },
  {
   "cell_type": "code",
   "execution_count": 295,
   "metadata": {},
   "outputs": [],
   "source": [
    "text=\"\"\"\n",
    "Alaska Republican Sen. Lisa Murkowski told a local television affiliate that she's \"disturbed\" by Senate Majority Leader Mitch McConnell's plans to use \"total coordination\" with the White House to set out President Trump's impeachment trial.\n",
    "\n",
    "Murkowski, who remains a wild card in a potential Senate trial, has been tight-lipped on the effort. However, she shared her concerns with McConnell's recent comments in an interview with KTUU in Anchorage, Alaska.\n",
    "\n",
    "\"When I heard that, I was disturbed,\" she said.\n",
    "\n",
    "McConnell ramped up his public appearances and interviews on Fox News in recent weeks, touting plans to work with the White House on the impeachment trial. On Dec. 12, days ahead of the House floor impeachment vote, McConnell told Fox News host Sean Hannity there's no chance Trump would be removed from the presidency in a trial.\n",
    "\n",
    "\"We'll be working through this process, hopefully in a fairly short period of time, in total coordination with the White House counsel's office and the people who are representing the president in the well of the Senate,\" McConnell said.\n",
    "\n",
    "McConnell also slammed the impeachment case, calling it \"weak\" and saying \"there will be no difference between the president's position and our position as to how to handle this.\"\n",
    "\n",
    "His comments came in the wake of weeks of meetings between groups of Republican senators, White House staff and Trump himself to discuss the impeachment trial and process.\n",
    "\n",
    "\"We have to take that step back from being hand in glove with the defense,\" Murkowski told KTUU. \"And so [when] I ... heard what Leader McConnell had said, I happened to think that that has further confused the process.\"\n",
    "\n",
    "House lawmakers impeached Trump for two articles — abuse of power and obstruction of Congress — on Dec. 18, shortly before lawmakers returned home for a holiday recess. House Speaker Nancy Pelosi has yet to transmit the articles to the Senate, putting a trial in limbo until lawmakers for the lower chamber return Jan. 7.\n",
    "\n",
    "Trump, White House officials and their Republican Senate allies have said they want to see a robust defense of the president in the trial. But Murkowski says she's maintaining impartiality for her role as a juror.\n",
    "\n",
    "\"For me to prejudge and say 'there's nothing there,' or on the other hand, 'he should be impeached yesterday,' that's wrong, in my view, that's wrong,\" she said.\n",
    "\n",
    "Murkowski also raised concern that the House rushed the impeachment process, as some members called for its completion before the holiday recess.\n",
    "\n",
    "Murkowski isn't the only Republican wild card in a potential Senate trial. Sens. Mitt Romney of Utah and Susan Collins of Maine have also held back their plans for how they may vote in an impeachment trial.\n",
    "\n",
    "Murkowski lauded the approach.\n",
    "\n",
    "\"If it means that I am viewed as one who looks openly and critically at every issue in front of me, rather than acting as a rubber stamp for my party or my president, I'm totally good with that,\" she said.\n",
    "\"\"\""
   ]
  },
  {
   "cell_type": "code",
   "execution_count": 296,
   "metadata": {},
   "outputs": [
    {
     "data": {
      "text/plain": "[['republican', 0.11534836888313293],\n ['murkowski', 0.0647272537937578],\n ['senate', 0.07691330544739253],\n ['mcconnell', 0.06480839892233513],\n ['white house', 0.07156418074469363],\n ['president trump', 0.09316201592307716],\n ['impeachment trial', 0.059959751531263164],\n ['senate trial', 0.06427502030384771],\n ['white house on the impeachment trial', 0.0657619661379784],\n ['house', 0.052708671391305945]]"
     },
     "execution_count": 296,
     "metadata": {},
     "output_type": "execute_result"
    }
   ],
   "source": [
    "rank(text,10,True)"
   ]
  },
  {
   "cell_type": "code",
   "execution_count": 297,
   "metadata": {},
   "outputs": [
    {
     "data": {
      "text/plain": "[['white house', 0.09158984198417344],\n ['white house staff', 0.0885641322070778],\n ['white house officials', 0.08843315039266526],\n ['leader mcconnell', 0.07787878357606763],\n ['house speaker nancy pelosi', 0.07601259553113872],\n ['mitch mcconnell', 0.07481242991792673],\n ['mcconnell', 0.07193529141369859],\n ['lisa murkowski', 0.06927042094849352],\n ['fox news host sean hannity', 0.0676835120532206],\n ['senate', 0.06629575721836123]]"
     },
     "execution_count": 297,
     "metadata": {},
     "output_type": "execute_result"
    }
   ],
   "source": [
    "rankText(text)[:10]"
   ]
  }
 ]
}