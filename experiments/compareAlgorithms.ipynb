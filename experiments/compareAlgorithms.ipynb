{
 "nbformat": 4,
 "nbformat_minor": 2,
 "metadata": {
  "language_info": {
   "name": "python",
   "codemirror_mode": {
    "name": "ipython",
    "version": 3
   },
   "version": "3.7.4"
  },
  "orig_nbformat": 2,
  "file_extension": ".py",
  "mimetype": "text/x-python",
  "name": "python",
  "npconvert_exporter": "python",
  "pygments_lexer": "ipython3",
  "version": 3
 },
 "cells": [
  {
   "cell_type": "code",
   "execution_count": 103,
   "metadata": {},
   "outputs": [],
   "source": [
    "%run ../experiments/textRankAlgorithm.py"
   ]
  },
  {
   "cell_type": "code",
   "execution_count": 104,
   "metadata": {},
   "outputs": [
    {
     "name": "stdout",
     "output_type": "stream",
     "text": "__________________________________________________________________________________________________\nLayer (type)                    Output Shape         Param #     Connected to\n==================================================================================================\ninput_1 (InputLayer)            (None, 1)            0\n__________________________________________________________________________________________________\ninput_2 (InputLayer)            (None, 1)            0\n__________________________________________________________________________________________________\nembedding (Embedding)           (None, 1, 300)       7500000     input_1[0][0]\n                                                                 input_2[0][0]\n__________________________________________________________________________________________________\nreshape_1 (Reshape)             (None, 300, 1)       0           embedding[0][0]\n__________________________________________________________________________________________________\nreshape_2 (Reshape)             (None, 300, 1)       0           embedding[1][0]\n__________________________________________________________________________________________________\ndot_2 (Dot)                     (None, 1, 1)         0           reshape_1[0][0]\n                                                                 reshape_2[0][0]\n__________________________________________________________________________________________________\nreshape_3 (Reshape)             (None, 1)            0           dot_2[0][0]\n__________________________________________________________________________________________________\ndense_1 (Dense)                 (None, 1)            2           reshape_3[0][0]\n==================================================================================================\nTotal params: 7,500,002\nTrainable params: 7,500,002\nNon-trainable params: 0\n__________________________________________________________________________________________________\n[nltk_data] Downloading package stopwords to\n[nltk_data]     C:\\Users\\yoshi\\AppData\\Roaming\\nltk_data...\n[nltk_data]   Package stopwords is already up-to-date!\n"
    }
   ],
   "source": [
    "%run ../notebooks/runModel.ipynb"
   ]
  },
  {
   "cell_type": "code",
   "execution_count": 105,
   "metadata": {},
   "outputs": [],
   "source": [
    "formattedData=None\n",
    "names = [\"formattedData\"]\n",
    "for name in names:\n",
    "    with open(os.path.join(os.path.join(os.path.abspath(('.' if inNB() else '')+'./binaries'), \"pickles\"), name+\".pickle\"), \"rb\") as f:\n",
    "        globals()[name] = pickle.load(f)"
   ]
  },
  {
   "cell_type": "code",
   "execution_count": 106,
   "metadata": {},
   "outputs": [],
   "source": [
    "from tabulate import tabulate\n",
    "import random\n",
    "import itertools"
   ]
  },
  {
   "cell_type": "code",
   "execution_count": 107,
   "metadata": {},
   "outputs": [],
   "source": [
    "def unique(sequence):\n",
    "    words=[]\n",
    "    for phrase in sequence:\n",
    "        for word in phrase[0].split():\n",
    "            words.append(word)\n",
    "    seen = set()\n",
    "    return [x for x in words if not (x in seen or seen.add(x))]"
   ]
  },
  {
   "cell_type": "code",
   "execution_count": 118,
   "metadata": {},
   "outputs": [
    {
     "name": "stdout",
     "output_type": "stream",
     "text": "Announcing Synapse ICO Tier 2\nTextRank :['synapse', 'ai', 'great', 'ico', 'tier', 'marketplace', 'team', 'next', 'week', 'pre-sale', 'big']\nBlankSort:['synapse', 'tier', 'ai', 'eth', 'whitelist', 'ico', 'next', 'aisynapse', 'february', 'sale', 'syn']\nTags:['ethereum', 'ico', 'cryptocurrency', 'blockchain', 'ai']\nBlankSort vs Tags: 2/5\nTextRank vs Tags: 3/5\nBlankSort vs TextRank: 5/5\nCurrent score: 5/5 = 1.0\n\n\nLet’s know Supervised and Unsupervised in an easy way\nTextRank :['unsupervised', 'learning', 'applications', 'test', 'data', 'machine', 'algorithms', 'scientists', 'supervised', 'unlabelled', 'set']\nBlankSort:['data', 'learning', 'supervised', 'groups', 'unsupervised', 'machine', 'regression', 'clustering', 'supervisor', 'use', 'bike']\nTags:['intelligence', 'artificial', 'chatbots', 'messaging', 'tech', 'bots']\nBlankSort vs Tags: 0/5\nTextRank vs Tags: 2/5\nBlankSort vs TextRank: 5/5\nCurrent score: 10/10 = 1.0\n\n\nWriting a Resume for a Data Science Career\nTextRank :['writing', 'guides', 'tools', 'a', 'data', 'science', 'resume', 'online', 'typical', 'generic', 'building', 'website', 'via', 'professional', 'you’re']\nBlankSort:['resume', 'writing', 'essayroo', 'eliteassignmenthelp', 'academized', 'boomessays', 'ukwritings', 'oxessays', 'two', 'data', 'ins', 'science', 'accomplishments', 'writers', 'help']\nTags:['intelligence', 'artificial', 'data', 'analytics', 'learning', 'science', 'machine', 'big']\nBlankSort vs Tags: 2/5\nTextRank vs Tags: 2/5\nBlankSort vs TextRank: 5/5\nCurrent score: 15/15 = 1.0\n\n\nEXPECTATION MANAGEMENT IN AI: THE LESSON-NOT-LEARNED FROM THE 1980S\nTextRank :['ai', 'systems', 'winter', 'research', 'more', 'data', 'other', 'brains', 'less', 'money']\nBlankSort:['ai', 'patriotist', 'fetish', 'oups', 'data', 'human', 'intelligence', 'cold', 'also', 'marvin']\nTags:['intelligence', 'artificial', 'trends', 'deep', 'learning', 'augmented', 'reality', 'iot', 'technology']\nBlankSort vs Tags: 1/5\nTextRank vs Tags: 5/5\nBlankSort vs TextRank: 5/5\nCurrent score: 20/20 = 1.0\n\n\nWhat kind of god will Google be?\nTextRank :['goog', 'google', 'knows', 'everything', 'imbue', 'ai', 'evil', 'will']\nBlankSort:['goog', 'google', 'knowingness', 'egocentricity', 'us', 'evil', 'unbelievers', 'ai']\nTags:['startup', 'entrepreneurship', 'productivity', 'tech', 'technology']\nBlankSort vs Tags: 0/5\nTextRank vs Tags: 2/5\nBlankSort vs TextRank: 5/5\nCurrent score: 25/25 = 1.0\n\n\nFundamentals of EdData, Part 3: [Access Shouldn’t Yield Mistrust]\nTextRank :['school', 'walls', 'schools', 'data', 'access', 'unapproved', 'student']\nBlankSort:['schools', 'access', 'data', 'information', 'someone', 'educators', 'outcomes']\nTags:['edtech', 'learning', 'productivity', 'technology', 'education']\nBlankSort vs Tags: 0/5\nTextRank vs Tags: 1/5\nBlankSort vs TextRank: 5/5\nCurrent score: 30/30 = 1.0\n\n\nBridging the Lab and the Field\nTextRank :['lab', 'data', 'social', 'media', 'behavior', 'experiments', 'traditional', 'studies', 'big', 'collection', 'observational', 'points', 'pure', 'field']\nBlankSort:['studies', 'lab', 'researchers', 'social', 'workshop', 'data', 'media', 'research', 'experiments', 'behavior', 'validity', 'field', 'new', 'challenges']\nTags:['research', 'media', 'science', 'communication', 'social', 'technology']\nBlankSort vs Tags: 3/5\nTextRank vs Tags: 4/5\nBlankSort vs TextRank: 5/5\nCurrent score: 35/35 = 1.0\n\n\nChatbots in Social Media Marketing\nTextRank :['social', 'media', 'platform', 'offer', 'business', 'marketing', 'users', 'strategies', 'networks', 'efforts', 'major', 'expert', 'jason', 'hornung', 'chatbots', 'intelligent']\nBlankSort:['chatbots', 'media', 'social', 'platforms', 'marketing', 'customer', 'businesses', 'customers', 'support', 'apps', 'even', 'consumers', 'usage', 'messaging', 'moreover', 'facebook']\nTags:['intelligence', 'artificial', 'chatbots', 'messaging', 'conversational', 'ui', 'bots']\nBlankSort vs Tags: 2/5\nTextRank vs Tags: 4/5\nBlankSort vs TextRank: 5/5\nCurrent score: 40/40 = 1.0\n\n\nPredicting product sales through ads delivered on Social Networking Sites using k-N.N. in Python\nTextRank :['data', 'points', 'social', 'networking', 'site', 'car', 'users', 'sites', 'red']\nBlankSort:['k', 'car', 'networking', 'data', 'set', 'social', 'n', 'model', 'neighbors']\nTags:['cryptocurrency', 'bitcoin', 'programming', 'blockchain', 'technology']\nBlankSort vs Tags: 0/5\nTextRank vs Tags: 0/5\nBlankSort vs TextRank: 5/5\nCurrent score: 45/45 = 1.0\n\n\nSEN World Citizen Airdrop is Completed! Next Steps.\nTextRank :['sen', 'world', 'citizen', 'airdrop', 'tokens', 'portal', 'consensus', 'campaign', 'genesis', 'platform', 'token']\nBlankSort:['sen', 'airdrop', 'genesis', 'tokens', 'consensus', 'mothership', 'announce', 'allocated', 'campaign', 'distribution', 'finalizing']\nTags:['intelligence', 'cryptocurrency', 'artificial', 'governance', 'blockchain', 'government']\nBlankSort vs Tags: 0/5\nTextRank vs Tags: 0/5\nBlankSort vs TextRank: 5/5\nCurrent score: 50/50 = 1.0\n\n\n"
    }
   ],
   "source": [
    "total=0\n",
    "i=0\n",
    "while i in range(10):\n",
    "    test=random.choice(formattedData)\n",
    "    #print(test[\"text\"])\n",
    "    #print(\"\\n\")\n",
    "    topN=5\n",
    "    if(test[\"tags\"][0] != \"nan\"):\n",
    "        print(test[\"title\"])\n",
    "        textrank=rankText(test[\"text\"])\n",
    "        trTopN=sum(len(i[0].split()) for i in textrank[:topN])\n",
    "        textrank=unique(textrank)\n",
    "        print(\"TextRank : \", textrank[:trTopN])\n",
    "        blanksort=[t[0] for t in returnRanks(test[\"text\"])[:trTopN]]\n",
    "        print(\"BlankSort: \", blanksort)\n",
    "        print(\"Tags: \", test[\"tags\"])\n",
    "        blanksortVStags=len(set(blanksort)&set(test[\"tags\"]))\n",
    "        textrankVStags=len(set(textrank)&set(test[\"tags\"]))\n",
    "        blanksortVStextrank=len(set(blanksort)&set(textrank))\n",
    "        blanksortVStextrank=min(blanksortVStextrank,5)\n",
    "        print(\"BlankSort vs Tags: \"+str(blanksortVStags),\"/\",topN)\n",
    "        print(\"TextRank vs Tags: \"+str(textrankVStags),\"/\",topN)\n",
    "        print(\"BlankSort vs TextRank: \"+str(blanksortVStextrank),\"/\",topN)\n",
    "        total+=blanksortVStextrank\n",
    "        i+=1\n",
    "        print(\"Current score: \"+str(total)+\"/\"+str(i*5)+\" = \" + str(total/(i*5)))\n",
    "        print(\"\\n\")"
   ]
  }
 ]
}