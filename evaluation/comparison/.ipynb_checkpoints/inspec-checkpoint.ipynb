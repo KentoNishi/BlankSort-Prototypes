{
 "cells": [
  {
   "cell_type": "code",
   "execution_count": 1,
   "metadata": {},
   "outputs": [],
   "source": [
    "inspecPath = \"C:\\\\Users\\\\yoshi\\\\Music\\\\BlankSort-Prototypes\\\\binaries\\\\data\\\\Inspec\\\\\"\n",
    "%run \"C:\\\\Users\\\\yoshi\\\\Music\\\\BlankSort-Prototypes\\\\blanksort\\\\BlankSort.py\"\n",
    "%run \"C:\\\\Users\\\\yoshi\\\\Music\\\\BlankSort-Prototypes\\\\evaluation\\\\comparison\\\\runExtraction.py\"\n",
    "%run \"C:\\\\Users\\\\yoshi\\\\Music\\\\BlankSort-Prototypes\\\\evaluation\\\\comparison\\\\rakeenv.py\"\n",
    "%run \"C:\\\\Users\\\\yoshi\\\\Music\\\\BlankSort-Prototypes\\\\evaluation\\\\comparison\\\\textrankenv.py\"\n",
    "# Use https://github.com/boudinfl/pke for:\n",
    "# SingleRank, TopicRank, TopicalPageRank, PositionRank, MultipartiteRank"
   ]
  },
  {
   "cell_type": "code",
   "execution_count": 2,
   "metadata": {},
   "outputs": [],
   "source": [
    "def inNB():\n",
    "    return hasattr(__builtins__, \"__IPYTHON__\")"
   ]
  },
  {
   "cell_type": "code",
   "execution_count": 3,
   "metadata": {},
   "outputs": [],
   "source": [
    "def clearConsole():\n",
    "    if inNB():\n",
    "        from IPython.display import clear_output\n",
    "        clear_output(wait=True)\n",
    "    else:\n",
    "        os.system(\"cls\")"
   ]
  },
  {
   "cell_type": "code",
   "execution_count": 4,
   "metadata": {},
   "outputs": [
    {
     "name": "stdout",
     "output_type": "stream",
     "text": [
      "Database path: C:\\Users\\yoshi\\Music\\BlankSort-Prototypes\\binaries\\data\\blanksort.database\n"
     ]
    },
    {
     "name": "stderr",
     "output_type": "stream",
     "text": [
      "[nltk_data] Downloading package wordnet to\n",
      "[nltk_data]     C:\\Users\\yoshi\\AppData\\Roaming\\nltk_data...\n",
      "[nltk_data]   Package wordnet is already up-to-date!\n",
      "[nltk_data] Downloading package stopwords to\n",
      "[nltk_data]     C:\\Users\\yoshi\\AppData\\Roaming\\nltk_data...\n",
      "[nltk_data]   Package stopwords is already up-to-date!\n",
      "[nltk_data] Downloading package punkt to\n",
      "[nltk_data]     C:\\Users\\yoshi\\AppData\\Roaming\\nltk_data...\n",
      "[nltk_data]   Package punkt is already up-to-date!\n",
      "[nltk_data] Downloading package averaged_perceptron_tagger to\n",
      "[nltk_data]     C:\\Users\\yoshi\\AppData\\Roaming\\nltk_data...\n",
      "[nltk_data]   Package averaged_perceptron_tagger is already up-to-\n",
      "[nltk_data]       date!\n"
     ]
    }
   ],
   "source": [
    "blanksort=BlankSort(\"C:\\\\Users\\\\yoshi\\\\Music\\\\BlankSort-Prototypes\\\\binaries\\\\data\")\n",
    "algoEnvs = [\n",
    "    (Algo(\"BlankSort\"), blanksort),\n",
    "    (Algo(\"RAKE\"), RakeEnv()),\n",
    "    (Algo(\"TextRank\"), TextRankEnv()),\n",
    "]"
   ]
  },
  {
   "cell_type": "code",
   "execution_count": 5,
   "metadata": {},
   "outputs": [],
   "source": [
    "def printMetrics():\n",
    "    allPaths=glob.glob(os.path.join(inspecPath,\"docsutf8\\\\*\"))\n",
    "    iteration=0\n",
    "    for path in allPaths:\n",
    "        filename=os.path.basename(path).split(\".\")[0]\n",
    "        with open(os.path.join(inspecPath,os.path.join(\"keys\",filename+\".key\"))) as answer:\n",
    "            answerKey=blanksort.cleanText(answer.read())\n",
    "            answerKey=[word for word in answerKey if word.isalpha() and len(word)>2]\n",
    "            answerKey=set(answerKey)\n",
    "            inputString=open(path).read()\n",
    "            outputString=runAlgos(\"Inspec\",inputString, answerKey, algoEnvs, allPaths)\n",
    "            clearConsole()\n",
    "            iteration+=1\n",
    "            print(\"Iteration \" + str(iteration)+\"\\n\")\n",
    "            print(outputString)"
   ]
  },
  {
   "cell_type": "code",
   "execution_count": 6,
   "metadata": {},
   "outputs": [
    {
     "name": "stdout",
     "output_type": "stream",
     "text": [
      "Iteration 2000\n",
      "\n",
      "Inspec Dataset (BlankSort):\n",
      "Precision: 0.5013617352397627\n",
      "Recall: 0.46503969686033925\n",
      "F1 Score:0.48251813714018255\n",
      "Average Time (ms): 25.125\n",
      "\n",
      "Inspec Dataset (RAKE):\n",
      "Precision: 0.47175454142667256\n",
      "Recall: 0.38424756405629734\n",
      "F1 Score:0.4235282418456643\n",
      "Average Time (ms): 0.640625\n",
      "\n",
      "Inspec Dataset (TextRank):\n",
      "Precision: 0.5425497798897991\n",
      "Recall: 0.41974918801876576\n",
      "F1 Score:0.47331408878772074\n",
      "Average Time (ms): 29.2890625\n",
      "\n",
      "\n"
     ]
    }
   ],
   "source": [
    "printMetrics()"
   ]
  }
 ],
 "metadata": {
  "file_extension": ".py",
  "kernelspec": {
   "display_name": "Python 3.7.4 64-bit",
   "language": "python",
   "name": "python37464bit44bd22c616ce401f9d42e1d4ecdf2300"
  },
  "language_info": {
   "codemirror_mode": {
    "name": "ipython",
    "version": 3
   },
   "file_extension": ".py",
   "mimetype": "text/x-python",
   "name": "python",
   "nbconvert_exporter": "python",
   "pygments_lexer": "ipython3",
   "version": "3.7.4"
  },
  "mimetype": "text/x-python",
  "name": "python",
  "npconvert_exporter": "python",
  "pygments_lexer": "ipython3",
  "version": 3
 },
 "nbformat": 4,
 "nbformat_minor": 2
}
