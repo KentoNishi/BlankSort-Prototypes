{
 "nbformat": 4,
 "nbformat_minor": 2,
 "metadata": {
  "language_info": {
   "name": "python",
   "codemirror_mode": {
    "name": "ipython",
    "version": 3
   },
   "version": "3.7.4"
  },
  "orig_nbformat": 2,
  "file_extension": ".py",
  "mimetype": "text/x-python",
  "name": "python",
  "npconvert_exporter": "python",
  "pygments_lexer": "ipython3",
  "version": 3
 },
 "cells": [
  {
   "cell_type": "code",
   "execution_count": 41,
   "metadata": {},
   "outputs": [],
   "source": [
    "from gensim.models import fasttext as ft\n",
    "import numpy as np\n",
    "import os\n",
    "import nltk\n",
    "from nltk.corpus import stopwords\n",
    "import operator"
   ]
  },
  {
   "cell_type": "code",
   "execution_count": 2,
   "metadata": {},
   "outputs": [
    {
     "name": "stderr",
     "output_type": "stream",
     "text": "[nltk_data] Downloading package wordnet to\n[nltk_data]     C:\\Users\\yoshi\\AppData\\Roaming\\nltk_data...\n[nltk_data]   Package wordnet is already up-to-date!\n[nltk_data] Downloading package stopwords to\n[nltk_data]     C:\\Users\\yoshi\\AppData\\Roaming\\nltk_data...\n[nltk_data]   Package stopwords is already up-to-date!\n"
    },
    {
     "data": {
      "text/plain": "True"
     },
     "execution_count": 2,
     "metadata": {},
     "output_type": "execute_result"
    }
   ],
   "source": [
    "nltk.download('wordnet')\n",
    "nltk.download('stopwords')"
   ]
  },
  {
   "cell_type": "code",
   "execution_count": 3,
   "metadata": {},
   "outputs": [
    {
     "name": "stderr",
     "output_type": "stream",
     "text": "C:\\Users\\yoshi\\AppData\\Local\\Programs\\Python\\Python37\\lib\\site-packages\\gensim\\models\\base_any2vec.py:743: UserWarning: C extension not loaded, training will be slow. Install a C compiler and reinstall gensim for fast training.\n  \"C extension not loaded, training will be slow. \"\n"
    }
   ],
   "source": [
    "# https://fasttext.cc/docs/en/crawl-vectors.html\n",
    "model=ft.load_facebook_model(os.path.join(os.getcwd(),\"binaries/data/cc.en.300.bin\"))"
   ]
  },
  {
   "cell_type": "code",
   "execution_count": 4,
   "metadata": {},
   "outputs": [],
   "source": [
    "window_size=3\n",
    "stemmer = nltk.wordnet.WordNetLemmatizer()"
   ]
  },
  {
   "cell_type": "code",
   "execution_count": 136,
   "metadata": {},
   "outputs": [],
   "source": [
    "def rank(text):\n",
    "    text=text.lower()\n",
    "    stops = set(stopwords.words(\"english\"))\n",
    "    tokens = nltk.word_tokenize(text)\n",
    "    filtered_words = [stemmer.lemmatize(word) for word in tokens if word not in stops]\n",
    "    scores=dict()\n",
    "    counts=dict()\n",
    "    contextSizes=dict()\n",
    "    for i in range(len(filtered_words)):\n",
    "        counts.setdefault(filtered_words[i],0)\n",
    "        counts[filtered_words[i]]+=1\n",
    "        leftBound=max(0,i-window_size)\n",
    "        rightBound=min(len(filtered_words)-1,i+window_size)\n",
    "        contextSize=rightBound-leftBound+1\n",
    "        contextSizes.setdefault(filtered_words[i],contextSize)\n",
    "        contextSizes[filtered_words[i]]=max(contextSizes[filtered_words[i]],contextSize)\n",
    "        for j in range(i+1,rightBound+1):\n",
    "            scores.setdefault(filtered_words[i],0)\n",
    "            scores.setdefault(filtered_words[j],0)\n",
    "            similarity_score=model.wv.similarity(filtered_words[i],filtered_words[j])\n",
    "            scores[filtered_words[i]]+=similarity_score\n",
    "            scores[filtered_words[j]]+=similarity_score\n",
    "    wordScores=list(map(list, scores.items()))\n",
    "    for i in range(len(wordScores)):\n",
    "        wordScores[i][1]=counts[wordScores[i][0]]*wordScores[i][1]/(contextSizes[wordScores[i][0]])\n",
    "    wordScores=sorted(wordScores, key = lambda x: x[1],reverse=True)\n",
    "    print(contextSizes)\n",
    "    return wordScores"
   ]
  },
  {
   "cell_type": "code",
   "execution_count": 137,
   "metadata": {},
   "outputs": [
    {
     "name": "stdout",
     "output_type": "stream",
     "text": "{'word': 7, 'embedding': 7, 'collective': 6, 'name': 7, 'set': 7, 'language': 7, 'modeling': 7, 'feature': 7, 'learning': 7, 'technique': 7, 'natural': 7, 'processing': 7, '(': 7, 'nlp': 7, ')': 7, 'phrase': 7, 'vocabulary': 7, 'mapped': 7, 'vector': 7, 'real': 7, 'number': 7, '.': 7, 'conceptually': 7, 'involves': 7, 'mathematical': 7, 'space': 7, 'many': 7, 'dimension': 7, 'per': 7, 'continuous': 7, 'much': 7, 'lower': 6}\n"
    },
    {
     "data": {
      "text/plain": "[['word', 1.430739133485726],\n ['language', 0.7497066190200192],\n ['space', 0.6977222583123616],\n ['embedding', 0.5931331451450076],\n ['dimension', 0.5623353991125312],\n ['vector', 0.36693941089989884],\n ['learning', 0.25229665637016296],\n ['technique', 0.22257279923983983],\n ['phrase', 0.22173083147832326],\n ['conceptually', 0.19739903190306254],\n ['vocabulary', 0.19167553527014597],\n ['name', 0.18996242646660125],\n ['.', 0.17516866466030478],\n ['modeling', 0.17400755733251572],\n ['involves', 0.17095569601016386],\n [')', 0.16447184021983827],\n ['feature', 0.16130013231720244],\n ['much', 0.16102361546031066],\n ['(', 0.15668801936720098],\n ['mathematical', 0.15417887403496675],\n ['set', 0.14678641515118734],\n ['collective', 0.14620503410696983],\n ['nlp', 0.14367199476276124],\n ['natural', 0.14298856684139796],\n ['processing', 0.1341869639498847],\n ['continuous', 0.13282889766352518],\n ['number', 0.1286993505699294],\n ['real', 0.12402210278170449],\n ['lower', 0.11843609996140003],\n ['mapped', 0.11485567582505089],\n ['per', 0.10174531489610672],\n ['many', 0.0808316735284669]]"
     },
     "execution_count": 137,
     "metadata": {},
     "output_type": "execute_result"
    }
   ],
   "source": [
    "rank(\"Machine learning (ML) is the scientific study of algorithms and statistical models that computer systems use to perform a specific task without using explicit instructions, relying on patterns and inference instead. It is seen as a subset of artificial intelligence. Machine learning algorithms build a mathematical model based on sample data, known as training data, in order to make predictions or decisions without being explicitly programmed to perform the task. Machine learning algorithms are used in a wide variety of applications, such as email filtering and computer vision, where it is difficult or infeasible to develop a conventional algorithm for effectively performing the task.\")"
   ]
  }
 ]
}