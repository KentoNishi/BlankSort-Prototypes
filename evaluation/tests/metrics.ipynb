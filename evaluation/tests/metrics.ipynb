{
 "nbformat": 4,
 "nbformat_minor": 2,
 "metadata": {
  "language_info": {
   "name": "python",
   "codemirror_mode": {
    "name": "ipython",
    "version": 3
   },
   "version": "3.7.4-final"
  },
  "orig_nbformat": 2,
  "file_extension": ".py",
  "mimetype": "text/x-python",
  "name": "python",
  "npconvert_exporter": "python",
  "pygments_lexer": "ipython3",
  "version": 3,
  "kernelspec": {
   "name": "python37464bit44bd22c616ce401f9d42e1d4ecdf2300",
   "display_name": "Python 3.7.4 64-bit"
  }
 },
 "cells": [
  {
   "cell_type": "code",
   "execution_count": 1,
   "metadata": {},
   "outputs": [],
   "source": [
    "%run \"C:\\\\Users\\\\yoshi\\\\Music\\\\BlankSort-Prototypes\\\\blanksort\\\\BlankSort.py\"\n",
    "%run \"C:\\\\Users\\\\yoshi\\\\Music\\\\BlankSort-Prototypes\\\\evaluation\\\\src\\\\runExtraction.py\"\n",
    "%run \"C:\\\\Users\\\\yoshi\\\\Music\\\\BlankSort-Prototypes\\\\evaluation\\\\envs\\\\rakeenv.py\"\n",
    "%run \"C:\\\\Users\\\\yoshi\\\\Music\\\\BlankSort-Prototypes\\\\evaluation\\\\envs\\\\textrankenv.py\"\n",
    "%run \"C:\\\\Users\\\\yoshi\\\\Music\\\\BlankSort-Prototypes\\\\evaluation\\\\envs\\\\multipartiterankenv.py\"\n",
    "%run \"C:\\\\Users\\\\yoshi\\\\Music\\\\BlankSort-Prototypes\\\\evaluation\\\\envs\\\\topicrankenv.py\""
   ]
  },
  {
   "cell_type": "code",
   "execution_count": 2,
   "metadata": {},
   "outputs": [],
   "source": [
    "import json\n",
    "paths=[\n",
    "    \"C:\\\\Users\\\\yoshi\\\\Music\\\\BlankSort-Prototypes\\\\binaries\\\\data\\\\inspecData.json\",\n",
    "    \"C:\\\\Users\\\\yoshi\\\\Music\\\\BlankSort-Prototypes\\\\binaries\\\\data\\\\ducData.json\",\n",
    "    \"C:\\\\Users\\\\yoshi\\\\Music\\\\BlankSort-Prototypes\\\\binaries\\\\data\\\\nusData.json\"\n",
    "]\n",
    "tests=[]\n",
    "for path in paths:\n",
    "    tests.append(json.loads(open(\"C:\\\\Users\\\\yoshi\\\\Music\\\\BlankSort-Prototypes\\\\binaries\\\\data\\\\nusData.json\").read())[\"documents\"])"
   ]
  },
  {
   "cell_type": "code",
   "execution_count": 3,
   "metadata": {},
   "outputs": [
    {
     "name": "stdout",
     "output_type": "stream",
     "text": "Database path: C:\\Users\\yoshi\\Music\\BlankSort-Prototypes\\binaries\\data\\blanksort.database\n[nltk_data] Downloading package wordnet to\n[nltk_data]     C:\\Users\\yoshi\\AppData\\Roaming\\nltk_data...\n[nltk_data]   Package wordnet is already up-to-date!\n[nltk_data] Downloading package stopwords to\n[nltk_data]     C:\\Users\\yoshi\\AppData\\Roaming\\nltk_data...\n[nltk_data]   Package stopwords is already up-to-date!\n[nltk_data] Downloading package punkt to\n[nltk_data]     C:\\Users\\yoshi\\AppData\\Roaming\\nltk_data...\n[nltk_data]   Package punkt is already up-to-date!\n[nltk_data] Downloading package averaged_perceptron_tagger to\n[nltk_data]     C:\\Users\\yoshi\\AppData\\Roaming\\nltk_data...\n[nltk_data]   Package averaged_perceptron_tagger is already up-to-\n[nltk_data]       date!\n"
    }
   ],
   "source": [
    "blanksort=BlankSort(\"C:\\\\Users\\\\yoshi\\\\Music\\\\BlankSort-Prototypes\\\\binaries\\\\data\", saveGeneratedVectors=True)\n",
    "algoEnvs = [\n",
    "    Algo(\"BlankSort\", blanksort),\n",
    "    Algo(\"RAKE\", RakeEnv()),\n",
    "    Algo(\"TextRank\", TextRankEnv()),\n",
    "    Algo(\"MultipartiteRank\", MultipartiteRankEnv()),\n",
    "    Algo(\"TopicRank\", TopicRankEnv()),\n",
    "]"
   ]
  },
  {
   "cell_type": "code",
   "execution_count": 4,
   "metadata": {},
   "outputs": [],
   "source": [
    "def clearConsole():\n",
    "    if hasattr(__builtins__, \"__IPYTHON__\"):\n",
    "        from IPython.display import clear_output\n",
    "        clear_output(wait=True)\n",
    "    else:\n",
    "        os.system(\"cls\")\n",
    "os.path.isfile=lambda path:False"
   ]
  },
  {
   "cell_type": "code",
   "execution_count": 13,
   "metadata": {},
   "outputs": [
    {
     "name": "stdout",
     "output_type": "stream",
     "text": "Inspec Dataset (BlankSort):\nPrecision: 0.3178239083750895\nRecall: 0.3178239083750895\nF1 Score: 0.3178239083750895\nAverage Time (ms): 311.6656553398058\n\nInspec Dataset (RAKE):\nPrecision: 0.04398340248962656\nRecall: 0.03793843951324266\nF1 Score: 0.04073789392774788\nAverage Time (ms): 27.68507281553398\n\nInspec Dataset (TextRank):\nPrecision: 0.2770475227502528\nRecall: 0.19613457408732998\nF1 Score: 0.22967309304274935\nAverage Time (ms): 1618.4769417475727\n\nInspec Dataset (MultipartiteRank):\nPrecision: 0.2821512081060016\nRecall: 0.26024442846872753\nF1 Score: 0.2707554225878833\nAverage Time (ms): 7916.006097560976\n\nInspec Dataset (TopicRank):\nPrecision: 0.24153498871331827\nRecall: 0.23076923076923078\nF1 Score: 0.23602941176470588\nAverage Time (ms): 6115.167682926829\n\n\n"
    }
   ],
   "source": [
    "for test in tests[0]:\n",
    "    print(\n",
    "        runAlgos(\"Inspec\",test[\"text\"],test[\"keywords\"],algoEnvs)\n",
    "    )\n",
    "    clearConsole()"
   ]
  }
 ]
}