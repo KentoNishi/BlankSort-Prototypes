{
 "nbformat": 4,
 "nbformat_minor": 2,
 "metadata": {
  "language_info": {
   "name": "python",
   "codemirror_mode": {
    "name": "ipython",
    "version": 3
   },
   "version": "3.7.4"
  },
  "orig_nbformat": 2,
  "file_extension": ".py",
  "mimetype": "text/x-python",
  "name": "python",
  "npconvert_exporter": "python",
  "pygments_lexer": "ipython3",
  "version": 3
 },
 "cells": [
  {
   "cell_type": "code",
   "execution_count": 1,
   "metadata": {},
   "outputs": [],
   "source": [
    "%run ../experiments/textRankAlgorithm.py"
   ]
  },
  {
   "cell_type": "code",
   "execution_count": 2,
   "metadata": {},
   "outputs": [
    {
     "name": "stderr",
     "output_type": "stream",
     "text": "Using TensorFlow backend.\nC:\\Users\\yoshi\\AppData\\Local\\Programs\\Python\\Python37\\lib\\site-packages\\tensorflow\\python\\framework\\dtypes.py:516: FutureWarning: Passing (type, 1) or '1type' as a synonym of type is deprecated; in a future version of numpy, it will be understood as (type, (1,)) / '(1,)type'.\n  _np_qint8 = np.dtype([(\"qint8\", np.int8, 1)])\nC:\\Users\\yoshi\\AppData\\Local\\Programs\\Python\\Python37\\lib\\site-packages\\tensorflow\\python\\framework\\dtypes.py:517: FutureWarning: Passing (type, 1) or '1type' as a synonym of type is deprecated; in a future version of numpy, it will be understood as (type, (1,)) / '(1,)type'.\n  _np_quint8 = np.dtype([(\"quint8\", np.uint8, 1)])\nC:\\Users\\yoshi\\AppData\\Local\\Programs\\Python\\Python37\\lib\\site-packages\\tensorflow\\python\\framework\\dtypes.py:518: FutureWarning: Passing (type, 1) or '1type' as a synonym of type is deprecated; in a future version of numpy, it will be understood as (type, (1,)) / '(1,)type'.\n  _np_qint16 = np.dtype([(\"qint16\", np.int16, 1)])\nC:\\Users\\yoshi\\AppData\\Local\\Programs\\Python\\Python37\\lib\\site-packages\\tensorflow\\python\\framework\\dtypes.py:519: FutureWarning: Passing (type, 1) or '1type' as a synonym of type is deprecated; in a future version of numpy, it will be understood as (type, (1,)) / '(1,)type'.\n  _np_quint16 = np.dtype([(\"quint16\", np.uint16, 1)])\nC:\\Users\\yoshi\\AppData\\Local\\Programs\\Python\\Python37\\lib\\site-packages\\tensorflow\\python\\framework\\dtypes.py:520: FutureWarning: Passing (type, 1) or '1type' as a synonym of type is deprecated; in a future version of numpy, it will be understood as (type, (1,)) / '(1,)type'.\n  _np_qint32 = np.dtype([(\"qint32\", np.int32, 1)])\nC:\\Users\\yoshi\\AppData\\Local\\Programs\\Python\\Python37\\lib\\site-packages\\tensorflow\\python\\framework\\dtypes.py:525: FutureWarning: Passing (type, 1) or '1type' as a synonym of type is deprecated; in a future version of numpy, it will be understood as (type, (1,)) / '(1,)type'.\n  np_resource = np.dtype([(\"resource\", np.ubyte, 1)])\nC:\\Users\\yoshi\\AppData\\Local\\Programs\\Python\\Python37\\lib\\site-packages\\tensorboard\\compat\\tensorflow_stub\\dtypes.py:541: FutureWarning: Passing (type, 1) or '1type' as a synonym of type is deprecated; in a future version of numpy, it will be understood as (type, (1,)) / '(1,)type'.\n  _np_qint8 = np.dtype([(\"qint8\", np.int8, 1)])\nC:\\Users\\yoshi\\AppData\\Local\\Programs\\Python\\Python37\\lib\\site-packages\\tensorboard\\compat\\tensorflow_stub\\dtypes.py:542: FutureWarning: Passing (type, 1) or '1type' as a synonym of type is deprecated; in a future version of numpy, it will be understood as (type, (1,)) / '(1,)type'.\n  _np_quint8 = np.dtype([(\"quint8\", np.uint8, 1)])\nC:\\Users\\yoshi\\AppData\\Local\\Programs\\Python\\Python37\\lib\\site-packages\\tensorboard\\compat\\tensorflow_stub\\dtypes.py:543: FutureWarning: Passing (type, 1) or '1type' as a synonym of type is deprecated; in a future version of numpy, it will be understood as (type, (1,)) / '(1,)type'.\n  _np_qint16 = np.dtype([(\"qint16\", np.int16, 1)])\nC:\\Users\\yoshi\\AppData\\Local\\Programs\\Python\\Python37\\lib\\site-packages\\tensorboard\\compat\\tensorflow_stub\\dtypes.py:544: FutureWarning: Passing (type, 1) or '1type' as a synonym of type is deprecated; in a future version of numpy, it will be understood as (type, (1,)) / '(1,)type'.\n  _np_quint16 = np.dtype([(\"quint16\", np.uint16, 1)])\nC:\\Users\\yoshi\\AppData\\Local\\Programs\\Python\\Python37\\lib\\site-packages\\tensorboard\\compat\\tensorflow_stub\\dtypes.py:545: FutureWarning: Passing (type, 1) or '1type' as a synonym of type is deprecated; in a future version of numpy, it will be understood as (type, (1,)) / '(1,)type'.\n  _np_qint32 = np.dtype([(\"qint32\", np.int32, 1)])\nC:\\Users\\yoshi\\AppData\\Local\\Programs\\Python\\Python37\\lib\\site-packages\\tensorboard\\compat\\tensorflow_stub\\dtypes.py:550: FutureWarning: Passing (type, 1) or '1type' as a synonym of type is deprecated; in a future version of numpy, it will be understood as (type, (1,)) / '(1,)type'.\n  np_resource = np.dtype([(\"resource\", np.ubyte, 1)])\nWARNING: Logging before flag parsing goes to stderr.\nW1221 23:51:14.633668 26140 deprecation_wrapper.py:119] From C:\\Users\\yoshi\\AppData\\Local\\Programs\\Python\\Python37\\lib\\site-packages\\keras\\backend\\tensorflow_backend.py:517: The name tf.placeholder is deprecated. Please use tf.compat.v1.placeholder instead.\n\nW1221 23:51:14.665697 26140 deprecation_wrapper.py:119] From C:\\Users\\yoshi\\AppData\\Local\\Programs\\Python\\Python37\\lib\\site-packages\\keras\\backend\\tensorflow_backend.py:4138: The name tf.random_uniform is deprecated. Please use tf.random.uniform instead.\n\nW1221 23:51:14.743623 26140 deprecation_wrapper.py:119] From C:\\Users\\yoshi\\AppData\\Local\\Programs\\Python\\Python37\\lib\\site-packages\\keras\\backend\\tensorflow_backend.py:174: The name tf.get_default_session is deprecated. Please use tf.compat.v1.get_default_session instead.\n\nW1221 23:51:14.744620 26140 deprecation_wrapper.py:119] From C:\\Users\\yoshi\\AppData\\Local\\Programs\\Python\\Python37\\lib\\site-packages\\keras\\backend\\tensorflow_backend.py:181: The name tf.ConfigProto is deprecated. Please use tf.compat.v1.ConfigProto instead.\n\nW1221 23:51:14.744620 26140 deprecation_wrapper.py:119] From C:\\Users\\yoshi\\AppData\\Local\\Programs\\Python\\Python37\\lib\\site-packages\\keras\\backend\\tensorflow_backend.py:186: The name tf.Session is deprecated. Please use tf.compat.v1.Session instead.\n\nW1221 23:51:18.765772 26140 deprecation_wrapper.py:119] From C:\\Users\\yoshi\\AppData\\Local\\Programs\\Python\\Python37\\lib\\site-packages\\keras\\optimizers.py:790: The name tf.train.Optimizer is deprecated. Please use tf.compat.v1.train.Optimizer instead.\n\nW1221 23:51:18.772727 26140 deprecation.py:323] From C:\\Users\\yoshi\\AppData\\Local\\Programs\\Python\\Python37\\lib\\site-packages\\tensorflow\\python\\ops\\nn_impl.py:180: add_dispatch_support.<locals>.wrapper (from tensorflow.python.ops.array_ops) is deprecated and will be removed in a future version.\nInstructions for updating:\nUse tf.where in 2.0, which has the same broadcast rule as np.where\n__________________________________________________________________________________________________\nLayer (type)                    Output Shape         Param #     Connected to\n==================================================================================================\ninput_1 (InputLayer)            (None, 1)            0\n__________________________________________________________________________________________________\ninput_2 (InputLayer)            (None, 1)            0\n__________________________________________________________________________________________________\nembedding (Embedding)           (None, 1, 300)       7500000     input_1[0][0]\n                                                                 input_2[0][0]\n__________________________________________________________________________________________________\nreshape_1 (Reshape)             (None, 300, 1)       0           embedding[0][0]\n__________________________________________________________________________________________________\nreshape_2 (Reshape)             (None, 300, 1)       0           embedding[1][0]\n__________________________________________________________________________________________________\ndot_2 (Dot)                     (None, 1, 1)         0           reshape_1[0][0]\n                                                                 reshape_2[0][0]\n__________________________________________________________________________________________________\nreshape_3 (Reshape)             (None, 1)            0           dot_2[0][0]\n__________________________________________________________________________________________________\ndense_1 (Dense)                 (None, 1)            2           reshape_3[0][0]\n==================================================================================================\nTotal params: 7,500,002\nTrainable params: 7,500,002\nNon-trainable params: 0\n__________________________________________________________________________________________________\n[nltk_data] Downloading package stopwords to\n[nltk_data]     C:\\Users\\yoshi\\AppData\\Roaming\\nltk_data...\n[nltk_data]   Package stopwords is already up-to-date!\n"
    }
   ],
   "source": [
    "%run ../notebooks/runModel.ipynb"
   ]
  },
  {
   "cell_type": "code",
   "execution_count": 3,
   "metadata": {},
   "outputs": [],
   "source": [
    "formattedData=None\n",
    "names = [\"formattedData\"]\n",
    "for name in names:\n",
    "    with open(os.path.join(os.path.join(os.path.abspath(('.' if inNB() else '')+'./binaries'), \"pickles\"), name+\".pickle\"), \"rb\") as f:\n",
    "        globals()[name] = pickle.load(f)"
   ]
  },
  {
   "cell_type": "code",
   "execution_count": 4,
   "metadata": {},
   "outputs": [],
   "source": [
    "from tabulate import tabulate\n",
    "import random\n",
    "import itertools"
   ]
  },
  {
   "cell_type": "code",
   "execution_count": 5,
   "metadata": {},
   "outputs": [],
   "source": [
    "def unique(sequence):\n",
    "    words=[]\n",
    "    for phrase in sequence:\n",
    "        for word in phrase[0].split():\n",
    "            words.append(word)\n",
    "    seen = set()\n",
    "    return [x for x in words if not (x in seen or seen.add(x))]"
   ]
  },
  {
   "cell_type": "code",
   "execution_count": 8,
   "metadata": {},
   "outputs": [
    {
     "name": "stdout",
     "output_type": "stream",
     "text": "Pandascore & Gimli\nTextRank: ['data', 'points', 'feeds', 'pandascore', 'traditional', 'sports', 'live', 'streams']\nBlankSort:['pandascore', 'gimli', 'data', 'crunches', 'counterstrike', 'legends', 'streamers', 'ico']\nTags:['cryptocurrency', 'bitcoin', 'blockchain', 'esport', 'gaming']\nBlankSort vs Tags: 0/5\nTextRank vs Tags: 0/5\nBlankSort vs TextRank: 2/5\nMatching Keywords: {'pandascore', 'data'}\nCurrent score: 2/5 = 0.4\n\n\nThe Cambridge Analytica scandal and ethics in data science\nTextRank: ['data', 'science', 'impersonal', 'cambridge', 'analytica', 'scientists', 'his', 'skills', 'broader', 'legal', 'issues', 'mining']\nBlankSort:['data', 'cambridge', 'wylie', 'analytica', 'noting', 'scientists', 'politics', 'frightening', 'code', 'science', 'world', 'responsible']\nTags:['tech', 'technology', 'software']\nBlankSort vs Tags: 0/5\nTextRank vs Tags: 0/5\nBlankSort vs TextRank: 5/5\nMatching Keywords: {'cambridge', 'scientists', 'science', 'data', 'analytica'}\nCurrent score: 7/10 = 0.7\n\n\nChapter 1 : Supervised Learning and Naive Bayes Classification — Part 1 (Theory)\nTextRank: ['naive', 'bayes', 'classifier', 'classifiers', 'probability', 'posterior', 'highest', 'maximum', 'value', 'theorem', 'word']\nBlankSort:['smoke', 'p', 'bayes', 'naive', 'probability', 'b', 'fire', 'bob', 'alice', 'classifier', 'often']\nTags:['automation', 'intelligence', 'artificial', 'learning', 'machine']\nBlankSort vs Tags: 0/5\nTextRank vs Tags: 0/5\nBlankSort vs TextRank: 4/5\nMatching Keywords: {'naive', 'bayes', 'classifier', 'probability'}\nCurrent score: 11/15 = 0.7333333333333333\n\n\n5 Minutes of Curiosity\nTextRank: ['new', 'power', 'opportunities', 'remote', 'controlled', 'sex', 'toys', 'organ', 'donation', 'waiting', 'lists', 'curiosity', 'ideas']\nBlankSort:['steer', 'weds', 'curiosity', 'romps', 'new', 'watch', 'minutes', 'waterland', 'renewable', 'know', 'people', 'future', 'us']\nTags:['hacks', 'lifestyle', 'life']\nBlankSort vs Tags: 0/5\nTextRank vs Tags: 0/5\nBlankSort vs TextRank: 2/5\nMatching Keywords: {'new', 'curiosity'}\nCurrent score: 13/20 = 0.65\n\n\nAI startup “Jack” selected as TC Top Pick for TechCrunch Disrupt SF 2018\nTextRank: ['tc', 'top', 'pick', 'techcrunch', 'disrupt', 'sf', 'san', 'francisco', 'picks', 'startup', 'alley', 'battlefield', 'competitive']\nBlankSort:['techcrunch', 'tc', 'disrupt', 'top', 'francisco', 'battlefield', 'startup', 'pick', 'sf', 'san', 'conference', 'stage', 'amped']\nTags:['proptech', 'assistant', 'chatbots', 'property', 'ai', 'management', 'voice']\nBlankSort vs Tags: 0/5\nTextRank vs Tags: 0/5\nBlankSort vs TextRank: 5/5\nMatching Keywords: {'techcrunch', 'san', 'startup', 'top', 'pick', 'battlefield', 'francisco', 'sf', 'tc', 'disrupt'}\nCurrent score: 18/25 = 0.72\n\n\nKingsoft Corp and Bottos: An “Ai + Blockchain” Engine to drive Technological Innovation\nTextRank: ['kingsoft', 'cloud', 'storage', 'technology', 'bottos', 'blockchain', 'service', 'solutions', 'ai', 'propeller', 'products', 'platforms', 'strong', 'services', 'leading', 'computing']\nBlankSort:['kingsoft', 'ai', 'blockchain', 'technology', 'cloud', 'data', 'incongruence', 'computing', 'kbrain', 'platform', 'bottos', 'kap', 'kdl', 'smart', 'paas', 'kong']\nTags:['intelligence', 'artificial', 'data', 'blockchain', 'technology', 'big']\nBlankSort vs Tags: 3/5\nTextRank vs Tags: 2/5\nBlankSort vs TextRank: 5/5\nMatching Keywords: {'computing', 'cloud', 'technology', 'ai', 'kingsoft', 'bottos', 'blockchain'}\nCurrent score: 23/30 = 0.7666666666666667\n\n\nThis is How You Can Build a Better Data-Driven Organization: by Reducing Data\nTextRank: ['data', 'work', 'leadership', 'visualizations', 'reliable', 'trivial', 'things', 'people', 'better']\nBlankSort:['data', 'normal', 'dopamine', 'empowered', 'got', 'obsessed', 'work', 'organization', 'build']\nTags:['cryptocurrency', 'bitcoin', 'programming', 'blockchain', 'technology']\nBlankSort vs Tags: 0/5\nTextRank vs Tags: 0/5\nBlankSort vs TextRank: 2/5\nMatching Keywords: {'data', 'work'}\nCurrent score: 25/35 = 0.7142857142857143\n\n\nThe Holy Grail of Causal Inference\nTextRank: ['housing', 'prices', 'structural', 'models', 'commercial', 'affordable', 'estimation', 'utility', 'function', 'first', 'order']\nBlankSort:['structural', 'meghir', 'rci', 'decontrol', 'housing', 'estimation', 'mcquade', 'agent', 'rent', 'holy', 'set']\nTags:['intelligence', 'artificial', 'data', 'analytics', 'learning', 'science', 'machine', 'big']\nBlankSort vs Tags: 0/5\nTextRank vs Tags: 0/5\nBlankSort vs TextRank: 3/5\nMatching Keywords: {'structural', 'estimation', 'housing'}\nCurrent score: 28/40 = 0.7\n\n\nModeling Visual Neurons with Convolutional Neural Networks\nTextRank: ['cnn', 'architecture', 'image', 'visual', 'neurons', 'artificial', 'layers', 'biological', 'images', 'example', 'deeper']\nBlankSort:['neurons', 'neuron', 'image', 'biological', 'images', 'layers', 'input', 'cnn', 'layer', 'cnns', 'weights']\nTags:['intelligence', 'artificial', 'data', 'analytics', 'learning', 'science', 'machine', 'big']\nBlankSort vs Tags: 0/5\nTextRank vs Tags: 1/5\nBlankSort vs TextRank: 5/5\nMatching Keywords: {'biological', 'neurons', 'cnn', 'layers', 'images', 'image'}\nCurrent score: 33/45 = 0.7333333333333333\n\n\nLearning to Learn\nTextRank: ['conversation', 'many', 'other', 'team', 'design', 'researchers', 'additional', 'interviews', 'human', 'emotions', 'behaviors']\nBlankSort:['ursa', 'conversation', 'conversations', 'design', 'researchers', 'teams', 'discovered', 'excelled', 'consultants', 'human', 'consultancy']\nTags:['user', 'research', 'learning', 'ux', 'machine', 'design']\nBlankSort vs Tags: 1/5\nTextRank vs Tags: 1/5\nBlankSort vs TextRank: 4/5\nMatching Keywords: {'human', 'conversation', 'design', 'researchers'}\nCurrent score: 37/50 = 0.74\n\n\n"
    }
   ],
   "source": [
    "total=0\n",
    "i=0\n",
    "while i in range(10):\n",
    "    test=random.choice(formattedData)\n",
    "    #print(test[\"text\"])\n",
    "    #print(\"\\n\")\n",
    "    topN=5\n",
    "    if(test[\"tags\"][0] != \"nan\"):\n",
    "        print(test[\"title\"])\n",
    "        textrank=rankText(test[\"text\"])\n",
    "        trTopN=sum(len(i[0].split()) for i in textrank[:topN])\n",
    "        textrank=unique(textrank)[:trTopN]\n",
    "        print(\"TextRank: \"+str(textrank))\n",
    "        blanksort=[t[0] for t in returnRanks(test[\"text\"])[:trTopN]]\n",
    "        print(\"BlankSort: \", blanksort)\n",
    "        print(\"Tags: \", test[\"tags\"])\n",
    "        blanksortVStags=len(set(blanksort)&set(test[\"tags\"]))\n",
    "        textrankVStags=len(set(textrank)&set(test[\"tags\"]))\n",
    "        blanksortANDtextrank=set(blanksort)&set(textrank)\n",
    "        blanksortVStextrank=len(blanksortANDtextrank)\n",
    "        blanksortVStextrank=min(blanksortVStextrank,5)\n",
    "        print(\"BlankSort vs Tags: \"+str(blanksortVStags),\"/\",topN)\n",
    "        print(\"TextRank vs Tags: \"+str(textrankVStags),\"/\",topN)\n",
    "        print(\"BlankSort vs TextRank: \"+str(blanksortVStextrank),\"/\",topN)\n",
    "        print(\"Matching Keywords: \" + str(blanksortANDtextrank))\n",
    "        total+=blanksortVStextrank\n",
    "        i+=1\n",
    "        print(\"Current score: \"+str(total)+\"/\"+str(i*5)+\" = \" + str(total/(i*5)))\n",
    "        print(\"\\n\")"
   ]
  }
 ]
}